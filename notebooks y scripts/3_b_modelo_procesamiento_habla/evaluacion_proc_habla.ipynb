{
 "cells": [
  {
   "cell_type": "markdown",
   "metadata": {},
   "source": [
    "### Librerias y paquetes"
   ]
  },
  {
   "cell_type": "markdown",
   "metadata": {},
   "source": [
    "#### *Entorno virtuales*"
   ]
  },
  {
   "cell_type": "code",
   "execution_count": 1,
   "metadata": {},
   "outputs": [],
   "source": [
    "# Create and activate virtual env for speech processing stage\n",
    "!python3 -m venv proc_habla\n",
    "!source proc_habla/bin/activate"
   ]
  },
  {
   "cell_type": "markdown",
   "metadata": {},
   "source": [
    "#### *Instalacion*"
   ]
  },
  {
   "cell_type": "code",
   "execution_count": 2,
   "metadata": {},
   "outputs": [
    {
     "name": "stdout",
     "output_type": "stream",
     "text": [
      "Requirement already satisfied: conllu in /Library/Frameworks/Python.framework/Versions/3.11/lib/python3.11/site-packages (4.5.3)\n",
      "Requirement already satisfied: import-ipynb in /Library/Frameworks/Python.framework/Versions/3.11/lib/python3.11/site-packages (0.1.4)\n",
      "Requirement already satisfied: IPython in /Users/cristianariel/Library/Python/3.11/lib/python/site-packages (from import-ipynb) (8.14.0)\n",
      "Requirement already satisfied: nbformat in /Library/Frameworks/Python.framework/Versions/3.11/lib/python3.11/site-packages (from import-ipynb) (5.9.2)\n",
      "Requirement already satisfied: backcall in /Users/cristianariel/Library/Python/3.11/lib/python/site-packages (from IPython->import-ipynb) (0.2.0)\n",
      "Requirement already satisfied: decorator in /Users/cristianariel/Library/Python/3.11/lib/python/site-packages (from IPython->import-ipynb) (5.1.1)\n",
      "Requirement already satisfied: jedi>=0.16 in /Users/cristianariel/Library/Python/3.11/lib/python/site-packages (from IPython->import-ipynb) (0.19.0)\n",
      "Requirement already satisfied: matplotlib-inline in /Users/cristianariel/Library/Python/3.11/lib/python/site-packages (from IPython->import-ipynb) (0.1.6)\n",
      "Requirement already satisfied: pickleshare in /Users/cristianariel/Library/Python/3.11/lib/python/site-packages (from IPython->import-ipynb) (0.7.5)\n",
      "Requirement already satisfied: prompt-toolkit!=3.0.37,<3.1.0,>=3.0.30 in /Users/cristianariel/Library/Python/3.11/lib/python/site-packages (from IPython->import-ipynb) (3.0.39)\n",
      "Requirement already satisfied: pygments>=2.4.0 in /Users/cristianariel/Library/Python/3.11/lib/python/site-packages (from IPython->import-ipynb) (2.16.1)\n",
      "Requirement already satisfied: stack-data in /Users/cristianariel/Library/Python/3.11/lib/python/site-packages (from IPython->import-ipynb) (0.6.2)\n",
      "Requirement already satisfied: traitlets>=5 in /Users/cristianariel/Library/Python/3.11/lib/python/site-packages (from IPython->import-ipynb) (5.9.0)\n",
      "Requirement already satisfied: pexpect>4.3 in /Users/cristianariel/Library/Python/3.11/lib/python/site-packages (from IPython->import-ipynb) (4.8.0)\n",
      "Requirement already satisfied: appnope in /Users/cristianariel/Library/Python/3.11/lib/python/site-packages (from IPython->import-ipynb) (0.1.3)\n",
      "Requirement already satisfied: fastjsonschema in /Library/Frameworks/Python.framework/Versions/3.11/lib/python3.11/site-packages (from nbformat->import-ipynb) (2.18.0)\n",
      "Requirement already satisfied: jsonschema>=2.6 in /Library/Frameworks/Python.framework/Versions/3.11/lib/python3.11/site-packages (from nbformat->import-ipynb) (4.19.0)\n",
      "Requirement already satisfied: jupyter-core in /Users/cristianariel/Library/Python/3.11/lib/python/site-packages (from nbformat->import-ipynb) (5.3.1)\n",
      "Requirement already satisfied: parso<0.9.0,>=0.8.3 in /Users/cristianariel/Library/Python/3.11/lib/python/site-packages (from jedi>=0.16->IPython->import-ipynb) (0.8.3)\n",
      "Requirement already satisfied: attrs>=22.2.0 in /Library/Frameworks/Python.framework/Versions/3.11/lib/python3.11/site-packages (from jsonschema>=2.6->nbformat->import-ipynb) (23.1.0)\n",
      "Requirement already satisfied: jsonschema-specifications>=2023.03.6 in /Library/Frameworks/Python.framework/Versions/3.11/lib/python3.11/site-packages (from jsonschema>=2.6->nbformat->import-ipynb) (2023.7.1)\n",
      "Requirement already satisfied: referencing>=0.28.4 in /Library/Frameworks/Python.framework/Versions/3.11/lib/python3.11/site-packages (from jsonschema>=2.6->nbformat->import-ipynb) (0.30.2)\n",
      "Requirement already satisfied: rpds-py>=0.7.1 in /Library/Frameworks/Python.framework/Versions/3.11/lib/python3.11/site-packages (from jsonschema>=2.6->nbformat->import-ipynb) (0.9.2)\n",
      "Requirement already satisfied: ptyprocess>=0.5 in /Users/cristianariel/Library/Python/3.11/lib/python/site-packages (from pexpect>4.3->IPython->import-ipynb) (0.7.0)\n",
      "Requirement already satisfied: wcwidth in /Users/cristianariel/Library/Python/3.11/lib/python/site-packages (from prompt-toolkit!=3.0.37,<3.1.0,>=3.0.30->IPython->import-ipynb) (0.2.6)\n",
      "Requirement already satisfied: platformdirs>=2.5 in /Users/cristianariel/Library/Python/3.11/lib/python/site-packages (from jupyter-core->nbformat->import-ipynb) (3.10.0)\n",
      "Requirement already satisfied: executing>=1.2.0 in /Users/cristianariel/Library/Python/3.11/lib/python/site-packages (from stack-data->IPython->import-ipynb) (1.2.0)\n",
      "Requirement already satisfied: asttokens>=2.1.0 in /Users/cristianariel/Library/Python/3.11/lib/python/site-packages (from stack-data->IPython->import-ipynb) (2.2.1)\n",
      "Requirement already satisfied: pure-eval in /Users/cristianariel/Library/Python/3.11/lib/python/site-packages (from stack-data->IPython->import-ipynb) (0.2.2)\n",
      "Requirement already satisfied: six in /Library/Frameworks/Python.framework/Versions/3.11/lib/python3.11/site-packages (from asttokens>=2.1.0->stack-data->IPython->import-ipynb) (1.16.0)\n"
     ]
    }
   ],
   "source": [
    "# title dependencias previas\n",
    "!pip3 install conllu\n",
    "!pip3 install import-ipynb"
   ]
  },
  {
   "cell_type": "markdown",
   "metadata": {},
   "source": [
    "#### *Importacion*"
   ]
  },
  {
   "cell_type": "code",
   "execution_count": 3,
   "metadata": {},
   "outputs": [],
   "source": [
    "import spacy\n",
    "from spacy.training import Example\n",
    "from spacy.util import minibatch\n",
    "import random\n",
    "import conllu\n",
    "from conllu import parse_incr\n",
    "from funciones_comunes.common_functions import procesar_texto\n",
    "import seaborn as sns\n",
    "import matplotlib.pyplot as plt\n",
    "import pandas as pd"
   ]
  },
  {
   "cell_type": "markdown",
   "metadata": {},
   "source": [
    "### Lectura de datos"
   ]
  },
  {
   "cell_type": "markdown",
   "metadata": {},
   "source": [
    "#### *Corpus*\n",
    "Se descarga el corpus mas actualizado y en español que se pudo encontrar (2024), se espera para futuras versiones poder hacer evaluacion con corpus especializados en el mercado al que esta destinado el ChatBot"
   ]
  },
  {
   "cell_type": "code",
   "execution_count": 4,
   "metadata": {},
   "outputs": [
    {
     "name": "stdout",
     "output_type": "stream",
     "text": [
      "fatal: destination path 'UD_Spanish-AnCora' already exists and is not an empty directory.\n"
     ]
    }
   ],
   "source": [
    "!git clone https://github.com/UniversalDependencies/UD_Spanish-AnCora.git"
   ]
  },
  {
   "cell_type": "code",
   "execution_count": 5,
   "metadata": {},
   "outputs": [],
   "source": [
    "real_tokens = []\n",
    "corpus_text = ''"
   ]
  },
  {
   "cell_type": "code",
   "execution_count": 6,
   "metadata": {},
   "outputs": [],
   "source": [
    "# lista con oraciones del corpus\n",
    "oraciones = []\n",
    "\n",
    "# abro el corpus\n",
    "with open(\"UD_Spanish-AnCora/es_ancora-ud-dev.conllu\", \"r\", encoding=\"utf-8\") as data_file:\n",
    "    corpus = parse_incr(data_file)\n",
    "    # Recorro el corpus y almaceno cada oracion del mismo en la lista 'oraciones'\n",
    "    for tokenlist in parse_incr(data_file):\n",
    "        oraciones.append(tokenlist)"
   ]
  },
  {
   "cell_type": "code",
   "execution_count": 7,
   "metadata": {},
   "outputs": [],
   "source": [
    "# almaceno cada token de cada oracion en una lista especializada\n",
    "for token in tokenlist:\n",
    "    real_tokens.append(token['form'])"
   ]
  },
  {
   "cell_type": "markdown",
   "metadata": {},
   "source": [
    "## Codigo general a todas las etapas"
   ]
  },
  {
   "cell_type": "code",
   "execution_count": 8,
   "metadata": {},
   "outputs": [],
   "source": [
    "nlp = spacy.load(\"es_core_news_sm\")"
   ]
  },
  {
   "cell_type": "code",
   "execution_count": 9,
   "metadata": {},
   "outputs": [],
   "source": [
    "# Concatena todos los tokens en una sola cadena de texto\n",
    "all_text = \" \".join(real_tokens)"
   ]
  },
  {
   "cell_type": "code",
   "execution_count": 10,
   "metadata": {},
   "outputs": [],
   "source": [
    "spacy_text = procesar_texto(all_text, nlp=nlp)"
   ]
  },
  {
   "cell_type": "code",
   "execution_count": 11,
   "metadata": {},
   "outputs": [],
   "source": [
    "spacy_tokens_all_text = spacy_text['tokens']"
   ]
  },
  {
   "cell_type": "markdown",
   "metadata": {},
   "source": [
    "## Evaluación de etiquetado de secuencias\n",
    "\n",
    "Se evalúa qué tan bien el modelo pre-entrenado de spaCy puede asignar etiquetas de partes del discurso correctas a cada palabra en una oración."
   ]
  },
  {
   "cell_type": "code",
   "execution_count": 12,
   "metadata": {},
   "outputs": [],
   "source": [
    "oraciones_mal_tokenizadas = 0"
   ]
  },
  {
   "cell_type": "code",
   "execution_count": 14,
   "metadata": {},
   "outputs": [],
   "source": [
    "# Se almacena en formato admitido por spaCy, los tokens y etiquetas de el corpus de ancora.\n",
    "\n",
    "examples = []\n",
    "\n",
    "# reccorro cada oracion \n",
    "for oracion in oraciones:\n",
    "    # almaceno en la lista 'words' las palabras/tokens de la oracion actual (etiquetadas asi en el corpus)\n",
    "    words = [token['form'] for token in oracion]\n",
    "    lemmas = [token['lemma'] for token in oracion]\n",
    "    # almaceno en la lista 'pos_tags' las etiquetas gramaticales de cada palabra/token de la oracion actual (etiquetadas asi en el corpus)\n",
    "    pos_tags = [token['upostag'] for token in oracion]\n",
    "    \n",
    "    # Aseguro que la tokenización coincida entre spaCy y conllu (por lo que de momento sera util para comprobar el etiquetado gramatical)\n",
    "    # vuelco en la variable 'doc' todas los tokens de la oracion\n",
    "    doc_spacy = nlp.make_doc(\" \".join(words))\n",
    "    # almaceno en doc_spacy_tokens, la variable los tokens previos\n",
    "    doc_spacy_tokens = [token.text for token in doc_spacy]\n",
    "    # Obtengo los lemas de los tokens previos\n",
    "    doc_spacy_lemmas = [token.lemma_ for token in doc_spacy]\n",
    "    # Si spacy tokeniza de manera diferente a lo que se espera en el corpus, se cuenta como oracion mal tokenizada\n",
    "    if len(doc_spacy_tokens) != len(pos_tags):\n",
    "        oraciones_mal_tokenizadas +=1\n",
    "        continue\n",
    "    \n",
    "    # Se crea el formato de entrada y salida de spaCy para su posterior evaluacion\n",
    "    example = Example.from_dict(doc_spacy, {\"tags\": pos_tags})\n",
    "    examples.append(example)"
   ]
  },
  {
   "cell_type": "code",
   "execution_count": 15,
   "metadata": {},
   "outputs": [],
   "source": [
    "# Separo un conjunto de evaluación tomando 10% del corpus\n",
    "random.shuffle(examples)\n",
    "split = int(len(examples) * 0.9)\n",
    "train_data = examples[:split]\n",
    "eval_data = examples[split:]"
   ]
  },
  {
   "cell_type": "code",
   "execution_count": 16,
   "metadata": {},
   "outputs": [],
   "source": [
    "# Evaluo el modelo con los datos de evaluación\n",
    "\n",
    "scorer = nlp.evaluate(eval_data)"
   ]
  },
  {
   "cell_type": "code",
   "execution_count": 17,
   "metadata": {},
   "outputs": [
    {
     "data": {
      "text/plain": [
       "0.9423182567295367"
      ]
     },
     "execution_count": 17,
     "metadata": {},
     "output_type": "execute_result"
    }
   ],
   "source": [
    "scorer['tag_acc']"
   ]
  },
  {
   "cell_type": "markdown",
   "metadata": {},
   "source": [
    "## Evaluacion de tokenización\n",
    "Se comprueba si el texto se divide correctamente en palabras y puntuaciones."
   ]
  },
  {
   "cell_type": "code",
   "execution_count": 20,
   "metadata": {},
   "outputs": [],
   "source": [
    "porcentaje_acierto_tokenizacion = (len(oraciones)-oraciones_mal_tokenizadas) * 100 / len(oraciones)"
   ]
  },
  {
   "cell_type": "code",
   "execution_count": 21,
   "metadata": {},
   "outputs": [
    {
     "data": {
      "text/plain": [
       "99.03264812575574"
      ]
     },
     "execution_count": 21,
     "metadata": {},
     "output_type": "execute_result"
    }
   ],
   "source": [
    "porcentaje_acierto_tokenizacion"
   ]
  },
  {
   "cell_type": "markdown",
   "metadata": {},
   "source": [
    "## Evaluacion de Lematización\n",
    "Se verifica la presicion con la que Spacy asigna correctamente el lema a cada palabra."
   ]
  },
  {
   "cell_type": "code",
   "execution_count": 22,
   "metadata": {},
   "outputs": [
    {
     "data": {
      "text/plain": [
       "'\\n# Comparar las lematizaciones generadas por spaCy con las lematizaciones reales del corpus\\ncorrect_count = sum(1 for doc_spacy_lemma, lemma in zip(doc_spacy_lemmas, lemmas) if doc_spacy_lemma == lemma)\\ntotal_count = len(lemmas)\\n\\n# Calcular la precisión de la lematización\\nprecision = correct_count / total_count\\nprint(\"Precision:\", precision)\\n'"
      ]
     },
     "execution_count": 22,
     "metadata": {},
     "output_type": "execute_result"
    }
   ],
   "source": [
    "'''\n",
    "# Comparar las lematizaciones generadas por spaCy con las lematizaciones reales del corpus\n",
    "correct_count = sum(1 for doc_spacy_lemma, lemma in zip(doc_spacy_lemmas, lemmas) if doc_spacy_lemma == lemma)\n",
    "total_count = len(lemmas)\n",
    "\n",
    "# Calcular la precisión de la lematización\n",
    "precision = correct_count / total_count\n",
    "print(\"Precision:\", precision)\n",
    "'''"
   ]
  },
  {
   "cell_type": "markdown",
   "metadata": {},
   "source": [
    "## Graficos de las diferentes evaluaciones"
   ]
  },
  {
   "cell_type": "code",
   "execution_count": 23,
   "metadata": {},
   "outputs": [
    {
     "data": {
      "image/png": "[encoded data removed]",
      "text/plain": [
       "<Figure size 800x600 with 1 Axes>"
      ]
     },
     "metadata": {},
     "output_type": "display_data"
    }
   ],
   "source": [
    "# Se obtienen los valores de precisión\n",
    "precision_etiquetado = scorer['tag_acc'] * 100\n",
    "precision_tokenizacion = porcentaje_acierto_tokenizacion\n",
    "\n",
    "# Se crea un DataFrame de Pandas con los valores de precisión\n",
    "data = pd.DataFrame({'etiquetado_gramatical': [precision_etiquetado], 'oraciones_tokenizadas': [precision_tokenizacion]})\n",
    "# Se establece un índice explícito\n",
    "data.index = ['Precisión']  # Establecer un índice explícito\n",
    "\n",
    "# Se crea un gráfico de barras utilizando Seaborn\n",
    "# Tamaño del grafico\n",
    "plt.figure(figsize=(8, 6))\n",
    "# Altura de la linea horizontal que fijara el 100%\n",
    "plt.axhline(100, color='r')\n",
    "# Estilo del grafico de barras y cuadricula\n",
    "sns.set(style=\"whitegrid\")\n",
    "sns.barplot(data=data, palette=\"Blues\")\n",
    "\n",
    "# Título al gráfico\n",
    "plt.title(\"Precisión de Etiquetado Gramatical y Tokenización de oraciones\")\n",
    "\n",
    "plt.ylabel('Precisión')\n",
    "plt.show()"
   ]
  },
  {
   "cell_type": "markdown",
   "metadata": {},
   "source": [
    "### Observaciones\n",
    "\n",
    "Etiquetado Gramatical:\n",
    "\n",
    "La herramienta spaCy ha demostrado una alta precisión en el etiquetado gramatical de los tokens, alcanzando una precisión del 94.23%. Esto indica que en la mayoría de los casos, spaCy identifica correctamente las partes del discurso (sustantivos, verbos, adjetivos, etc.) de cada palabra dentro del texto analizado.\n",
    "\n",
    "Tokenización de Oraciones:\n",
    "\n",
    "En cuanto a la tokenización de oraciones, spaCy proporciona una fiabilidad del 99.03% cuando se compara con la tokenización manual o \"real\". Esto sugiere que spaCy es muy eficiente al dividir el texto en oraciones, asegurando que la gran mayoría de las oraciones se segmentan correctamente de acuerdo con las expectativas humanas."
   ]
  }
 ],
 "metadata": {
  "kernelspec": {
   "display_name": "Python 3",
   "language": "python",
   "name": "python3"
  },
  "language_info": {
   "codemirror_mode": {
    "name": "ipython",
    "version": 3
   },
   "file_extension": ".py",
   "mimetype": "text/x-python",
   "name": "python",
   "nbconvert_exporter": "python",
   "pygments_lexer": "ipython3",
   "version": "3.11.4"
  }
 },
 "nbformat": 4,
 "nbformat_minor": 2
}
