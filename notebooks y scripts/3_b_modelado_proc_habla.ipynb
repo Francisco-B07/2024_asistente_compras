{
  "cells": [
    {
      "cell_type": "markdown",
      "metadata": {},
      "source": [
        "# **Procesamiento del habla**"
      ]
    },
    {
      "cell_type": "markdown",
      "metadata": {
        "id": "XTpu7pHup5pq"
      },
      "source": [
        "## Estructura de sub-etapas\n",
        "\n",
        "---\n",
        "\n",
        "```\n",
        "├── Input Layer\n",
        "│   ├── Audio Capture\n",
        "│   └── ASR (Speech-to-Text)\n",
        "├── NLP Layer\n",
        "│   ├── Text Preprocessing\n",
        "│   ├── Intent Detection\n",
        "│   ├── Entity Recognition\n",
        "│   └── Sentiment Analysis\n",
        "├── Dialogue Management\n",
        "│   ├── State Management\n",
        "│   ├── Response Generation\n",
        "│   ├── Response Selection\n",
        "│   └── Context Handling\n",
        "├── Output Layer\n",
        "│   ├── TTS (Text-to-Speech)\n",
        "│   └── Audio Playback\n",
        "\n",
        "```\n"
      ]
    },
    {
      "cell_type": "markdown",
      "metadata": {},
      "source": [
        "*Bugs*\n",
        "- [ ] Comentarios en español y aclarativos\n",
        "\n",
        "- [ ] Completar estructura operativa\n",
        "\n",
        "- [ ] Limpiar librerias y paquetes dejando solo los que se usen\n",
        "\n",
        "- [ ] Esqueleto asci de etapas: \n",
        "\n",
        "    depurado\n",
        "\n",
        "    en español\n",
        "\n",
        "- [ ] Estructura markdown\n",
        "\n",
        "    Jerarquia de encabezados\n",
        "\n",
        "    Negritas\n",
        "\n",
        "    Colores resaltados\n",
        "\n",
        "- [ ] hablar con francisco sobre dic de salida y como resivo esos datos\n",
        "- [ ] Definir como se conectara esta etapa con despliegue:\n",
        "\n",
        "- [ ] agregar id_consulta a archivos de entrada y salida\n",
        "\n",
        "    \n",
        "    llamara a la funcion chatbot?\n",
        "    \n",
        "    exporto un diccionario\n",
        "    \n",
        "    Exporto un modelo?\n",
        "\n",
        "- [ ] text to speech\n",
        "\n",
        "    Corregir pronunciacion ars\n",
        "\n",
        "- [ ] reconocimiento de voz"
      ]
    },
    {
      "cell_type": "markdown",
      "metadata": {
        "id": "ba_DUci1CkX6"
      },
      "source": [
        "#### _Estructura operativa para cada sub-etapa:_\n",
        "\n",
        "**Selección de técnicas de modelado:** En este caso se utilizara [] para la etapa de reconocimiento de voz, [] para el procesamiento y analisis de texto y [] para la conversion de texto a voz.\n",
        "\n",
        "**Generación de un diseño de comprobación:** Para elegir el modelo correcto, este devera ser el que pondere mas alto en un promedio de las diferentes metricas de evaluacion del modelo.\n",
        "\n",
        "**Generación de los modelos:** Se definiran y configuraran los parametros del modelo para pasar a la etapa de ejecucion y descripcion.\n",
        "\n",
        "**Evaluación del modelo:** Se evaluaran los diferentes modelos de manera individual en busqueda de optimizar sus parametros y escoger la combinacion mas optima entre modelos / parametros individuales."
      ]
    },
    {
      "cell_type": "markdown",
      "metadata": {},
      "source": [
        "### Librerias y paquetes"
      ]
    },
    {
      "cell_type": "markdown",
      "metadata": {},
      "source": [
        "#### *Entorno virtuales*"
      ]
    },
    {
      "cell_type": "code",
      "execution_count": null,
      "metadata": {},
      "outputs": [],
      "source": [
        "# Create and activate virtual env for speech processing stage\n",
        "!python3 -m venv proc_habla\n",
        "!source proc_habla/bin/activate"
      ]
    },
    {
      "cell_type": "markdown",
      "metadata": {},
      "source": [
        "#### *Instalacion*"
      ]
    },
    {
      "cell_type": "code",
      "execution_count": null,
      "metadata": {},
      "outputs": [],
      "source": [
        "# Librerias de preprocesamiento\n",
        "!pip3 install sounddevice\n",
        "!pip3 install scipy\n",
        "!pip3 install pydub\n",
        "\n",
        "# Librerias de reconocimiento de voz\n",
        "!pip3 install pocketsphinx\n",
        "!pip3 install SpeechRecognition\n",
        "\n",
        "# Librerias de generacion de voz\n",
        "!pip3 install gtts\n",
        "# Librerias de analisis linguistico\n",
        "!pip3 install spacy"
      ]
    },
    {
      "cell_type": "code",
      "execution_count": null,
      "metadata": {},
      "outputs": [],
      "source": [
        "!python3 -m spacy download es_core_news_sm"
      ]
    },
    {
      "cell_type": "markdown",
      "metadata": {},
      "source": [
        "#### *Importacion*"
      ]
    },
    {
      "cell_type": "code",
      "execution_count": null,
      "metadata": {},
      "outputs": [],
      "source": [
        "# Librerías para reconocimiento de voz y procesamiento de audio\n",
        "import speech_recognition as sr\n",
        "import sounddevice as sd\n",
        "from scipy.io.wavfile import write\n",
        "import queue\n",
        "import threading\n",
        "from pydub import AudioSegment\n",
        "\n",
        "# Librerías para manipulación de archivos y compresión\n",
        "import wave\n",
        "import zipfile\n",
        "import os\n",
        "import subprocess\n",
        "\n",
        "# Librerías para procesamiento de datos y análisis\n",
        "import numpy as np\n",
        "import pandas as pd\n",
        "import spacy\n",
        "import re\n",
        "\n",
        "# Librería para generación de voz\n",
        "from gtts import gTTS\n",
        "\n",
        "# Importación de funciones comunes a otros cuadernos\n",
        "from funciones_comunes import common_functions"
      ]
    },
    {
      "cell_type": "markdown",
      "metadata": {
        "id": "T0MT6XY2qoIA"
      },
      "source": [
        "## 1. Reconocimiento del Habla\n",
        "\n",
        "___"
      ]
    },
    {
      "cell_type": "code",
      "execution_count": null,
      "metadata": {},
      "outputs": [],
      "source": [
        "# Ruta del archivo zip descargado\n",
        "ruta_modelo_comprimido_pocketsphinx_esp = \"../datos/brutos/modelos_proc_habla/modelo_esp.zip\"\n",
        "\n",
        "# Directorio donde se colocarán los archivos descomprimidos\n",
        "ruta_modelo_descomprimido_pocketsphinx_esp = \"/Library/Frameworks/Python.framework/Versions/3.11/lib/python3.11/site-packages/speech_recognition/pocketsphinx-data/es-ES/\"\n",
        "\n",
        "# Descomprimir el archivo zip\n",
        "with zipfile.ZipFile(ruta_modelo_comprimido_pocketsphinx_esp, 'r') as zip_ref:\n",
        "    zip_ref.extractall(ruta_modelo_descomprimido_pocketsphinx_esp)\n",
        "\n",
        "print(\"Archivos descomprimidos en:\", ruta_modelo_descomprimido_pocketsphinx_esp)"
      ]
    },
    {
      "cell_type": "code",
      "execution_count": null,
      "metadata": {},
      "outputs": [],
      "source": [
        "try:\n",
        "    subprocess.run([\"sudo\", \"apt-get\", \"install\", \"ffmpeg\"])\n",
        "    print(\"FFmpeg instalado exitosamente en sistemas basados en Debian.\")\n",
        "except Exception as e:\n",
        "    print(\"Error al instalar FFmpeg:\", e)\n",
        "try:\n",
        "    subprocess.run([\"brew\", \"install\", \"ffmpeg\"])\n",
        "    print(\"FFmpeg instalado exitosamente en macOS utilizando Homebrew.\")\n",
        "except Exception as e:\n",
        "    print(\"Error al instalar FFmpeg:\", e)"
      ]
    },
    {
      "cell_type": "markdown",
      "metadata": {},
      "source": [
        "### DataFrames"
      ]
    },
    {
      "cell_type": "code",
      "execution_count": null,
      "metadata": {},
      "outputs": [],
      "source": [
        "consulta_dict = {}"
      ]
    },
    {
      "cell_type": "code",
      "execution_count": null,
      "metadata": {},
      "outputs": [],
      "source": [
        "path_csv_rutas_verduras = '../datos/procesaodos/VerdurasporSupermercado.csv'\n",
        "df_frutas_verduras = pd.read_csv(path_csv_rutas_verduras)"
      ]
    },
    {
      "cell_type": "code",
      "execution_count": null,
      "metadata": {},
      "outputs": [],
      "source": [
        "df_frutas_verduras.head(10)"
      ]
    },
    {
      "cell_type": "markdown",
      "metadata": {},
      "source": [
        "### a. Captura de entradas de texto"
      ]
    },
    {
      "cell_type": "code",
      "execution_count": null,
      "metadata": {},
      "outputs": [],
      "source": [
        "#Conexion con api de fast-api\n",
        "# aui iria la conexion con un script encargado de conectar con la api de fast-api"
      ]
    },
    {
      "cell_type": "code",
      "execution_count": null,
      "metadata": {},
      "outputs": [],
      "source": [
        "texto_prueba = 'estoy buscando tomates en oferta pero que esten bien rojitos :p'"
      ]
    },
    {
      "cell_type": "markdown",
      "metadata": {},
      "source": [
        "### b. Captura de Audio"
      ]
    },
    {
      "cell_type": "code",
      "execution_count": null,
      "metadata": {
        "id": "8bLph4ehd_0_"
      },
      "outputs": [],
      "source": [
        "SAMPLE_RATE = 44100  # Tasa de muestreo\n",
        "DURATION = 10  # Duración de la grabación en segundos\n",
        "AUDIO_FILES_PATH = \"../datos/brutos/audios_proc_habla/\"\n",
        "FILENAME = \"output\"  # Nombre del archivo de salida\n",
        "EXTENCION_ENTRADA = '.wav'\n",
        "EXTENCION_SALIDA = '.aiff'"
      ]
    },
    {
      "cell_type": "code",
      "execution_count": null,
      "metadata": {},
      "outputs": [],
      "source": [
        "ruta_audio_entrada = AUDIO_FILES_PATH + FILENAME + EXTENCION_ENTRADA\n",
        "ruta_audio_entrada_convertido = AUDIO_FILES_PATH + 'waw_conv_' + FILENAME + EXTENCION_SALIDA"
      ]
    },
    {
      "cell_type": "code",
      "execution_count": null,
      "metadata": {
        "id": "5W7StwLecqQV"
      },
      "outputs": [],
      "source": [
        "def record_audio(audio_file_path = AUDIO_FILES_PATH, filename = FILENAME, duration = DURATION, sample_rate = SAMPLE_RATE):\n",
        "    print(\"Grabando...\")\n",
        "    # Grabar audio con 1 canal (mono)\n",
        "    recording = sd.rec(int(duration * sample_rate), samplerate=sample_rate, channels=1)\n",
        "    sd.wait()  # Esperar a que termine la grabación\n",
        "    print(\"Grabación finalizada\")\n",
        "    write(ruta_audio_entrada, sample_rate, recording)\n",
        "    return filename"
      ]
    },
    {
      "cell_type": "code",
      "execution_count": null,
      "metadata": {},
      "outputs": [],
      "source": [
        "def convert_to_wav(input_file = ruta_audio_entrada, output_file = ruta_audio_entrada_convertido):\n",
        "    sound = AudioSegment.from_file(input_file)\n",
        "    sound.export(output_file, format=\"aiff\")"
      ]
    },
    {
      "cell_type": "code",
      "execution_count": null,
      "metadata": {},
      "outputs": [],
      "source": [
        "def chatbot():\n",
        "    record_audio()"
      ]
    },
    {
      "cell_type": "code",
      "execution_count": null,
      "metadata": {},
      "outputs": [],
      "source": [
        "chatbot()"
      ]
    },
    {
      "cell_type": "code",
      "execution_count": null,
      "metadata": {},
      "outputs": [],
      "source": [
        "# Uso de la función convert_to_wav\n",
        "convert_to_wav(ruta_audio_entrada, ruta_audio_entrada_convertido)"
      ]
    },
    {
      "cell_type": "markdown",
      "metadata": {
        "id": "c6PxS_YcrlCZ"
      },
      "source": [
        "#### Reconocimiento del Habla (ASR - Automatic Speech Recognition):"
      ]
    },
    {
      "cell_type": "code",
      "execution_count": null,
      "metadata": {
        "id": "YfbVSNU0m3N4"
      },
      "outputs": [],
      "source": [
        "# Crear un objeto Recognizer\n",
        "recognizer = sr.Recognizer()"
      ]
    },
    {
      "cell_type": "code",
      "execution_count": null,
      "metadata": {},
      "outputs": [],
      "source": [
        "def recognize_speech():\n",
        "    recognizer = sr.Recognizer()\n",
        "\n",
        "    try:\n",
        "        with sr.AudioFile(ruta_audio_entrada_convertido) as source:\n",
        "            audio_data = recognizer.record(source)\n",
        "            text = recognizer.recognize_sphinx(audio_data, language=\"es-ES\")\n",
        "            print(\"Texto reconocido:\", text)\n",
        "    except sr.UnknownValueError:\n",
        "        print(\"No se pudo entender el audio\")\n",
        "    except sr.RequestError as e:\n",
        "        print(\"Error al solicitar resultados de reconocimiento de voz; {0}\".format(e))"
      ]
    },
    {
      "cell_type": "code",
      "execution_count": null,
      "metadata": {},
      "outputs": [],
      "source": [
        "# Ejecutar la función para reconocer el discurso\n",
        "recognize_speech()"
      ]
    },
    {
      "cell_type": "code",
      "execution_count": null,
      "metadata": {
        "id": "xEwSWIZcp4zp"
      },
      "outputs": [],
      "source": [
        "# Abrir el archivo de audio\n",
        "def transcribe_audio(audio_lang = 'es-ES'):\n",
        "    with sr.AudioFile(ruta_audio_entrada_convertido) as source:\n",
        "        # Escuchar el audio (en inglés)\n",
        "        audio = recognizer.record(source)\n",
        "\n",
        "        # Utilizar Google Speech Recognition para transcribir el audio\n",
        "        try:\n",
        "            text = recognizer.recognize_google(audio, audio_lang)\n",
        "            print(\"Transcripción: \", text)\n",
        "            return text\n",
        "        except sr.UnknownValueError:\n",
        "            print(\"No se pudo entender el audio\")\n",
        "        except sr.RequestError as e:\n",
        "            print(\"Error al solicitar resultados del servicio Google Speech Recognition; {0}\".format(e))"
      ]
    },
    {
      "cell_type": "code",
      "execution_count": null,
      "metadata": {
        "id": "sK32Iyq1Y7QR"
      },
      "outputs": [],
      "source": [
        "transcribe_audio()"
      ]
    },
    {
      "cell_type": "code",
      "execution_count": null,
      "metadata": {
        "id": "pxpKQFiNm7m-"
      },
      "outputs": [],
      "source": [
        "# Transcribir y mostrar el resultado\n",
        "text = transcribe_audio(audio_file_path, audio_lang)"
      ]
    },
    {
      "cell_type": "markdown",
      "metadata": {
        "id": "AcUSQzM7qsxY"
      },
      "source": [
        "## 2. Procesamiento del Lenguaje Natural\n",
        "\n",
        "___"
      ]
    },
    {
      "cell_type": "code",
      "execution_count": null,
      "metadata": {},
      "outputs": [],
      "source": [
        "# Cargar el modelo de spaCy para español\n",
        "nlp = spacy.load(\"es_core_news_sm\")"
      ]
    },
    {
      "cell_type": "markdown",
      "metadata": {
        "id": "HDaWq5syqu6m"
      },
      "source": [
        "### Preprocesamiento de texto\n"
      ]
    },
    {
      "cell_type": "code",
      "execution_count": null,
      "metadata": {},
      "outputs": [],
      "source": [
        "# Lista de abreviaturas y formas no abreviadas de unidades de medida de peso\n",
        "unidades_medida_peso = ['g', 'gr', 'kg', 'mg', 'µg', 't', 'lb', 'oz', 'cwt',\n",
        "                        'gramos', 'kilogramos', 'miligramos', 'microgramos',\n",
        "                        'toneladas', 'libras', 'onzas', 'quintales']"
      ]
    },
    {
      "cell_type": "code",
      "execution_count": null,
      "metadata": {},
      "outputs": [],
      "source": [
        "def procesar_texto(texto):\n",
        "    texto = texto.lower()\n",
        "    texto = re.sub(r'[,\\.;:!\\-*#@$!+_%^&`~]', '', texto)\n",
        "    texto = re.sub(r'\\s+', ' ', texto)\n",
        "\n",
        "    thresgold = 1\n",
        "\n",
        "    doc = nlp(texto)\n",
        "\n",
        "    tokens = [token.text for token in doc]\n",
        "    stopwords = spacy.lang.es.stop_words.STOP_WORDS\n",
        "    filtered_tokens = [\n",
        "        token.text for token in doc\n",
        "        if token.text not in stopwords\n",
        "        and token.pos_ in ('NOUN', 'ADJ', 'ADP')\n",
        "        and len(token.text) > thresgold\n",
        "        and token.text not in unidades_medida_peso]\n",
        "    lemmas = [token.lemma_ for token in doc if token.text in filtered_tokens]\n",
        "    pos_tags = [(token.text, token.pos_) for token in doc if token.text in filtered_tokens]\n",
        "\n",
        "    return {\n",
        "        \"tokens\": tokens,\n",
        "        \"lemmas\": lemmas,\n",
        "        \"filtered_tokens\": filtered_tokens,\n",
        "        \"pos_tags\": pos_tags,\n",
        "    }"
      ]
    },
    {
      "cell_type": "markdown",
      "metadata": {
        "id": "FLfTLCw2q8IM"
      },
      "source": [
        "\n",
        "**Normalización del texto (eliminación de ruido, corrección ortográfica, etc.)**"
      ]
    },
    {
      "cell_type": "code",
      "execution_count": null,
      "metadata": {
        "id": "B6Br9PyerAkd"
      },
      "outputs": [],
      "source": [
        "texto_analizado = procesar_texto(texto_prueba)"
      ]
    },
    {
      "cell_type": "markdown",
      "metadata": {
        "id": "vrKl19tGq9KJ"
      },
      "source": [
        "**Tokenización**"
      ]
    },
    {
      "cell_type": "code",
      "execution_count": null,
      "metadata": {
        "id": "f5IX1gghrBXD"
      },
      "outputs": [],
      "source": [
        "tokens = texto_analizado['tokens']"
      ]
    },
    {
      "cell_type": "code",
      "execution_count": null,
      "metadata": {},
      "outputs": [],
      "source": [
        "tokens"
      ]
    },
    {
      "cell_type": "markdown",
      "metadata": {
        "id": "xVbV-FF5q-af"
      },
      "source": [
        "**Eliminación de stop words.**\n"
      ]
    },
    {
      "cell_type": "code",
      "execution_count": null,
      "metadata": {
        "id": "TY1ASrUnrB3I"
      },
      "outputs": [],
      "source": [
        "tokens_filtrados = texto_analizado['filtered_tokens']"
      ]
    },
    {
      "cell_type": "code",
      "execution_count": null,
      "metadata": {},
      "outputs": [],
      "source": [
        "tokens_filtrados"
      ]
    },
    {
      "cell_type": "markdown",
      "metadata": {
        "id": "Lt4d5DQcq_xW"
      },
      "source": [
        "**Lematización y stemming**"
      ]
    },
    {
      "cell_type": "code",
      "execution_count": null,
      "metadata": {
        "id": "ZkAeKi67rCfu"
      },
      "outputs": [],
      "source": [
        "lemmas_filtrados = texto_analizado['lemmas']"
      ]
    },
    {
      "cell_type": "code",
      "execution_count": null,
      "metadata": {},
      "outputs": [],
      "source": [
        "lemmas_filtrados"
      ]
    },
    {
      "cell_type": "markdown",
      "metadata": {},
      "source": [
        "Etiquetado de estructuras gramaticales:"
      ]
    },
    {
      "cell_type": "code",
      "execution_count": null,
      "metadata": {},
      "outputs": [],
      "source": [
        "pos_tags_filtrados = texto_analizado['pos_tags']"
      ]
    },
    {
      "cell_type": "code",
      "execution_count": null,
      "metadata": {},
      "outputs": [],
      "source": [
        "pos_tags_filtrados"
      ]
    },
    {
      "cell_type": "markdown",
      "metadata": {
        "id": "C9ZvYH9dq1GY"
      },
      "source": [
        "### Análisis de texto\n"
      ]
    },
    {
      "cell_type": "markdown",
      "metadata": {},
      "source": [
        "Detectar presencia de palabras de productos lematizadas dentro de dataframe"
      ]
    },
    {
      "cell_type": "code",
      "execution_count": null,
      "metadata": {},
      "outputs": [],
      "source": [
        "df_frutas_verduras['producto_tokens_lemmas'] = df_frutas_verduras['Producto'].apply(lambda x: procesar_texto(x)['lemmas'])"
      ]
    },
    {
      "cell_type": "code",
      "execution_count": null,
      "metadata": {},
      "outputs": [],
      "source": [
        "df_frutas_verduras['producto_tokens_lemmas']"
      ]
    },
    {
      "cell_type": "code",
      "execution_count": null,
      "metadata": {},
      "outputs": [],
      "source": [
        "dict_count_coincidences = {}"
      ]
    },
    {
      "cell_type": "code",
      "execution_count": null,
      "metadata": {},
      "outputs": [],
      "source": [
        "for index, row in df_frutas_verduras.iterrows():\n",
        "    for token_producto in row['producto_tokens_lemmas']:\n",
        "        if token_producto in lemmas_filtrados:\n",
        "            if token_producto not in dict_count_coincidences:\n",
        "                dict_count_coincidences[index] = 1\n",
        "            else:\n",
        "                dict_count_coincidences[index] += 1"
      ]
    },
    {
      "cell_type": "code",
      "execution_count": null,
      "metadata": {},
      "outputs": [],
      "source": [
        "series_ordered_count_coincidences = pd.Series(dict_count_coincidences)"
      ]
    },
    {
      "cell_type": "markdown",
      "metadata": {
        "id": "wSCEB3hpr2y6"
      },
      "source": [
        "Análisis de Sentimiento: Determinar la emoción o tono del texto.\n"
      ]
    },
    {
      "cell_type": "code",
      "execution_count": null,
      "metadata": {
        "id": "QtrOgErkr4PD"
      },
      "outputs": [],
      "source": [
        "#para futuras versiones"
      ]
    },
    {
      "cell_type": "markdown",
      "metadata": {
        "id": "hzhTpz0qr4lW"
      },
      "source": [
        "Detección de Intenciones (Intent Detection): Identificar la intención del usuario utilizando modelos como BERT, GPT, RASA, etc.\n"
      ]
    },
    {
      "cell_type": "code",
      "execution_count": null,
      "metadata": {
        "id": "lEYOkzT7r8Pj"
      },
      "outputs": [],
      "source": [
        "#para futuras versiones"
      ]
    },
    {
      "cell_type": "markdown",
      "metadata": {
        "id": "_ibsChXBsNdX"
      },
      "source": [
        "## 3. Gestión del Diálogo\n",
        "\n",
        "___"
      ]
    },
    {
      "cell_type": "markdown",
      "metadata": {
        "id": "zEnB65VssQvq"
      },
      "source": [
        "### Módulo de Gestión de Estado:\n",
        "Llevar un registro del contexto y estado del diálogo para mantener conversaciones coherentes.\n"
      ]
    },
    {
      "cell_type": "code",
      "execution_count": null,
      "metadata": {
        "id": "3ECriCX3sVWu"
      },
      "outputs": [],
      "source": [
        "columns_consultas_dict = ['id_consulta', 'id_cliente', 'formato_consulta', 'transcripción_audio', 'entrada_texto', 'productos_lemas_filtrados', 'dict_producto_indice_considencias']"
      ]
    },
    {
      "cell_type": "code",
      "execution_count": null,
      "metadata": {},
      "outputs": [],
      "source": [
        "#consulta_dict['id_consulta'] = agregaridfran\n",
        "#consulta_dict['id_cliente'] = agregaridclientefran\n",
        "#consulta_dict['formato_consulta'] = \n",
        "#consulta_dict['transcripción_audio'] = \n",
        "consulta_dict['entrada_texto'] = texto_prueba\n",
        "consulta_dict['entrada_lemas_filtrados'] = lemmas_filtrados\n",
        "consulta_dict['dict_producto_indice_considencias'] = dict_count_coincidences"
      ]
    },
    {
      "cell_type": "code",
      "execution_count": null,
      "metadata": {},
      "outputs": [],
      "source": [
        "consulta_dict"
      ]
    },
    {
      "cell_type": "markdown",
      "metadata": {
        "id": "BByh2AXGsVmJ"
      },
      "source": [
        "### Motor de Respuesta:\n"
      ]
    },
    {
      "cell_type": "markdown",
      "metadata": {
        "id": "j15ewWSasb4F"
      },
      "source": [
        "Generación de Respuestas: Utilizar modelos generativos (como GPT-3) o respuestas predefinidas según las intenciones y entidades detectadas.\n"
      ]
    },
    {
      "cell_type": "code",
      "execution_count": null,
      "metadata": {
        "id": "UjnjzK3gseaL"
      },
      "outputs": [],
      "source": [
        "# Asegúrate de que series_ordered_count_coincidences es una Serie ordenada\n",
        "series_ordered_count_coincidences = series_ordered_count_coincidences.sort_values(ascending=False)\n",
        "\n",
        "# Inicialización de la recomendación\n",
        "recomendacion = 'Los productos recomendados en base a su consulta y caracteristicas mensionadas son:\\n'\n",
        "\n",
        "# Lista para almacenar las recomendaciones\n",
        "lista_string_reco_supers_prods = []\n",
        "\n",
        "# Iterar sobre los índices de las coincidencias ordenadas\n",
        "for count, x in enumerate(series_ordered_count_coincidences.index, start=1):\n",
        "    # Extraer los detalles del producto usando el índice\n",
        "    producto, supermercado, precio = df_frutas_verduras.loc[x, ['Producto', 'Supermercado', 'Precio']]\n",
        "    \n",
        "    # Añadir la recomendación a la lista\n",
        "    lista_string_reco_supers_prods.append(f'En el lugar {count}: {producto} en {supermercado} a {precio}\\n')\n",
        "\n",
        "# Concatenar todas las recomendaciones en un solo string\n",
        "recomendacion += ''.join(lista_string_reco_supers_prods)\n",
        "\n",
        "print(recomendacion)\n"
      ]
    },
    {
      "cell_type": "markdown",
      "metadata": {
        "id": "xgvv-ETKsenO"
      },
      "source": [
        "Selección de Respuestas: Elegir la mejor respuesta entre varias opciones generadas.\n"
      ]
    },
    {
      "cell_type": "code",
      "execution_count": null,
      "metadata": {
        "id": "3t1AFBk2sf1P"
      },
      "outputs": [],
      "source": [
        "#Para proximas versiones"
      ]
    },
    {
      "cell_type": "markdown",
      "metadata": {
        "id": "QntMxU6_shpm"
      },
      "source": [
        "### Personalización y Contexto: Adaptar las respuestas en función del historial del usuario y el contexto actual."
      ]
    },
    {
      "cell_type": "code",
      "execution_count": null,
      "metadata": {
        "id": "MU_3as2dsi2S"
      },
      "outputs": [],
      "source": [
        "#Para proximas versiones"
      ]
    },
    {
      "cell_type": "markdown",
      "metadata": {
        "id": "9-sSu2b0soDe"
      },
      "source": [
        "## 4. Texto a voz\n",
        "\n",
        "___"
      ]
    },
    {
      "cell_type": "markdown",
      "metadata": {
        "id": "q5eR9QLTssCK"
      },
      "source": [
        "### Conversión de Texto a Voz (TTS): Utilizar servicios como Google Text-to-Speech, Amazon Polly, o frameworks como Tacotron para convertir el texto generado en voz.\n"
      ]
    },
    {
      "cell_type": "code",
      "execution_count": null,
      "metadata": {},
      "outputs": [],
      "source": [
        "recomendacion = common_functions.limpiar_signo_peso(recomendacion)"
      ]
    },
    {
      "cell_type": "code",
      "execution_count": null,
      "metadata": {
        "id": "kzi_CA2tswVF"
      },
      "outputs": [],
      "source": [
        "tts = gTTS(text=recomendacion, lang='es')"
      ]
    },
    {
      "cell_type": "code",
      "execution_count": null,
      "metadata": {},
      "outputs": [],
      "source": [
        "tts.save(\"../datos/procesados/proc_habla/output.mp3\")"
      ]
    }
  ],
  "metadata": {
    "accelerator": "GPU",
    "colab": {
      "gpuType": "T4",
      "provenance": []
    },
    "kernelspec": {
      "display_name": "Python 3",
      "name": "python3"
    },
    "language_info": {
      "codemirror_mode": {
        "name": "ipython",
        "version": 3
      },
      "file_extension": ".py",
      "mimetype": "text/x-python",
      "name": "python",
      "nbconvert_exporter": "python",
      "pygments_lexer": "ipython3",
      "version": "3.11.4"
    }
  },
  "nbformat": 4,
  "nbformat_minor": 0
}
