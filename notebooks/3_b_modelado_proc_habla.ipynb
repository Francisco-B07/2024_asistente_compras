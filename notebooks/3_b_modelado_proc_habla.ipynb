{
  "cells": [
    {
      "cell_type": "markdown",
      "metadata": {
        "id": "XTpu7pHup5pq"
      },
      "source": [
        "## **Estructura de sub-etapas del procesamiento del habla:**\n",
        "\n",
        "---\n",
        "\n",
        "```\n",
        "├── Input Layer\n",
        "│   ├── Audio Capture\n",
        "│   └── ASR (Speech-to-Text)\n",
        "├── NLP Layer\n",
        "│   ├── Text Preprocessing\n",
        "│   ├── Intent Detection\n",
        "│   ├── Entity Recognition\n",
        "│   └── Sentiment Analysis\n",
        "├── Dialogue Management\n",
        "│   ├── State Management\n",
        "│   ├── Response Generation\n",
        "│   ├── Response Selection\n",
        "│   └── Context Handling\n",
        "├── Output Layer\n",
        "│   ├── TTS (Text-to-Speech)\n",
        "│   └── Audio Playback\n",
        "\n",
        "```\n"
      ]
    },
    {
      "cell_type": "markdown",
      "metadata": {
        "id": "ba_DUci1CkX6"
      },
      "source": [
        "### **Estructura operativa para cada sub-etapa:**\n",
        "\n",
        "**Selección de técnicas de modelado:** En este caso se utilizara [] para la etapa de reconocimiento de voz, [] para el procesamiento y analisis de texto y [] para la conversion de texto a voz.\n",
        "\n",
        "**Generación de un diseño de comprobación:** Para elegir el modelo correcto, este devera ser el que pondere mas alto en un promedio de las diferentes metricas de evaluacion del modelo.\n",
        "\n",
        "**Generación de los modelos:** Se definiran y configuraran los parametros del modelo para pasar a la etapa de ejecucion y descripcion.\n",
        "\n",
        "**Evaluación del modelo:** Se evaluaran los diferentes modelos de manera individual en busqueda de optimizar sus parametros y escoger la combinacion mas optima entre modelos / parametros individuales."
      ]
    },
    {
      "cell_type": "code",
      "execution_count": null,
      "metadata": {
        "id": "JM_Jd-w3lOWe"
      },
      "outputs": [],
      "source": [
        "# Execute if use colab and you need import files\n",
        "from google.colab import files"
      ]
    },
    {
      "cell_type": "code",
      "execution_count": null,
      "metadata": {},
      "outputs": [],
      "source": [
        "# Execute if use colab and you need import files\n",
        "drive.mount('/content/drive')"
      ]
    },
    {
      "cell_type": "code",
      "execution_count": null,
      "metadata": {
        "id": "oTkfaLx7boQi"
      },
      "outputs": [],
      "source": [
        "# Execute if use colab\n",
        "%%bash\n",
        "apt-get update\n",
        "apt-get install python3\n",
        "apt-get install -venv\n",
        "python3 -m venv proc_habla\n",
        "source proc_habla/bin/activate"
      ]
    },
    {
      "cell_type": "code",
      "execution_count": 1,
      "metadata": {},
      "outputs": [],
      "source": [
        "# Create and activate virtual env for speech processing stage\n",
        "!python3 -m venv proc_habla\n",
        "!source proc_habla/bin/activate"
      ]
    },
    {
      "cell_type": "markdown",
      "metadata": {
        "id": "T0MT6XY2qoIA"
      },
      "source": [
        "## **1. Entrada de Usuario (Reconocimiento del Habla)**"
      ]
    },
    {
      "cell_type": "code",
      "execution_count": 47,
      "metadata": {
        "id": "yIsbz7_HkZZJ"
      },
      "outputs": [
        {
          "name": "stdout",
          "output_type": "stream",
          "text": [
            "Requirement already satisfied: SpeechRecognition in /Library/Frameworks/Python.framework/Versions/3.11/lib/python3.11/site-packages (3.10.4)\n",
            "Requirement already satisfied: requests>=2.26.0 in /Users/cristianariel/Library/Python/3.11/lib/python/site-packages (from SpeechRecognition) (2.31.0)\n",
            "Requirement already satisfied: typing-extensions in /Library/Frameworks/Python.framework/Versions/3.11/lib/python3.11/site-packages (from SpeechRecognition) (4.8.0)\n",
            "Requirement already satisfied: charset-normalizer<4,>=2 in /Users/cristianariel/Library/Python/3.11/lib/python/site-packages (from requests>=2.26.0->SpeechRecognition) (3.2.0)\n",
            "Requirement already satisfied: idna<4,>=2.5 in /Users/cristianariel/Library/Python/3.11/lib/python/site-packages (from requests>=2.26.0->SpeechRecognition) (3.4)\n",
            "Requirement already satisfied: urllib3<3,>=1.21.1 in /Users/cristianariel/Library/Python/3.11/lib/python/site-packages (from requests>=2.26.0->SpeechRecognition) (2.0.4)\n",
            "Requirement already satisfied: certifi>=2017.4.17 in /Users/cristianariel/Library/Python/3.11/lib/python/site-packages (from requests>=2.26.0->SpeechRecognition) (2023.7.22)\n",
            "Requirement already satisfied: sounddevice in /Library/Frameworks/Python.framework/Versions/3.11/lib/python3.11/site-packages (0.4.7)\n",
            "Requirement already satisfied: CFFI>=1.0 in /Library/Frameworks/Python.framework/Versions/3.11/lib/python3.11/site-packages (from sounddevice) (1.16.0)\n",
            "Requirement already satisfied: pycparser in /Library/Frameworks/Python.framework/Versions/3.11/lib/python3.11/site-packages (from CFFI>=1.0->sounddevice) (2.21)\n",
            "Requirement already satisfied: scipy in /Library/Frameworks/Python.framework/Versions/3.11/lib/python3.11/site-packages (1.11.1)\n",
            "Requirement already satisfied: numpy<1.28.0,>=1.21.6 in /Library/Frameworks/Python.framework/Versions/3.11/lib/python3.11/site-packages (from scipy) (1.25.2)\n",
            "Collecting pydub\n",
            "  Downloading pydub-0.25.1-py2.py3-none-any.whl.metadata (1.4 kB)\n",
            "Downloading pydub-0.25.1-py2.py3-none-any.whl (32 kB)\n",
            "Installing collected packages: pydub\n",
            "Successfully installed pydub-0.25.1\n"
          ]
        }
      ],
      "source": [
        "!pip3 install SpeechRecognition\n",
        "!pip3 install sounddevice\n",
        "!pip3 install scipy\n",
        "!pip3 install pydub"
      ]
    },
    {
      "cell_type": "code",
      "execution_count": 80,
      "metadata": {
        "id": "eQgslv4y1nrF"
      },
      "outputs": [],
      "source": [
        "import speech_recognition as sr\n",
        "import numpy as np\n",
        "import wave\n",
        "import pandas as pd\n",
        "import sounddevice as sd\n",
        "from scipy.io.wavfile import write\n",
        "import queue\n",
        "import threading\n",
        "from pydub import AudioSegment\n",
        "import subprocess"
      ]
    },
    {
      "cell_type": "code",
      "execution_count": 81,
      "metadata": {},
      "outputs": [
        {
          "name": "stderr",
          "output_type": "stream",
          "text": [
            "sudo: a terminal is required to read the password; either use the -S option to read from standard input or configure an askpass helper\n",
            "sudo: a password is required\n"
          ]
        },
        {
          "name": "stdout",
          "output_type": "stream",
          "text": [
            "FFmpeg instalado exitosamente en sistemas basados en Debian.\n"
          ]
        },
        {
          "name": "stderr",
          "output_type": "stream",
          "text": [
            "Running `brew update --auto-update`...\n",
            "==> Downloading https://ghcr.io/v2/homebrew/portable-ruby/portable-ruby/blobs/sha256:86ff822590529e8e9093cdc1702a1d3321678c85347d30f82db4f993db8f9eb1\n",
            "######################################################################## 100.0%#############                                                     30.3%######################                                        47.6%\n",
            "==> Pouring portable-ruby-3.3.1.arm64_big_sur.bottle.tar.gz\n"
          ]
        },
        {
          "name": "stdout",
          "output_type": "stream",
          "text": [
            "==> Downloading https://ghcr.io/v2/homebrew/core/ffmpeg/manifests/7.0.1\n",
            "==> Fetching dependencies for ffmpeg: brotli, giflib, highway, imath, jpeg-turbo, libpng, xz, lz4, zstd, libtiff, little-cms2, openexr, webp, jpeg-xl, libvmaf, aom, aribb24, dav1d, freetype, fontconfig, frei0r, ca-certificates, gmp, libunistring, gettext, libidn2, libtasn1, nettle, p11-kit, openssl@3, libevent, libnghttp2, unbound, gnutls, mpdecimal, readline, sqlite, python@3.12, glib, xorgproto, libxau, libxdmcp, libxcb, libx11, libxext, libxrender, lzo, pixman, cairo, graphite2, icu4c, harfbuzz, lame, fribidi, libunibreak, libass, libbluray, cjson, libmicrohttpd, mbedtls, librist, libsoxr, libssh, libvidstab, libogg, libvorbis, libvpx, opencore-amr, openjpeg, opus, rav1e, libsamplerate, flac, mpg123, libsndfile, rubberband, sdl2, snappy, speex, srt, svt-av1, leptonica, libb2, libarchive, pango, tesseract, theora, x264, x265, xvid, libsodium, zeromq and zimg\n",
            "==> Downloading https://ghcr.io/v2/homebrew/core/brotli/manifests/1.1.0-1\n",
            "==> Fetching brotli\n",
            "==> Downloading https://ghcr.io/v2/homebrew/core/brotli/blobs/sha256:2a95140d61198e3153ff27d8847b76dd34162f6e6e39f3e0f34d2b3a3e4f15dd\n",
            "==> Downloading https://ghcr.io/v2/homebrew/core/giflib/manifests/5.2.2\n",
            "==> Fetching giflib\n",
            "==> Downloading https://ghcr.io/v2/homebrew/core/giflib/blobs/sha256:c6b05aecad00588daf749dbde717fb6a03ce83fb9723b15f5786e7b974ef4c02\n",
            "==> Downloading https://ghcr.io/v2/homebrew/core/highway/manifests/1.1.0\n",
            "==> Fetching highway\n",
            "==> Downloading https://ghcr.io/v2/homebrew/core/highway/blobs/sha256:01a9e369d40dc0661fa3dcdd2dad2492432c8a30f22b29ad7bf7e43eef5a6a0b\n",
            "==> Downloading https://ghcr.io/v2/homebrew/core/imath/manifests/3.1.11\n",
            "==> Fetching imath\n",
            "==> Downloading https://ghcr.io/v2/homebrew/core/imath/blobs/sha256:9cffec79d68d6577853e7c5328989443d753889688248802e2abadca4e09aa88\n",
            "==> Downloading https://ghcr.io/v2/homebrew/core/jpeg-turbo/manifests/3.0.3\n",
            "==> Fetching jpeg-turbo\n",
            "==> Downloading https://ghcr.io/v2/homebrew/core/jpeg-turbo/blobs/sha256:9ea422966185251d1073ba0f4a75c34b4ec497fc7819ea8de80f69fe8e6be18d\n",
            "==> Downloading https://ghcr.io/v2/homebrew/core/libpng/manifests/1.6.43\n",
            "==> Fetching libpng\n",
            "==> Downloading https://ghcr.io/v2/homebrew/core/libpng/blobs/sha256:37936ba5cd5a1e736908a26fd2a944e04d86694a55f99fe5e173bfacac90e2e8\n",
            "==> Downloading https://ghcr.io/v2/homebrew/core/xz/manifests/5.4.6\n",
            "==> Fetching xz\n",
            "==> Downloading https://ghcr.io/v2/homebrew/core/xz/blobs/sha256:01ced87d92d0c1131c069108efb14f6940f9e528e2d044ac41d9a0d8f5169f2e\n",
            "==> Downloading https://ghcr.io/v2/homebrew/core/lz4/manifests/1.9.4\n",
            "==> Fetching lz4\n",
            "==> Downloading https://ghcr.io/v2/homebrew/core/lz4/blobs/sha256:5a8b7116d978e403c525e61794c60b43480d0afc83e499a763f7f14641bbc9b1\n",
            "==> Downloading https://ghcr.io/v2/homebrew/core/zstd/manifests/1.5.6\n",
            "==> Fetching zstd\n",
            "==> Downloading https://ghcr.io/v2/homebrew/core/zstd/blobs/sha256:2028141683f55bffcd0693b9e49eef1e3dabc1e184214cacb173ca9bd54dabc0\n",
            "==> Downloading https://ghcr.io/v2/homebrew/core/libtiff/manifests/4.6.0\n",
            "==> Fetching libtiff\n",
            "==> Downloading https://ghcr.io/v2/homebrew/core/libtiff/blobs/sha256:a9cafbce08b697fb25e326ea1dd3a0e01c3acc3f8f616e844940e49b33386ab3\n",
            "==> Downloading https://ghcr.io/v2/homebrew/core/little-cms2/manifests/2.16\n",
            "==> Fetching little-cms2\n",
            "==> Downloading https://ghcr.io/v2/homebrew/core/little-cms2/blobs/sha256:d1ed5796de3f00d4b1301e9062cb54b2337c8e8dcf2ae9be8e03f3ed7af791e0\n",
            "==> Downloading https://ghcr.io/v2/homebrew/core/openexr/manifests/3.2.4\n",
            "==> Fetching openexr\n",
            "==> Downloading https://ghcr.io/v2/homebrew/core/openexr/blobs/sha256:49b4acf727abd6a736d9d7cf8b38fe96ef3f89979523186ce4eb947d5478b772\n",
            "==> Downloading https://ghcr.io/v2/homebrew/core/webp/manifests/1.4.0\n",
            "==> Fetching webp\n",
            "==> Downloading https://ghcr.io/v2/homebrew/core/webp/blobs/sha256:1ba924051fcd614b0841d704d8302233611aad0e5981657424e0ac16f1cdd6f9\n",
            "==> Downloading https://ghcr.io/v2/homebrew/core/jpeg-xl/manifests/0.10.2-1\n",
            "==> Fetching jpeg-xl\n",
            "==> Downloading https://ghcr.io/v2/homebrew/core/jpeg-xl/blobs/sha256:436eb06c81b1c2d812b571570a91e546f002e213c8b00badbf717e366cd68e4e\n",
            "==> Downloading https://ghcr.io/v2/homebrew/core/libvmaf/manifests/3.0.0\n",
            "==> Fetching libvmaf\n",
            "==> Downloading https://ghcr.io/v2/homebrew/core/libvmaf/blobs/sha256:bdc90ebc175c1f071be4ce895051586583177c3b1029817dc1078472a3da8261\n",
            "==> Downloading https://ghcr.io/v2/homebrew/core/aom/manifests/3.9.0\n",
            "==> Fetching aom\n",
            "==> Downloading https://ghcr.io/v2/homebrew/core/aom/blobs/sha256:f51bfcb816a8ee87de0ca4cfee475e2e835e7f5908149d953da3d53d4e2ee254\n",
            "==> Downloading https://ghcr.io/v2/homebrew/core/aribb24/manifests/1.0.4\n",
            "==> Fetching aribb24\n",
            "==> Downloading https://ghcr.io/v2/homebrew/core/aribb24/blobs/sha256:00fe805d46c08342ec5d62c3eaddfb272513ce55e5eeba324317f43f0783a6d8\n",
            "==> Downloading https://ghcr.io/v2/homebrew/core/dav1d/manifests/1.4.2\n",
            "==> Fetching dav1d\n",
            "==> Downloading https://ghcr.io/v2/homebrew/core/dav1d/blobs/sha256:4219a848496311958aab044a57dbc974bea071d3ab17750bf0fb4c3f41fb1fdc\n",
            "==> Downloading https://ghcr.io/v2/homebrew/core/freetype/manifests/2.13.2-1\n",
            "==> Fetching freetype\n",
            "==> Downloading https://ghcr.io/v2/homebrew/core/freetype/blobs/sha256:8966d44484907e98ea2b0fa4b3708627285d0eae3ca0eeb5d3f158cc0437e3f7\n",
            "==> Downloading https://ghcr.io/v2/homebrew/core/fontconfig/manifests/2.15.0\n",
            "==> Fetching fontconfig\n",
            "==> Downloading https://ghcr.io/v2/homebrew/core/fontconfig/blobs/sha256:4732e8c8cd6f940fa3ace12a5a5428baaef29bdccf9bc520fa4d37a1f0bf639c\n",
            "==> Downloading https://ghcr.io/v2/homebrew/core/frei0r/manifests/2.3.2\n",
            "==> Fetching frei0r\n",
            "==> Downloading https://ghcr.io/v2/homebrew/core/frei0r/blobs/sha256:69b7048afec9dc74c1836c776ded9155ffb0b50bc202d8915495347ece001e00\n",
            "==> Downloading https://ghcr.io/v2/homebrew/core/ca-certificates/manifests/2024-03-11\n",
            "==> Fetching ca-certificates\n",
            "==> Downloading https://ghcr.io/v2/homebrew/core/ca-certificates/blobs/sha256:cab828953672906e00a8f25db751977b8dc4115f021f8dfe82b644ade03dacdb\n",
            "==> Downloading https://ghcr.io/v2/homebrew/core/gmp/manifests/6.3.0\n",
            "==> Fetching gmp\n",
            "==> Downloading https://ghcr.io/v2/homebrew/core/gmp/blobs/sha256:78e4f40cba6419cf7e2d81e9c945d1e93744511bd5230bdfac1b69ed894914b4\n",
            "==> Downloading https://ghcr.io/v2/homebrew/core/libunistring/manifests/1.2\n",
            "==> Fetching libunistring\n",
            "==> Downloading https://ghcr.io/v2/homebrew/core/libunistring/blobs/sha256:4a1c0f956e528e0fe9a5040da6a2002e221024835916fdc198b5d734e3c2638d\n",
            "==> Downloading https://ghcr.io/v2/homebrew/core/gettext/manifests/0.22.5\n",
            "==> Fetching gettext\n",
            "==> Downloading https://ghcr.io/v2/homebrew/core/gettext/blobs/sha256:4b5b6cb0692b4606b9220fcbc9da3ab546234348dc87ef8033830e22c4c7bdb1\n",
            "==> Downloading https://ghcr.io/v2/homebrew/core/libidn2/manifests/2.3.7\n",
            "==> Fetching libidn2\n",
            "==> Downloading https://ghcr.io/v2/homebrew/core/libidn2/blobs/sha256:670f6ed3768acde8ce10b5dcfc88fef69cea994ff84491b253a5e818cd4f9a1b\n",
            "==> Downloading https://ghcr.io/v2/homebrew/core/libtasn1/manifests/4.19.0\n",
            "==> Fetching libtasn1\n",
            "==> Downloading https://ghcr.io/v2/homebrew/core/libtasn1/blobs/sha256:975eaba8f266020c3c82a667a0e693a1c6b1f76e317a95bb79b6906fd248bcc5\n",
            "==> Downloading https://ghcr.io/v2/homebrew/core/nettle/manifests/3.9.1\n",
            "==> Fetching nettle\n",
            "==> Downloading https://ghcr.io/v2/homebrew/core/nettle/blobs/sha256:8421b1b1c642a639028f71f23939bdb56a2a8d331f3f3f1cac1bd8866d540d4d\n",
            "==> Downloading https://ghcr.io/v2/homebrew/core/p11-kit/manifests/0.25.3\n",
            "==> Fetching p11-kit\n",
            "==> Downloading https://ghcr.io/v2/homebrew/core/p11-kit/blobs/sha256:cd5ef135c54d2a312c17af15e9f3c807b3b37a65388b64a35a4d215b54745789\n",
            "==> Downloading https://ghcr.io/v2/homebrew/core/openssl/3/manifests/3.3.0-1\n",
            "==> Fetching openssl@3\n",
            "==> Downloading https://ghcr.io/v2/homebrew/core/openssl/3/blobs/sha256:ec6f9daf8e32d96f4a2f4cd56d18533ee47bb8d9e7cb3d832ac64115d8a1a4ca\n",
            "==> Downloading https://ghcr.io/v2/homebrew/core/libevent/manifests/2.1.12_1\n",
            "==> Fetching libevent\n",
            "==> Downloading https://ghcr.io/v2/homebrew/core/libevent/blobs/sha256:38a3eb3510a7e0cd4096e4592d0095c562eb1bbad572d951f1923009a14ad702\n",
            "==> Downloading https://ghcr.io/v2/homebrew/core/libnghttp2/manifests/1.61.0\n",
            "==> Fetching libnghttp2\n",
            "==> Downloading https://ghcr.io/v2/homebrew/core/libnghttp2/blobs/sha256:6bd6cd9fad916829f98adbd9823545a09b0c147475cb4aa3caaa1f3a9e8104e0\n",
            "==> Downloading https://ghcr.io/v2/homebrew/core/unbound/manifests/1.20.0\n",
            "==> Fetching unbound\n",
            "==> Downloading https://ghcr.io/v2/homebrew/core/unbound/blobs/sha256:d747e30c1da19b82c8009e624fda911469d67d107cdcba6ff6686190f5b52928\n",
            "==> Downloading https://ghcr.io/v2/homebrew/core/gnutls/manifests/3.8.4\n",
            "==> Fetching gnutls\n",
            "==> Downloading https://ghcr.io/v2/homebrew/core/gnutls/blobs/sha256:46373a7206cc70289bfef2081508c62cc74a2589060b21ce26c44c4c86fbda41\n",
            "==> Downloading https://ghcr.io/v2/homebrew/core/mpdecimal/manifests/4.0.0-1\n",
            "==> Fetching mpdecimal\n",
            "==> Downloading https://ghcr.io/v2/homebrew/core/mpdecimal/blobs/sha256:2965eec8a30f462b3bd6a8cc2756c1645e75f4399471594e434e36e886239e2e\n",
            "==> Downloading https://ghcr.io/v2/homebrew/core/readline/manifests/8.2.10\n",
            "==> Fetching readline\n",
            "==> Downloading https://ghcr.io/v2/homebrew/core/readline/blobs/sha256:713fd1fa8544426b7e97eb21d13153195fea4c407db8a174bd183777b81c9192\n",
            "==> Downloading https://ghcr.io/v2/homebrew/core/sqlite/manifests/3.46.0\n",
            "==> Fetching sqlite\n",
            "==> Downloading https://ghcr.io/v2/homebrew/core/sqlite/blobs/sha256:57bdf2c2372c876ad1b712eeff3c158fa17dcdcc2a82f0b6d28888191c7acb48\n",
            "==> Downloading https://ghcr.io/v2/homebrew/core/python/3.12/manifests/3.12.3\n",
            "==> Fetching python@3.12\n",
            "==> Downloading https://ghcr.io/v2/homebrew/core/python/3.12/blobs/sha256:fd301f96783de7d57e8d704ca0967e5cf111350acbf1ad8bec36fa27bb75fc3c\n",
            "==> Downloading https://ghcr.io/v2/homebrew/core/glib/manifests/2.80.2\n",
            "==> Fetching glib\n",
            "==> Downloading https://ghcr.io/v2/homebrew/core/glib/blobs/sha256:4bbd69fd99b5e0123f90c4eaa5e5b5b4c5270873c18b8cb21f83da4f82006380\n",
            "==> Downloading https://ghcr.io/v2/homebrew/core/xorgproto/manifests/2024.1\n",
            "==> Fetching xorgproto\n",
            "==> Downloading https://ghcr.io/v2/homebrew/core/xorgproto/blobs/sha256:3307601f0a03f6c51b640fb11064ef2c2264cc9c20de0604a255370edee3f7f4\n",
            "==> Downloading https://ghcr.io/v2/homebrew/core/libxau/manifests/1.0.11\n",
            "==> Fetching libxau\n",
            "==> Downloading https://ghcr.io/v2/homebrew/core/libxau/blobs/sha256:5af5678065c243a7d199b76facc8be615dd6aa6de65d03778e9b403e8b2827d6\n",
            "==> Downloading https://ghcr.io/v2/homebrew/core/libxdmcp/manifests/1.1.5\n",
            "==> Fetching libxdmcp\n",
            "==> Downloading https://ghcr.io/v2/homebrew/core/libxdmcp/blobs/sha256:789326aa88d1b6dbe5dd565e9e70e5031bf63fac39d22cd30d11c1dfc49ffbfb\n",
            "==> Downloading https://ghcr.io/v2/homebrew/core/libxcb/manifests/1.17.0\n",
            "==> Fetching libxcb\n",
            "==> Downloading https://ghcr.io/v2/homebrew/core/libxcb/blobs/sha256:73d103661722410b7789107ff2dc6d4290e6d6b3a48fe1311665bb4593110dc1\n",
            "==> Downloading https://ghcr.io/v2/homebrew/core/libx11/manifests/1.8.9\n",
            "==> Fetching libx11\n",
            "==> Downloading https://ghcr.io/v2/homebrew/core/libx11/blobs/sha256:f9f790ea819b0549526b2200dc60f0faa26641639c6e83592ea507dd859c5162\n",
            "==> Downloading https://ghcr.io/v2/homebrew/core/libxext/manifests/1.3.6\n",
            "==> Fetching libxext\n",
            "==> Downloading https://ghcr.io/v2/homebrew/core/libxext/blobs/sha256:50a9b29c594f9b93690466d66b52f2ac36461d956016b135a85d3dfbc883e336\n",
            "==> Downloading https://ghcr.io/v2/homebrew/core/libxrender/manifests/0.9.11\n",
            "==> Fetching libxrender\n",
            "==> Downloading https://ghcr.io/v2/homebrew/core/libxrender/blobs/sha256:387261107110957df83504ec68c9328d84b3ce5a1f2a8e01f7d8f9112d8372ad\n",
            "==> Downloading https://ghcr.io/v2/homebrew/core/lzo/manifests/2.10\n",
            "==> Fetching lzo\n",
            "==> Downloading https://ghcr.io/v2/homebrew/core/lzo/blobs/sha256:167749edd2052e4c577f27c79a41eb1cb4b79302b1e4bef1e4cfb29bd50aedd9\n",
            "==> Downloading https://ghcr.io/v2/homebrew/core/pixman/manifests/0.42.2-1\n",
            "==> Fetching pixman\n",
            "==> Downloading https://ghcr.io/v2/homebrew/core/pixman/blobs/sha256:d355a294d3f9152479c2c0905efbeb329aef9cb27b9ae12e2a4ea6a4f41f2174\n",
            "==> Downloading https://ghcr.io/v2/homebrew/core/cairo/manifests/1.18.0\n",
            "==> Fetching cairo\n",
            "==> Downloading https://ghcr.io/v2/homebrew/core/cairo/blobs/sha256:06c6aaadeca8f79c27867c56b8bb90fa9a7d00f84862cee7c837b611ffb8dbbc\n",
            "==> Downloading https://ghcr.io/v2/homebrew/core/graphite2/manifests/1.3.14\n",
            "==> Fetching graphite2\n",
            "==> Downloading https://ghcr.io/v2/homebrew/core/graphite2/blobs/sha256:4cdee055db9958e12662c53661fab627057d3553974d15b289e2955b439f4a9d\n",
            "==> Downloading https://ghcr.io/v2/homebrew/core/icu4c/manifests/74.2\n",
            "==> Fetching icu4c\n",
            "==> Downloading https://ghcr.io/v2/homebrew/core/icu4c/blobs/sha256:3facc22a7821e01d93a38e371e377f13275299d518929222ed34c77a4f4a65d3\n",
            "==> Downloading https://ghcr.io/v2/homebrew/core/harfbuzz/manifests/8.4.0\n",
            "==> Fetching harfbuzz\n",
            "==> Downloading https://ghcr.io/v2/homebrew/core/harfbuzz/blobs/sha256:b74301ad74f8d0647b49ed72156895d0c598d7cf206d331d79aeab415eb72e8e\n",
            "==> Downloading https://ghcr.io/v2/homebrew/core/lame/manifests/3.100\n",
            "==> Fetching lame\n",
            "==> Downloading https://ghcr.io/v2/homebrew/core/lame/blobs/sha256:a5116a219d70f3bb6728a0dfe6801413b9fd70e6c864257691cdb0ea272c2c1e\n",
            "==> Downloading https://ghcr.io/v2/homebrew/core/fribidi/manifests/1.0.14\n",
            "==> Fetching fribidi\n",
            "==> Downloading https://ghcr.io/v2/homebrew/core/fribidi/blobs/sha256:5aea13f26a125562f2564cfc3c4051bd3bd6c65780b8349f5bbca3afbc3f2bf5\n",
            "==> Downloading https://ghcr.io/v2/homebrew/core/libunibreak/manifests/6.1\n",
            "==> Fetching libunibreak\n",
            "==> Downloading https://ghcr.io/v2/homebrew/core/libunibreak/blobs/sha256:687db532bdd75f70882b9b40e0f5b14fdac91ce6c81a94067757e46cc6f84566\n",
            "==> Downloading https://ghcr.io/v2/homebrew/core/libass/manifests/0.17.2\n",
            "==> Fetching libass\n",
            "==> Downloading https://ghcr.io/v2/homebrew/core/libass/blobs/sha256:87d9fe5a36cb16d1c89d489d4fad8609bd24989348a32c45211bc36b10a4e84b\n",
            "==> Downloading https://ghcr.io/v2/homebrew/core/libbluray/manifests/1.3.4\n",
            "==> Fetching libbluray\n",
            "==> Downloading https://ghcr.io/v2/homebrew/core/libbluray/blobs/sha256:385b5460b56cb7c811c661a39509c62436d7a60f388bd960782f23192ade074a\n",
            "==> Downloading https://ghcr.io/v2/homebrew/core/cjson/manifests/1.7.18\n",
            "==> Fetching cjson\n",
            "==> Downloading https://ghcr.io/v2/homebrew/core/cjson/blobs/sha256:6deee0399f8b92240122c7cb8dee5a3f3e7b26f9cec147b9d0baffb3c6a804dc\n",
            "==> Downloading https://ghcr.io/v2/homebrew/core/libmicrohttpd/manifests/1.0.1\n",
            "==> Fetching libmicrohttpd\n",
            "==> Downloading https://ghcr.io/v2/homebrew/core/libmicrohttpd/blobs/sha256:a78702c9353f012d0a5a90d5f2d547f3a9e86a8ce14958d73d195d207065e285\n",
            "==> Downloading https://ghcr.io/v2/homebrew/core/mbedtls/manifests/3.6.0\n",
            "==> Fetching mbedtls\n",
            "==> Downloading https://ghcr.io/v2/homebrew/core/mbedtls/blobs/sha256:22f2f5791b39dd7b4c0e23de2f5ccdbc1d2d5646d8ae4e0f383e28c7bfec0447\n",
            "==> Downloading https://ghcr.io/v2/homebrew/core/librist/manifests/0.2.10_1\n",
            "==> Fetching librist\n",
            "==> Downloading https://ghcr.io/v2/homebrew/core/librist/blobs/sha256:a008dc6bced0ba4ac31a79da417afa539d4ab0d25b9d22769ea396a17b355c8c\n",
            "==> Downloading https://ghcr.io/v2/homebrew/core/libsoxr/manifests/0.1.3-1\n",
            "==> Fetching libsoxr\n",
            "==> Downloading https://ghcr.io/v2/homebrew/core/libsoxr/blobs/sha256:baddfdda71b784b3d94f84e9f7a1b8bcfec59762baddf9e3ccc67c19fb41cee0\n",
            "==> Downloading https://ghcr.io/v2/homebrew/core/libssh/manifests/0.10.6\n",
            "==> Fetching libssh\n",
            "==> Downloading https://ghcr.io/v2/homebrew/core/libssh/blobs/sha256:f46550586eea1bbce8a418c9ce7621909aaad4b96d98004289ea12ccd4593201\n",
            "==> Downloading https://ghcr.io/v2/homebrew/core/libvidstab/manifests/1.1.1\n",
            "==> Fetching libvidstab\n",
            "==> Downloading https://ghcr.io/v2/homebrew/core/libvidstab/blobs/sha256:f006d60e59a43562474571f2a7e2be72273cc9bd7b2df04d0c21da861ebfcab8\n",
            "==> Downloading https://ghcr.io/v2/homebrew/core/libogg/manifests/1.3.5-2\n",
            "==> Fetching libogg\n",
            "==> Downloading https://ghcr.io/v2/homebrew/core/libogg/blobs/sha256:f5da0b4874b723ca02947cd2312df9cdd37bc7b6e000e9e6cdd9bbbb290dc0e9\n",
            "==> Downloading https://ghcr.io/v2/homebrew/core/libvorbis/manifests/1.3.7-1\n",
            "==> Fetching libvorbis\n",
            "==> Downloading https://ghcr.io/v2/homebrew/core/libvorbis/blobs/sha256:f71115c28f65e1a87ae0dbe695421ecacfcddcaa6f91a3e0a23493da73560de5\n",
            "==> Downloading https://ghcr.io/v2/homebrew/core/libvpx/manifests/1.13.1\n",
            "==> Fetching libvpx\n",
            "==> Downloading https://ghcr.io/v2/homebrew/core/libvpx/blobs/sha256:484698903af5db7c9b7d6b4e5791f702ae99a9167a0119773b30d1c9b34ffdba\n",
            "==> Downloading https://ghcr.io/v2/homebrew/core/opencore-amr/manifests/0.1.6\n",
            "==> Fetching opencore-amr\n",
            "==> Downloading https://ghcr.io/v2/homebrew/core/opencore-amr/blobs/sha256:b9598108fb81e647206266d1ebfd43872454df8d9eb8292e09b550fb190e5c4f\n",
            "==> Downloading https://ghcr.io/v2/homebrew/core/openjpeg/manifests/2.5.2\n",
            "==> Fetching openjpeg\n",
            "==> Downloading https://ghcr.io/v2/homebrew/core/openjpeg/blobs/sha256:eef55952d48f1852f5e95a4f8bf336019ebf3800d5dc0fba79cf85ae1fe475d6\n",
            "==> Downloading https://ghcr.io/v2/homebrew/core/opus/manifests/1.5.2\n",
            "==> Fetching opus\n",
            "==> Downloading https://ghcr.io/v2/homebrew/core/opus/blobs/sha256:017d3d10cf679cad5cee3501a53945903eabff9f7657214944bf9156f85e9872\n",
            "==> Downloading https://ghcr.io/v2/homebrew/core/rav1e/manifests/0.7.1\n",
            "==> Fetching rav1e\n",
            "==> Downloading https://ghcr.io/v2/homebrew/core/rav1e/blobs/sha256:03c3c20f83de1fca64b0e0c67e8eb583a334f30769c047304a6627fcec76c765\n",
            "==> Downloading https://ghcr.io/v2/homebrew/core/libsamplerate/manifests/0.2.2\n",
            "==> Fetching libsamplerate\n",
            "==> Downloading https://ghcr.io/v2/homebrew/core/libsamplerate/blobs/sha256:dc278cc14c1b7bfe2530935297bb3ab56d162420387702a38def3aaa26e03181\n",
            "==> Downloading https://ghcr.io/v2/homebrew/core/flac/manifests/1.4.3\n",
            "==> Fetching flac\n",
            "==> Downloading https://ghcr.io/v2/homebrew/core/flac/blobs/sha256:ce19f4c9e89fb7b89c5ea1c070bb6cdb7deedf800a6843bd042ceb902b43ed03\n",
            "==> Downloading https://ghcr.io/v2/homebrew/core/mpg123/manifests/1.32.6\n",
            "==> Fetching mpg123\n",
            "==> Downloading https://ghcr.io/v2/homebrew/core/mpg123/blobs/sha256:b9a8b819e65b8bb7fa2d4909faa589c9301d052f04eb00186effef23112a39d9\n",
            "==> Downloading https://ghcr.io/v2/homebrew/core/libsndfile/manifests/1.2.2-2\n",
            "==> Fetching libsndfile\n",
            "==> Downloading https://ghcr.io/v2/homebrew/core/libsndfile/blobs/sha256:0e8ccf402d37e1be344af315c4b06c5faf3fb1307bce6d4a79d198ffbb9d2ad0\n",
            "==> Downloading https://ghcr.io/v2/homebrew/core/rubberband/manifests/3.3.0\n",
            "==> Fetching rubberband\n",
            "==> Downloading https://ghcr.io/v2/homebrew/core/rubberband/blobs/sha256:83e5b2a1828926769eb43c37b1ed95fc6acb52b7b80717c628248ba06dcc4b59\n",
            "==> Downloading https://ghcr.io/v2/homebrew/core/sdl2/manifests/2.30.3\n",
            "==> Fetching sdl2\n",
            "==> Downloading https://ghcr.io/v2/homebrew/core/sdl2/blobs/sha256:c72d10aa8917464d64ef798a954c793780f9bc06ddda89efc35cda9f8faea50c\n",
            "==> Downloading https://ghcr.io/v2/homebrew/core/snappy/manifests/1.2.1\n",
            "==> Fetching snappy\n",
            "==> Downloading https://ghcr.io/v2/homebrew/core/snappy/blobs/sha256:2b905dfed7d6c0b44de9c89a79a6aa69824758c2727dcffe95bc6ebef465cf3f\n",
            "==> Downloading https://ghcr.io/v2/homebrew/core/speex/manifests/1.2.1\n",
            "==> Fetching speex\n",
            "==> Downloading https://ghcr.io/v2/homebrew/core/speex/blobs/sha256:8dcf1981467ac7b19763ef294c2ef1cbb5fdbe98100043c95f4617a89a930a22\n",
            "==> Downloading https://ghcr.io/v2/homebrew/core/srt/manifests/1.5.3\n",
            "==> Fetching srt\n",
            "==> Downloading https://ghcr.io/v2/homebrew/core/srt/blobs/sha256:b77e98814ca5b954a11620a787f6e008950e39b7929a45d02e2362b2858e8462\n",
            "==> Downloading https://ghcr.io/v2/homebrew/core/svt-av1/manifests/2.1.0\n",
            "==> Fetching svt-av1\n",
            "==> Downloading https://ghcr.io/v2/homebrew/core/svt-av1/blobs/sha256:b843eacec8834c587a2b0cd25de80ee65a60a07b49db0f15d029055f9133b125\n",
            "==> Downloading https://ghcr.io/v2/homebrew/core/leptonica/manifests/1.84.1\n",
            "==> Fetching leptonica\n",
            "==> Downloading https://ghcr.io/v2/homebrew/core/leptonica/blobs/sha256:67fe34fb9fbd1191142dc8415dc1c3bacc7a8cb427dc3d769f6c5d8b1351cbe7\n",
            "==> Downloading https://ghcr.io/v2/homebrew/core/libb2/manifests/0.98.1\n",
            "==> Fetching libb2\n",
            "==> Downloading https://ghcr.io/v2/homebrew/core/libb2/blobs/sha256:52cef2730b3520e99f75f1478f2b953dc46e362a8dbf90f2c6a9028b47bbb8bd\n",
            "==> Downloading https://ghcr.io/v2/homebrew/core/libarchive/manifests/3.7.4\n",
            "==> Fetching libarchive\n",
            "==> Downloading https://ghcr.io/v2/homebrew/core/libarchive/blobs/sha256:d97e0d2bf8558c7c09b84a48931a75b69e91635d876aee86d99ff2f2f1857ef6\n",
            "==> Downloading https://ghcr.io/v2/homebrew/core/pango/manifests/1.52.2\n",
            "==> Fetching pango\n",
            "==> Downloading https://ghcr.io/v2/homebrew/core/pango/blobs/sha256:d7310d07a8e4de1846e72e1965012b706df6b6b68b7d7044d0b626927dd0dbda\n",
            "==> Downloading https://ghcr.io/v2/homebrew/core/tesseract/manifests/5.3.4_1\n",
            "==> Fetching tesseract\n",
            "==> Downloading https://ghcr.io/v2/homebrew/core/tesseract/blobs/sha256:6025ab29df5d7c96b4402964c393f02a3c8b12a1cced36d985ad26a0739c18d9\n",
            "==> Downloading https://ghcr.io/v2/homebrew/core/theora/manifests/1.1.1-4\n",
            "==> Fetching theora\n",
            "==> Downloading https://ghcr.io/v2/homebrew/core/theora/blobs/sha256:7f57dbcd0a12b47f7f886f9474d2ffa04df1ff62fc9c6a330c4f828386d94301\n",
            "==> Downloading https://ghcr.io/v2/homebrew/core/x264/manifests/r3108\n",
            "==> Fetching x264\n",
            "==> Downloading https://ghcr.io/v2/homebrew/core/x264/blobs/sha256:19910a7d287524c93e7c56e30eca711618e0b568c0a9a4462924b76761840fd5\n",
            "==> Downloading https://ghcr.io/v2/homebrew/core/x265/manifests/3.6\n",
            "==> Fetching x265\n",
            "==> Downloading https://ghcr.io/v2/homebrew/core/x265/blobs/sha256:ab1b8982179412855def72a0bff980132f6540c6f068070b1c6b90734ddc9357\n",
            "==> Downloading https://ghcr.io/v2/homebrew/core/xvid/manifests/1.3.7\n",
            "==> Fetching xvid\n",
            "==> Downloading https://ghcr.io/v2/homebrew/core/xvid/blobs/sha256:8062840ad8e79ae9c733f5d8f4b822e70d962c243e7c9eceee95bb100e016743\n",
            "==> Downloading https://ghcr.io/v2/homebrew/core/libsodium/manifests/1.0.19\n",
            "==> Fetching libsodium\n",
            "==> Downloading https://ghcr.io/v2/homebrew/core/libsodium/blobs/sha256:dc3c442e29cd2c031179003f04ee2dea388edc68b0f284d6b938f38e2ca49efc\n",
            "==> Downloading https://ghcr.io/v2/homebrew/core/zeromq/manifests/4.3.5_1\n",
            "==> Fetching zeromq\n",
            "==> Downloading https://ghcr.io/v2/homebrew/core/zeromq/blobs/sha256:3bf8942ece99f0457125006cf729f24823e09a3f6bd2257e8be9873e5783a0a1\n",
            "==> Downloading https://ghcr.io/v2/homebrew/core/zimg/manifests/3.0.5\n",
            "==> Fetching zimg\n",
            "==> Downloading https://ghcr.io/v2/homebrew/core/zimg/blobs/sha256:1a08f06a0a7fc2a23266a03e8afd63759f99f3a0041d1503fafc5ce9410df8dc\n",
            "==> Fetching ffmpeg\n",
            "==> Downloading https://ghcr.io/v2/homebrew/core/ffmpeg/blobs/sha256:06ad4d7e0449e6e67c8d2b2ba042144f2fb054e90d8591b6786bcb3248d95b00\n",
            "==> Installing dependencies for ffmpeg: brotli, giflib, highway, imath, jpeg-turbo, libpng, xz, lz4, zstd, libtiff, little-cms2, openexr, webp, jpeg-xl, libvmaf, aom, aribb24, dav1d, freetype, fontconfig, frei0r, ca-certificates, gmp, libunistring, gettext, libidn2, libtasn1, nettle, p11-kit, openssl@3, libevent, libnghttp2, unbound, gnutls, mpdecimal, readline, sqlite, python@3.12, glib, xorgproto, libxau, libxdmcp, libxcb, libx11, libxext, libxrender, lzo, pixman, cairo, graphite2, icu4c, harfbuzz, lame, fribidi, libunibreak, libass, libbluray, cjson, libmicrohttpd, mbedtls, librist, libsoxr, libssh, libvidstab, libogg, libvorbis, libvpx, opencore-amr, openjpeg, opus, rav1e, libsamplerate, flac, mpg123, libsndfile, rubberband, sdl2, snappy, speex, srt, svt-av1, leptonica, libb2, libarchive, pango, tesseract, theora, x264, x265, xvid, libsodium, zeromq and zimg\n",
            "==> Installing ffmpeg dependency: brotli\n",
            "==> Downloading https://ghcr.io/v2/homebrew/core/brotli/manifests/1.1.0-1\n",
            "Already downloaded: /Users/cristianariel/Library/Caches/Homebrew/downloads/565098509cdfa90593ec9a41b41239f073843f88caed60ddaa3e6194ac4defda--brotli-1.1.0-1.bottle_manifest.json\n",
            "==> Pouring brotli--1.1.0.arm64_sonoma.bottle.1.tar.gz\n",
            "🍺  /opt/homebrew/Cellar/brotli/1.1.0: 25 files, 1016.0KB\n",
            "==> Installing ffmpeg dependency: giflib\n",
            "==> Downloading https://ghcr.io/v2/homebrew/core/giflib/manifests/5.2.2\n",
            "Already downloaded: /Users/cristianariel/Library/Caches/Homebrew/downloads/283773c4d2db4fe867419d7eea6811a6417889d78fad8871041c07f49b22d2a1--giflib-5.2.2.bottle_manifest.json\n",
            "==> Pouring giflib--5.2.2.arm64_sonoma.bottle.tar.gz\n",
            "🍺  /opt/homebrew/Cellar/giflib/5.2.2: 20 files, 547KB\n",
            "==> Installing ffmpeg dependency: highway\n",
            "==> Downloading https://ghcr.io/v2/homebrew/core/highway/manifests/1.1.0\n",
            "Already downloaded: /Users/cristianariel/Library/Caches/Homebrew/downloads/7ce58fabeff5804d02234c64dacb66f2fc8799558e56104a42ba7d82a8ad7ffa--highway-1.1.0.bottle_manifest.json\n",
            "==> Pouring highway--1.1.0.arm64_sonoma.bottle.tar.gz\n",
            "🍺  /opt/homebrew/Cellar/highway/1.1.0: 71 files, 3.7MB\n",
            "==> Installing ffmpeg dependency: imath\n",
            "==> Downloading https://ghcr.io/v2/homebrew/core/imath/manifests/3.1.11\n",
            "Already downloaded: /Users/cristianariel/Library/Caches/Homebrew/downloads/4738c3b3aeed35cc9103ddfda8626c334457672a7e704d000247ccc8f1fddee9--imath-3.1.11.bottle_manifest.json\n",
            "==> Pouring imath--3.1.11.arm64_sonoma.bottle.tar.gz\n",
            "🍺  /opt/homebrew/Cellar/imath/3.1.11: 50 files, 943.1KB\n",
            "==> Installing ffmpeg dependency: jpeg-turbo\n",
            "==> Downloading https://ghcr.io/v2/homebrew/core/jpeg-turbo/manifests/3.0.3\n",
            "Already downloaded: /Users/cristianariel/Library/Caches/Homebrew/downloads/d6b83c0ba8addc9c21ec2cf9fc969e5754261e7cf808fdf5925816b927875bb1--jpeg-turbo-3.0.3.bottle_manifest.json\n",
            "==> Pouring jpeg-turbo--3.0.3.arm64_sonoma.bottle.tar.gz\n",
            "🍺  /opt/homebrew/Cellar/jpeg-turbo/3.0.3: 45 files, 3.4MB\n",
            "==> Installing ffmpeg dependency: libpng\n",
            "==> Downloading https://ghcr.io/v2/homebrew/core/libpng/manifests/1.6.43\n",
            "Already downloaded: /Users/cristianariel/Library/Caches/Homebrew/downloads/dd618b09b8d6d4b89203b771528951e5309631cc3afd8dc1236f0e98965f2b67--libpng-1.6.43.bottle_manifest.json\n",
            "==> Pouring libpng--1.6.43.arm64_sonoma.bottle.tar.gz\n",
            "🍺  /opt/homebrew/Cellar/libpng/1.6.43: 28 files, 1.3MB\n",
            "==> Installing ffmpeg dependency: xz\n",
            "==> Downloading https://ghcr.io/v2/homebrew/core/xz/manifests/5.4.6\n",
            "Already downloaded: /Users/cristianariel/Library/Caches/Homebrew/downloads/b2cc4077807c100af6e0253f51d186f187ff55165638cbe3a4aa16d1c4762660--xz-5.4.6.bottle_manifest.json\n",
            "==> Pouring xz--5.4.6.arm64_sonoma.bottle.tar.gz\n",
            "🍺  /opt/homebrew/Cellar/xz/5.4.6: 164 files, 2.6MB\n",
            "==> Installing ffmpeg dependency: lz4\n",
            "==> Downloading https://ghcr.io/v2/homebrew/core/lz4/manifests/1.9.4\n",
            "Already downloaded: /Users/cristianariel/Library/Caches/Homebrew/downloads/379e59b981667f9585b33a2ff318769d8edca3ce6fd2e9a67ed291ae3e0cc872--lz4-1.9.4.bottle_manifest.json\n",
            "==> Pouring lz4--1.9.4.arm64_sonoma.bottle.tar.gz\n",
            "🍺  /opt/homebrew/Cellar/lz4/1.9.4: 23 files, 638.5KB\n",
            "==> Installing ffmpeg dependency: zstd\n",
            "==> Downloading https://ghcr.io/v2/homebrew/core/zstd/manifests/1.5.6\n",
            "Already downloaded: /Users/cristianariel/Library/Caches/Homebrew/downloads/29403e0df5404d8aeca0e750ac135ec9ef44fc5eeb6df69170ed602acabf0ffb--zstd-1.5.6.bottle_manifest.json\n",
            "==> Pouring zstd--1.5.6.arm64_sonoma.bottle.tar.gz\n",
            "🍺  /opt/homebrew/Cellar/zstd/1.5.6: 32 files, 2.2MB\n",
            "==> Installing ffmpeg dependency: libtiff\n",
            "==> Downloading https://ghcr.io/v2/homebrew/core/libtiff/manifests/4.6.0\n",
            "Already downloaded: /Users/cristianariel/Library/Caches/Homebrew/downloads/9c8455a2f6bcea7bf3e3461218fba309141b0b0553b6e1afc5fe64e63caccff3--libtiff-4.6.0.bottle_manifest.json\n",
            "==> Pouring libtiff--4.6.0.arm64_sonoma.bottle.tar.gz\n",
            "🍺  /opt/homebrew/Cellar/libtiff/4.6.0: 415 files, 6.7MB\n",
            "==> Installing ffmpeg dependency: little-cms2\n",
            "==> Downloading https://ghcr.io/v2/homebrew/core/little-cms2/manifests/2.16\n",
            "Already downloaded: /Users/cristianariel/Library/Caches/Homebrew/downloads/c4e2b31b0daade62da1f3c2e57d69f74987bac35310011b87220145fa60b3558--little-cms2-2.16.bottle_manifest.json\n",
            "==> Pouring little-cms2--2.16.arm64_sonoma.bottle.tar.gz\n",
            "🍺  /opt/homebrew/Cellar/little-cms2/2.16: 23 files, 1.4MB\n",
            "==> Installing ffmpeg dependency: openexr\n",
            "==> Downloading https://ghcr.io/v2/homebrew/core/openexr/manifests/3.2.4\n",
            "Already downloaded: /Users/cristianariel/Library/Caches/Homebrew/downloads/64b203875dbfc58a68a1ab1bee0b9dcfa77a93c55c283a295b618ea0434c8060--openexr-3.2.4.bottle_manifest.json\n",
            "==> Pouring openexr--3.2.4.arm64_sonoma.bottle.tar.gz\n",
            "🍺  /opt/homebrew/Cellar/openexr/3.2.4: 206 files, 8.0MB\n",
            "==> Installing ffmpeg dependency: webp\n",
            "==> Downloading https://ghcr.io/v2/homebrew/core/webp/manifests/1.4.0\n",
            "Already downloaded: /Users/cristianariel/Library/Caches/Homebrew/downloads/4fd3ea2923bb7885c84ba3eee4738315675acd20fdff772153a63d8087daa4ad--webp-1.4.0.bottle_manifest.json\n",
            "==> Pouring webp--1.4.0.arm64_sonoma.bottle.tar.gz\n",
            "🍺  /opt/homebrew/Cellar/webp/1.4.0: 64 files, 2.5MB\n",
            "==> Installing ffmpeg dependency: jpeg-xl\n",
            "==> Downloading https://ghcr.io/v2/homebrew/core/jpeg-xl/manifests/0.10.2-1\n",
            "Already downloaded: /Users/cristianariel/Library/Caches/Homebrew/downloads/02b6819c94f2ead268c2b34c715bd82695a40cc3028c0c96f4e97509b58c3f0d--jpeg-xl-0.10.2-1.bottle_manifest.json\n",
            "==> Pouring jpeg-xl--0.10.2.arm64_sonoma.bottle.1.tar.gz\n",
            "🍺  /opt/homebrew/Cellar/jpeg-xl/0.10.2: 63 files, 28.3MB\n",
            "==> Installing ffmpeg dependency: libvmaf\n",
            "==> Downloading https://ghcr.io/v2/homebrew/core/libvmaf/manifests/3.0.0\n",
            "Already downloaded: /Users/cristianariel/Library/Caches/Homebrew/downloads/6bf89f1d683f34ff5b4c58275236e1f038d5d8189e538795d9af83e07d4c8404--libvmaf-3.0.0.bottle_manifest.json\n",
            "==> Pouring libvmaf--3.0.0.arm64_sonoma.bottle.tar.gz\n",
            "🍺  /opt/homebrew/Cellar/libvmaf/3.0.0: 235 files, 7.2MB\n",
            "==> Installing ffmpeg dependency: aom\n",
            "==> Downloading https://ghcr.io/v2/homebrew/core/aom/manifests/3.9.0\n",
            "Already downloaded: /Users/cristianariel/Library/Caches/Homebrew/downloads/2f2126bb8c944ccc036ca0194a1063fb508eb65f8b050aed6975f7f7d3c36d3f--aom-3.9.0.bottle_manifest.json\n",
            "==> Pouring aom--3.9.0.arm64_sonoma.bottle.tar.gz\n",
            "🍺  /opt/homebrew/Cellar/aom/3.9.0: 24 files, 10MB\n",
            "==> Installing ffmpeg dependency: aribb24\n",
            "==> Downloading https://ghcr.io/v2/homebrew/core/aribb24/manifests/1.0.4\n",
            "Already downloaded: /Users/cristianariel/Library/Caches/Homebrew/downloads/60185994f1623d662ea1959234838b47c2b4b891760a6b2af42d1cd3b36f2c0f--aribb24-1.0.4.bottle_manifest.json\n",
            "==> Pouring aribb24--1.0.4.arm64_sonoma.bottle.tar.gz\n",
            "🍺  /opt/homebrew/Cellar/aribb24/1.0.4: 15 files, 223.6KB\n",
            "==> Installing ffmpeg dependency: dav1d\n",
            "==> Downloading https://ghcr.io/v2/homebrew/core/dav1d/manifests/1.4.2\n",
            "Already downloaded: /Users/cristianariel/Library/Caches/Homebrew/downloads/0f7250ad925d080490887fecf44e671aaebda46abf6adffa23976ff4fca535af--dav1d-1.4.2.bottle_manifest.json\n",
            "==> Pouring dav1d--1.4.2.arm64_sonoma.bottle.tar.gz\n",
            "🍺  /opt/homebrew/Cellar/dav1d/1.4.2: 16 files, 944.6KB\n",
            "==> Installing ffmpeg dependency: freetype\n",
            "==> Downloading https://ghcr.io/v2/homebrew/core/freetype/manifests/2.13.2-1\n",
            "Already downloaded: /Users/cristianariel/Library/Caches/Homebrew/downloads/8d6ca45fa8766fb544a5e6dbc76f0a68568656ab4fe1e837704491bb24e3035d--freetype-2.13.2-1.bottle_manifest.json\n",
            "==> Pouring freetype--2.13.2.arm64_sonoma.bottle.1.tar.gz\n",
            "🍺  /opt/homebrew/Cellar/freetype/2.13.2: 68 files, 2.4MB\n",
            "==> Installing ffmpeg dependency: fontconfig\n",
            "==> Downloading https://ghcr.io/v2/homebrew/core/fontconfig/manifests/2.15.0\n",
            "Already downloaded: /Users/cristianariel/Library/Caches/Homebrew/downloads/33d176010dc9a105404ed23b6c0f8b853bf3a2df2e274876d412d7229a643320--fontconfig-2.15.0.bottle_manifest.json\n",
            "==> Pouring fontconfig--2.15.0.arm64_sonoma.bottle.tar.gz\n",
            "\u001b[34m==>\u001b[0m \u001b[1mRegenerating font cache, this may take a while\u001b[0m\n",
            "\u001b[34m==>\u001b[0m \u001b[1m/opt/homebrew/Cellar/fontconfig/2.15.0/bin/fc-cache -frv\u001b[0m\n",
            "🍺  /opt/homebrew/Cellar/fontconfig/2.15.0: 91 files, 2.4MB\n",
            "==> Installing ffmpeg dependency: frei0r\n",
            "==> Downloading https://ghcr.io/v2/homebrew/core/frei0r/manifests/2.3.2\n",
            "Already downloaded: /Users/cristianariel/Library/Caches/Homebrew/downloads/91852d64b8d97723ec1a57089ba9f5a9eeff095850909578506626bdd7ec1913--frei0r-2.3.2.bottle_manifest.json\n",
            "==> Pouring frei0r--2.3.2.arm64_sonoma.bottle.tar.gz\n",
            "🍺  /opt/homebrew/Cellar/frei0r/2.3.2: 155 files, 5.5MB\n",
            "==> Installing ffmpeg dependency: ca-certificates\n",
            "==> Downloading https://ghcr.io/v2/homebrew/core/ca-certificates/manifests/2024-03-11\n",
            "Already downloaded: /Users/cristianariel/Library/Caches/Homebrew/downloads/c431e0186df2ccc2ea942b34a3c26c2cebebec8e07ad6abdae48447a52c5f506--ca-certificates-2024-03-11.bottle_manifest.json\n",
            "==> Pouring ca-certificates--2024-03-11.all.bottle.tar.gz\n",
            "\u001b[34m==>\u001b[0m \u001b[1mRegenerating CA certificate bundle from keychain, this may take a while...\u001b[0m\n",
            "🍺  /opt/homebrew/Cellar/ca-certificates/2024-03-11: 4 files, 232.3KB\n",
            "==> Installing ffmpeg dependency: gmp\n",
            "==> Downloading https://ghcr.io/v2/homebrew/core/gmp/manifests/6.3.0\n",
            "Already downloaded: /Users/cristianariel/Library/Caches/Homebrew/downloads/70a72a71216843d66a953c06ff6337445ce9bc94fae9f0e301e2f59005274a8e--gmp-6.3.0.bottle_manifest.json\n",
            "==> Pouring gmp--6.3.0.arm64_sonoma.bottle.tar.gz\n",
            "🍺  /opt/homebrew/Cellar/gmp/6.3.0: 22 files, 3.3MB\n",
            "==> Installing ffmpeg dependency: libunistring\n",
            "==> Downloading https://ghcr.io/v2/homebrew/core/libunistring/manifests/1.2\n",
            "Already downloaded: /Users/cristianariel/Library/Caches/Homebrew/downloads/48ac60445a77a63996cf15f6414f68a620d544fb683031b14eb3aea95c3064f6--libunistring-1.2.bottle_manifest.json\n",
            "==> Pouring libunistring--1.2.arm64_sonoma.bottle.tar.gz\n",
            "🍺  /opt/homebrew/Cellar/libunistring/1.2: 60 files, 5MB\n",
            "==> Installing ffmpeg dependency: gettext\n",
            "==> Downloading https://ghcr.io/v2/homebrew/core/gettext/manifests/0.22.5\n",
            "Already downloaded: /Users/cristianariel/Library/Caches/Homebrew/downloads/447e45b77bb47ede0377f7eab1863825298ecaaaeed0bbd84aca3bd300b00508--gettext-0.22.5.bottle_manifest.json\n",
            "==> Pouring gettext--0.22.5.arm64_sonoma.bottle.tar.gz\n",
            "🍺  /opt/homebrew/Cellar/gettext/0.22.5: 2,044 files, 24.4MB\n",
            "==> Installing ffmpeg dependency: libidn2\n",
            "==> Downloading https://ghcr.io/v2/homebrew/core/libidn2/manifests/2.3.7\n",
            "Already downloaded: /Users/cristianariel/Library/Caches/Homebrew/downloads/45d1d4d2930c4782bf53e761a1c0166cd8a40f4193ac8c44e86f0b6708e80354--libidn2-2.3.7.bottle_manifest.json\n",
            "==> Pouring libidn2--2.3.7.arm64_sonoma.bottle.tar.gz\n",
            "🍺  /opt/homebrew/Cellar/libidn2/2.3.7: 81 files, 1MB\n",
            "==> Installing ffmpeg dependency: libtasn1\n",
            "==> Downloading https://ghcr.io/v2/homebrew/core/libtasn1/manifests/4.19.0\n",
            "Already downloaded: /Users/cristianariel/Library/Caches/Homebrew/downloads/8abecce04f40738bc8a6921a6b96d847ea5c9759185d4bd9c7c9b5fb4922c375--libtasn1-4.19.0.bottle_manifest.json\n",
            "==> Pouring libtasn1--4.19.0.arm64_sonoma.bottle.tar.gz\n",
            "🍺  /opt/homebrew/Cellar/libtasn1/4.19.0: 62 files, 720.8KB\n",
            "==> Installing ffmpeg dependency: nettle\n",
            "==> Downloading https://ghcr.io/v2/homebrew/core/nettle/manifests/3.9.1\n",
            "Already downloaded: /Users/cristianariel/Library/Caches/Homebrew/downloads/a02ae3a1ecc6cff56e632f6452fd57f3fa72be16cde0b69e5b47747283fd3f6b--nettle-3.9.1.bottle_manifest.json\n",
            "==> Pouring nettle--3.9.1.arm64_sonoma.bottle.tar.gz\n",
            "🍺  /opt/homebrew/Cellar/nettle/3.9.1: 95 files, 2.7MB\n",
            "==> Installing ffmpeg dependency: p11-kit\n",
            "==> Downloading https://ghcr.io/v2/homebrew/core/p11-kit/manifests/0.25.3\n",
            "Already downloaded: /Users/cristianariel/Library/Caches/Homebrew/downloads/cc547bf2f72da03680090015f5b720aff280ce33de9c33783a69c24fe97a4246--p11-kit-0.25.3.bottle_manifest.json\n",
            "==> Pouring p11-kit--0.25.3.arm64_sonoma.bottle.tar.gz\n",
            "🍺  /opt/homebrew/Cellar/p11-kit/0.25.3: 29 files, 4.2MB\n",
            "==> Installing ffmpeg dependency: openssl@3\n",
            "==> Downloading https://ghcr.io/v2/homebrew/core/openssl/3/manifests/3.3.0-1\n",
            "Already downloaded: /Users/cristianariel/Library/Caches/Homebrew/downloads/cd7e4cb72da375d51619d8c60fb91a70696e352edb515631b5751d05342e471d--openssl@3-3.3.0-1.bottle_manifest.json\n",
            "==> Pouring openssl@3--3.3.0.arm64_sonoma.bottle.1.tar.gz\n",
            "🍺  /opt/homebrew/Cellar/openssl@3/3.3.0: 6,977 files, 32.4MB\n",
            "==> Installing ffmpeg dependency: libevent\n",
            "==> Downloading https://ghcr.io/v2/homebrew/core/libevent/manifests/2.1.12_1\n",
            "Already downloaded: /Users/cristianariel/Library/Caches/Homebrew/downloads/68b113f9ab63db45f4e1860de522ce2ca4fa081eb3c0d5c7d6005a35c3cf8d06--libevent-2.1.12_1.bottle_manifest.json\n",
            "==> Pouring libevent--2.1.12_1.arm64_sonoma.bottle.tar.gz\n",
            "🍺  /opt/homebrew/Cellar/libevent/2.1.12_1: 58 files, 2.2MB\n",
            "==> Installing ffmpeg dependency: libnghttp2\n",
            "==> Downloading https://ghcr.io/v2/homebrew/core/libnghttp2/manifests/1.61.0\n",
            "Already downloaded: /Users/cristianariel/Library/Caches/Homebrew/downloads/84e039765210f9da314a9b989360b06406c6123f9aae7b1a47dd010504d3bcfb--libnghttp2-1.61.0.bottle_manifest.json\n",
            "==> Pouring libnghttp2--1.61.0.arm64_sonoma.bottle.tar.gz\n",
            "🍺  /opt/homebrew/Cellar/libnghttp2/1.61.0: 14 files, 807.3KB\n",
            "==> Installing ffmpeg dependency: unbound\n",
            "==> Downloading https://ghcr.io/v2/homebrew/core/unbound/manifests/1.20.0\n",
            "Already downloaded: /Users/cristianariel/Library/Caches/Homebrew/downloads/b6115eae88cf2fb43cc96bb18cae0bbf698c522e211266e9e1f799add409f234--unbound-1.20.0.bottle_manifest.json\n",
            "==> Pouring unbound--1.20.0.arm64_sonoma.bottle.tar.gz\n",
            "🍺  /opt/homebrew/Cellar/unbound/1.20.0: 59 files, 5.9MB\n",
            "==> Installing ffmpeg dependency: gnutls\n",
            "==> Downloading https://ghcr.io/v2/homebrew/core/gnutls/manifests/3.8.4\n",
            "Already downloaded: /Users/cristianariel/Library/Caches/Homebrew/downloads/73c18cc76ca68c25efa04b897881358a5ad032ae8e54f9c5fe81b70875128236--gnutls-3.8.4.bottle_manifest.json\n",
            "==> Pouring gnutls--3.8.4.arm64_sonoma.bottle.tar.gz\n",
            "🍺  /opt/homebrew/Cellar/gnutls/3.8.4: 1,293 files, 10.8MB\n",
            "==> Installing ffmpeg dependency: mpdecimal\n",
            "==> Downloading https://ghcr.io/v2/homebrew/core/mpdecimal/manifests/4.0.0-1\n",
            "Already downloaded: /Users/cristianariel/Library/Caches/Homebrew/downloads/7b63c3b34bee402290af49fac829a6682ab45ea5c9258b6fe03b590a03a4c4a9--mpdecimal-4.0.0-1.bottle_manifest.json\n",
            "==> Pouring mpdecimal--4.0.0.arm64_sonoma.bottle.1.tar.gz\n",
            "🍺  /opt/homebrew/Cellar/mpdecimal/4.0.0: 22 files, 641.2KB\n",
            "==> Installing ffmpeg dependency: readline\n",
            "==> Downloading https://ghcr.io/v2/homebrew/core/readline/manifests/8.2.10\n",
            "Already downloaded: /Users/cristianariel/Library/Caches/Homebrew/downloads/4ddd52803319828799f1932d4c7fa8d11c667049b20a56341c0c19246a1be93b--readline-8.2.10.bottle_manifest.json\n",
            "==> Pouring readline--8.2.10.arm64_sonoma.bottle.tar.gz\n",
            "🍺  /opt/homebrew/Cellar/readline/8.2.10: 51 files, 1.7MB\n",
            "==> Installing ffmpeg dependency: sqlite\n",
            "==> Downloading https://ghcr.io/v2/homebrew/core/sqlite/manifests/3.46.0\n",
            "Already downloaded: /Users/cristianariel/Library/Caches/Homebrew/downloads/7d6bff4676b4f32a64f5d9436491b1eedb27a559ef4ff63aaaa62834a981bcd0--sqlite-3.46.0.bottle_manifest.json\n",
            "==> Pouring sqlite--3.46.0.arm64_sonoma.bottle.tar.gz\n",
            "🍺  /opt/homebrew/Cellar/sqlite/3.46.0: 12 files, 4.8MB\n",
            "==> Installing ffmpeg dependency: python@3.12\n",
            "==> Downloading https://ghcr.io/v2/homebrew/core/python/3.12/manifests/3.12.3\n",
            "Already downloaded: /Users/cristianariel/Library/Caches/Homebrew/downloads/5065c4d76c933aad4e13bd77c1bf37f0afe78f4608261edd170e331cb36c8a0d--python@3.12-3.12.3.bottle_manifest.json\n",
            "==> Pouring python@3.12--3.12.3.arm64_sonoma.bottle.tar.gz\n",
            "\u001b[34m==>\u001b[0m \u001b[1m/opt/homebrew/Cellar/python@3.12/3.12.3/bin/python3.12 -Im ensurepip\u001b[0m\n",
            "\u001b[34m==>\u001b[0m \u001b[1m/opt/homebrew/Cellar/python@3.12/3.12.3/bin/python3.12 -Im pip install -v --\u001b[0m\n",
            "🍺  /opt/homebrew/Cellar/python@3.12/3.12.3: 3,272 files, 65.7MB\n",
            "==> Installing ffmpeg dependency: glib\n",
            "==> Downloading https://ghcr.io/v2/homebrew/core/glib/manifests/2.80.2\n",
            "Already downloaded: /Users/cristianariel/Library/Caches/Homebrew/downloads/b526ef41240d8894a49032f605040851f1b9206cf9015d0ae28345051b3bf35a--glib-2.80.2.bottle_manifest.json\n",
            "==> Pouring glib--2.80.2.arm64_sonoma.bottle.tar.gz\n",
            "🍺  /opt/homebrew/Cellar/glib/2.80.2: 526 files, 36.2MB\n",
            "==> Installing ffmpeg dependency: xorgproto\n",
            "==> Downloading https://ghcr.io/v2/homebrew/core/xorgproto/manifests/2024.1\n",
            "Already downloaded: /Users/cristianariel/Library/Caches/Homebrew/downloads/d89d69340366d1d015e7214520f64081e2d82d7955fb28c6ea5f6539dcb610b2--xorgproto-2024.1.bottle_manifest.json\n",
            "==> Pouring xorgproto--2024.1.arm64_sonoma.bottle.tar.gz\n",
            "🍺  /opt/homebrew/Cellar/xorgproto/2024.1: 268 files, 3.9MB\n",
            "==> Installing ffmpeg dependency: libxau\n",
            "==> Downloading https://ghcr.io/v2/homebrew/core/libxau/manifests/1.0.11\n",
            "Already downloaded: /Users/cristianariel/Library/Caches/Homebrew/downloads/7faff26297b2e07682655beaa529cff7b3de0ad1abc013863ca3d03602b79ee7--libxau-1.0.11.bottle_manifest.json\n",
            "==> Pouring libxau--1.0.11.arm64_sonoma.bottle.tar.gz\n",
            "🍺  /opt/homebrew/Cellar/libxau/1.0.11: 22 files, 127.1KB\n",
            "==> Installing ffmpeg dependency: libxdmcp\n",
            "==> Downloading https://ghcr.io/v2/homebrew/core/libxdmcp/manifests/1.1.5\n",
            "Already downloaded: /Users/cristianariel/Library/Caches/Homebrew/downloads/8713e53f73d0be64780dbea522b0ee07027e6cc7828ff1a4fa0a6596f14cfe25--libxdmcp-1.1.5.bottle_manifest.json\n",
            "==> Pouring libxdmcp--1.1.5.arm64_sonoma.bottle.tar.gz\n",
            "🍺  /opt/homebrew/Cellar/libxdmcp/1.1.5: 12 files, 140.0KB\n",
            "==> Installing ffmpeg dependency: libxcb\n",
            "==> Downloading https://ghcr.io/v2/homebrew/core/libxcb/manifests/1.17.0\n",
            "Already downloaded: /Users/cristianariel/Library/Caches/Homebrew/downloads/90067be44989a7a337e7fa793989a66b6f8bfc1edfc82925162cab273ee94879--libxcb-1.17.0.bottle_manifest.json\n",
            "==> Pouring libxcb--1.17.0.arm64_sonoma.bottle.tar.gz\n",
            "🍺  /opt/homebrew/Cellar/libxcb/1.17.0: 2,498 files, 7.5MB\n",
            "==> Installing ffmpeg dependency: libx11\n",
            "==> Downloading https://ghcr.io/v2/homebrew/core/libx11/manifests/1.8.9\n",
            "Already downloaded: /Users/cristianariel/Library/Caches/Homebrew/downloads/ca292424919f76deb4667ed9445ade03489260780e6a18b3683e112aea943130--libx11-1.8.9.bottle_manifest.json\n",
            "==> Pouring libx11--1.8.9.arm64_sonoma.bottle.tar.gz\n",
            "🍺  /opt/homebrew/Cellar/libx11/1.8.9: 1,043 files, 7.0MB\n",
            "==> Installing ffmpeg dependency: libxext\n",
            "==> Downloading https://ghcr.io/v2/homebrew/core/libxext/manifests/1.3.6\n",
            "Already downloaded: /Users/cristianariel/Library/Caches/Homebrew/downloads/fedb843acbfcf682fb451396914bfc096f9ea2748376d4c43ce2af7ce1b766b7--libxext-1.3.6.bottle_manifest.json\n",
            "==> Pouring libxext--1.3.6.arm64_sonoma.bottle.tar.gz\n",
            "🍺  /opt/homebrew/Cellar/libxext/1.3.6: 88 files, 458.4KB\n",
            "==> Installing ffmpeg dependency: libxrender\n",
            "==> Downloading https://ghcr.io/v2/homebrew/core/libxrender/manifests/0.9.11\n",
            "Already downloaded: /Users/cristianariel/Library/Caches/Homebrew/downloads/134c11be8346a1b116e04983c2da6366f29c4f4c2abc17604dcdb80d0475ae9d--libxrender-0.9.11.bottle_manifest.json\n",
            "==> Pouring libxrender--0.9.11.arm64_sonoma.bottle.tar.gz\n",
            "🍺  /opt/homebrew/Cellar/libxrender/0.9.11: 13 files, 221.8KB\n",
            "==> Installing ffmpeg dependency: lzo\n",
            "==> Downloading https://ghcr.io/v2/homebrew/core/lzo/manifests/2.10\n",
            "Already downloaded: /Users/cristianariel/Library/Caches/Homebrew/downloads/d4aa5b0c239912c53bc857d1012c6b7feb4acb509618f5e100f95bf8521f08e7--lzo-2.10.bottle_manifest.json\n",
            "==> Pouring lzo--2.10.arm64_sonoma.bottle.tar.gz\n",
            "🍺  /opt/homebrew/Cellar/lzo/2.10: 32 files, 568KB\n",
            "==> Installing ffmpeg dependency: pixman\n",
            "==> Downloading https://ghcr.io/v2/homebrew/core/pixman/manifests/0.42.2-1\n",
            "Already downloaded: /Users/cristianariel/Library/Caches/Homebrew/downloads/2b0d8f2c63712ce503fa54309b732051a7ca5cd31bd561aa4aaba331bf26bcef--pixman-0.42.2-1.bottle_manifest.json\n",
            "==> Pouring pixman--0.42.2.arm64_sonoma.bottle.1.tar.gz\n",
            "🍺  /opt/homebrew/Cellar/pixman/0.42.2: 12 files, 1.3MB\n",
            "==> Installing ffmpeg dependency: cairo\n",
            "==> Downloading https://ghcr.io/v2/homebrew/core/cairo/manifests/1.18.0\n",
            "Already downloaded: /Users/cristianariel/Library/Caches/Homebrew/downloads/1b8b7f19e38cb0e029497dfe0ad3f3557f605025c5575bdfe86c17b889c6e6d1--cairo-1.18.0.bottle_manifest.json\n",
            "==> Pouring cairo--1.18.0.arm64_sonoma.bottle.tar.gz\n",
            "🍺  /opt/homebrew/Cellar/cairo/1.18.0: 53 files, 2.2MB\n",
            "==> Installing ffmpeg dependency: graphite2\n",
            "==> Downloading https://ghcr.io/v2/homebrew/core/graphite2/manifests/1.3.14\n",
            "Already downloaded: /Users/cristianariel/Library/Caches/Homebrew/downloads/bbb4dd2ef1846301d1eb08053e19e11ca9c780f93f4d3b2d638fd94a9bf54a0c--graphite2-1.3.14.bottle_manifest.json\n",
            "==> Pouring graphite2--1.3.14.arm64_sonoma.bottle.tar.gz\n",
            "🍺  /opt/homebrew/Cellar/graphite2/1.3.14: 19 files, 284.6KB\n",
            "==> Installing ffmpeg dependency: icu4c\n",
            "==> Downloading https://ghcr.io/v2/homebrew/core/icu4c/manifests/74.2\n",
            "Already downloaded: /Users/cristianariel/Library/Caches/Homebrew/downloads/3e5230e726e5548db28bc0cf75710d6405903b742f941113d3dbe7483fad72a4--icu4c-74.2.bottle_manifest.json\n",
            "==> Pouring icu4c--74.2.arm64_sonoma.bottle.tar.gz\n",
            "🍺  /opt/homebrew/Cellar/icu4c/74.2: 271 files, 77.9MB\n",
            "==> Installing ffmpeg dependency: harfbuzz\n",
            "==> Downloading https://ghcr.io/v2/homebrew/core/harfbuzz/manifests/8.4.0\n",
            "Already downloaded: /Users/cristianariel/Library/Caches/Homebrew/downloads/fd47e37d9f5b5084316ec51955470aa32e038246275985aee10b1881a4f7344b--harfbuzz-8.4.0.bottle_manifest.json\n",
            "==> Pouring harfbuzz--8.4.0.arm64_sonoma.bottle.tar.gz\n",
            "🍺  /opt/homebrew/Cellar/harfbuzz/8.4.0: 77 files, 9.6MB\n",
            "==> Installing ffmpeg dependency: lame\n",
            "==> Downloading https://ghcr.io/v2/homebrew/core/lame/manifests/3.100\n",
            "Already downloaded: /Users/cristianariel/Library/Caches/Homebrew/downloads/31e57f3a54d6908e2c153f5eb435715208f3bd9db71e16470b553d72e051b269--lame-3.100.bottle_manifest.json\n",
            "==> Pouring lame--3.100.arm64_sonoma.bottle.tar.gz\n",
            "🍺  /opt/homebrew/Cellar/lame/3.100: 28 files, 2.2MB\n",
            "==> Installing ffmpeg dependency: fribidi\n",
            "==> Downloading https://ghcr.io/v2/homebrew/core/fribidi/manifests/1.0.14\n",
            "Already downloaded: /Users/cristianariel/Library/Caches/Homebrew/downloads/e6b501ebd099a81598298a9fe97eac544af056e9b6031dabf29d953431e229c1--fribidi-1.0.14.bottle_manifest.json\n",
            "==> Pouring fribidi--1.0.14.arm64_sonoma.bottle.tar.gz\n",
            "🍺  /opt/homebrew/Cellar/fribidi/1.0.14: 68 files, 733KB\n",
            "==> Installing ffmpeg dependency: libunibreak\n",
            "==> Downloading https://ghcr.io/v2/homebrew/core/libunibreak/manifests/6.1\n",
            "Already downloaded: /Users/cristianariel/Library/Caches/Homebrew/downloads/0ce1b2ced7836a56fa520c73ee31abcb81d0433729fe597e94ef03dd9d8a89f8--libunibreak-6.1.bottle_manifest.json\n",
            "==> Pouring libunibreak--6.1.arm64_sonoma.bottle.tar.gz\n",
            "🍺  /opt/homebrew/Cellar/libunibreak/6.1: 19 files, 336.9KB\n",
            "==> Installing ffmpeg dependency: libass\n",
            "==> Downloading https://ghcr.io/v2/homebrew/core/libass/manifests/0.17.2\n",
            "Already downloaded: /Users/cristianariel/Library/Caches/Homebrew/downloads/f2f4136b66f851818232e0a025267eea0a9ecc64d03868a57a5ff4add0a96a16--libass-0.17.2.bottle_manifest.json\n",
            "==> Pouring libass--0.17.2.arm64_sonoma.bottle.tar.gz\n",
            "🍺  /opt/homebrew/Cellar/libass/0.17.2: 12 files, 1011.1KB\n",
            "==> Installing ffmpeg dependency: libbluray\n",
            "==> Downloading https://ghcr.io/v2/homebrew/core/libbluray/manifests/1.3.4\n",
            "Already downloaded: /Users/cristianariel/Library/Caches/Homebrew/downloads/3ca2a7bc181ca21ac727ad165abb77758d74c9c260dd155b33f741b1eee5801a--libbluray-1.3.4.bottle_manifest.json\n",
            "==> Pouring libbluray--1.3.4.arm64_sonoma.bottle.tar.gz\n",
            "🍺  /opt/homebrew/Cellar/libbluray/1.3.4: 22 files, 1MB\n",
            "==> Installing ffmpeg dependency: cjson\n",
            "==> Downloading https://ghcr.io/v2/homebrew/core/cjson/manifests/1.7.18\n",
            "Already downloaded: /Users/cristianariel/Library/Caches/Homebrew/downloads/3284084a143535a014f36b2aa7c948c6a28417940feba238b9425e4715e26a2b--cjson-1.7.18.bottle_manifest.json\n",
            "==> Pouring cjson--1.7.18.arm64_sonoma.bottle.tar.gz\n",
            "🍺  /opt/homebrew/Cellar/cjson/1.7.18: 24 files, 257.3KB\n",
            "==> Installing ffmpeg dependency: libmicrohttpd\n",
            "==> Downloading https://ghcr.io/v2/homebrew/core/libmicrohttpd/manifests/1.0.1\n",
            "Already downloaded: /Users/cristianariel/Library/Caches/Homebrew/downloads/01cc839b4ae42fa110aac833bd4c4ea38e803b45edd8f86da3d92d2f48922661--libmicrohttpd-1.0.1.bottle_manifest.json\n",
            "==> Pouring libmicrohttpd--1.0.1.arm64_sonoma.bottle.tar.gz\n",
            "🍺  /opt/homebrew/Cellar/libmicrohttpd/1.0.1: 26 files, 1.5MB\n",
            "==> Installing ffmpeg dependency: mbedtls\n",
            "==> Downloading https://ghcr.io/v2/homebrew/core/mbedtls/manifests/3.6.0\n",
            "Already downloaded: /Users/cristianariel/Library/Caches/Homebrew/downloads/2325275bc24f60ceb6e1de80d77b60d38eaf83bf0f445eb125aa0ad7f29ce681--mbedtls-3.6.0.bottle_manifest.json\n",
            "==> Pouring mbedtls--3.6.0.arm64_sonoma.bottle.tar.gz\n",
            "🍺  /opt/homebrew/Cellar/mbedtls/3.6.0: 199 files, 13.2MB\n",
            "==> Installing ffmpeg dependency: librist\n",
            "==> Downloading https://ghcr.io/v2/homebrew/core/librist/manifests/0.2.10_1\n",
            "Already downloaded: /Users/cristianariel/Library/Caches/Homebrew/downloads/c454114652985f2071c8c39a89669e3ded2ea81fee99e041ba5536c975f2d06f--librist-0.2.10_1.bottle_manifest.json\n",
            "==> Pouring librist--0.2.10_1.arm64_sonoma.bottle.tar.gz\n",
            "🍺  /opt/homebrew/Cellar/librist/0.2.10_1: 29 files, 813.9KB\n",
            "==> Installing ffmpeg dependency: libsoxr\n",
            "==> Downloading https://ghcr.io/v2/homebrew/core/libsoxr/manifests/0.1.3-1\n",
            "Already downloaded: /Users/cristianariel/Library/Caches/Homebrew/downloads/f10988e95845131f890c95b52caea83e46332718a0787ff7b473f71e9ca6e536--libsoxr-0.1.3-1.bottle_manifest.json\n",
            "==> Pouring libsoxr--0.1.3.arm64_sonoma.bottle.1.tar.gz\n",
            "🍺  /opt/homebrew/Cellar/libsoxr/0.1.3: 30 files, 326.6KB\n",
            "==> Installing ffmpeg dependency: libssh\n",
            "==> Downloading https://ghcr.io/v2/homebrew/core/libssh/manifests/0.10.6\n",
            "Already downloaded: /Users/cristianariel/Library/Caches/Homebrew/downloads/a4ff6d890d834da2f865bf30651aa0ed1423be8e2684d4586895f1d9c887449b--libssh-0.10.6.bottle_manifest.json\n",
            "==> Pouring libssh--0.10.6.arm64_sonoma.bottle.tar.gz\n",
            "🍺  /opt/homebrew/Cellar/libssh/0.10.6: 24 files, 1.3MB\n",
            "==> Installing ffmpeg dependency: libvidstab\n",
            "==> Downloading https://ghcr.io/v2/homebrew/core/libvidstab/manifests/1.1.1\n",
            "Already downloaded: /Users/cristianariel/Library/Caches/Homebrew/downloads/cd6a6b0bc36ba382104f583fa6d59418959b6719401628d655a236dfc580cd85--libvidstab-1.1.1.bottle_manifest.json\n",
            "==> Pouring libvidstab--1.1.1.arm64_sonoma.bottle.tar.gz\n",
            "🍺  /opt/homebrew/Cellar/libvidstab/1.1.1: 26 files, 190.5KB\n",
            "==> Installing ffmpeg dependency: libogg\n",
            "==> Downloading https://ghcr.io/v2/homebrew/core/libogg/manifests/1.3.5-2\n",
            "Already downloaded: /Users/cristianariel/Library/Caches/Homebrew/downloads/1c13722950e996f50a0ef7aa1e181de6b2a8a754ebb8f695c4efc56e0d592ad6--libogg-1.3.5-2.bottle_manifest.json\n",
            "==> Pouring libogg--1.3.5.arm64_sonoma.bottle.2.tar.gz\n",
            "🍺  /opt/homebrew/Cellar/libogg/1.3.5: 104 files, 539.2KB\n",
            "==> Installing ffmpeg dependency: libvorbis\n",
            "==> Downloading https://ghcr.io/v2/homebrew/core/libvorbis/manifests/1.3.7-1\n",
            "Already downloaded: /Users/cristianariel/Library/Caches/Homebrew/downloads/68d211b8805a2fab148645c2ac8e43495e576876d6f50f0c4af5ea890730b7ea--libvorbis-1.3.7-1.bottle_manifest.json\n",
            "==> Pouring libvorbis--1.3.7.arm64_sonoma.bottle.1.tar.gz\n",
            "🍺  /opt/homebrew/Cellar/libvorbis/1.3.7: 158 files, 2.4MB\n",
            "==> Installing ffmpeg dependency: libvpx\n",
            "==> Downloading https://ghcr.io/v2/homebrew/core/libvpx/manifests/1.13.1\n",
            "Already downloaded: /Users/cristianariel/Library/Caches/Homebrew/downloads/364b66ab6140cccfc918fb168a803232862da070aac567fbd6f6531c14125399--libvpx-1.13.1.bottle_manifest.json\n",
            "==> Pouring libvpx--1.13.1.arm64_sonoma.bottle.tar.gz\n",
            "🍺  /opt/homebrew/Cellar/libvpx/1.13.1: 21 files, 3.7MB\n",
            "==> Installing ffmpeg dependency: opencore-amr\n",
            "==> Downloading https://ghcr.io/v2/homebrew/core/opencore-amr/manifests/0.1.6\n",
            "Already downloaded: /Users/cristianariel/Library/Caches/Homebrew/downloads/e2036ba279d7fa8546fb4e263e4b1276b5a68551a70e99aca9863561b1039962--opencore-amr-0.1.6.bottle_manifest.json\n",
            "==> Pouring opencore-amr--0.1.6.arm64_sonoma.bottle.tar.gz\n",
            "🍺  /opt/homebrew/Cellar/opencore-amr/0.1.6: 18 files, 660.6KB\n",
            "==> Installing ffmpeg dependency: openjpeg\n",
            "==> Downloading https://ghcr.io/v2/homebrew/core/openjpeg/manifests/2.5.2\n",
            "Already downloaded: /Users/cristianariel/Library/Caches/Homebrew/downloads/aa191c3580781971a7ecfcc8c109ad1f70e33174c5714ff2640476560c91f532--openjpeg-2.5.2.bottle_manifest.json\n",
            "==> Pouring openjpeg--2.5.2.arm64_sonoma.bottle.tar.gz\n",
            "🍺  /opt/homebrew/Cellar/openjpeg/2.5.2: 539 files, 14.0MB\n",
            "==> Installing ffmpeg dependency: opus\n",
            "==> Downloading https://ghcr.io/v2/homebrew/core/opus/manifests/1.5.2\n",
            "Already downloaded: /Users/cristianariel/Library/Caches/Homebrew/downloads/ab70a7e8383f42047a27c0638675dbd9c3229997a01eed45d76f174664a4b607--opus-1.5.2.bottle_manifest.json\n",
            "==> Pouring opus--1.5.2.arm64_sonoma.bottle.tar.gz\n",
            "🍺  /opt/homebrew/Cellar/opus/1.5.2: 16 files, 1MB\n",
            "==> Installing ffmpeg dependency: rav1e\n",
            "==> Downloading https://ghcr.io/v2/homebrew/core/rav1e/manifests/0.7.1\n",
            "Already downloaded: /Users/cristianariel/Library/Caches/Homebrew/downloads/ccafd526f73546dc53bb2cd7d3c8d0e392229423fbc6962740a67633d8b06443--rav1e-0.7.1.bottle_manifest.json\n",
            "==> Pouring rav1e--0.7.1.arm64_sonoma.bottle.tar.gz\n",
            "🍺  /opt/homebrew/Cellar/rav1e/0.7.1: 15 files, 45.5MB\n",
            "==> Installing ffmpeg dependency: libsamplerate\n",
            "==> Downloading https://ghcr.io/v2/homebrew/core/libsamplerate/manifests/0.2.2\n",
            "Already downloaded: /Users/cristianariel/Library/Caches/Homebrew/downloads/27dd59fa55dbebeb65e77b8d04f3b390a899a35dad23d3fd7a4f895b3f7fbfed--libsamplerate-0.2.2.bottle_manifest.json\n",
            "==> Pouring libsamplerate--0.2.2.arm64_sonoma.bottle.tar.gz\n",
            "🍺  /opt/homebrew/Cellar/libsamplerate/0.2.2: 33 files, 3MB\n",
            "==> Installing ffmpeg dependency: flac\n",
            "==> Downloading https://ghcr.io/v2/homebrew/core/flac/manifests/1.4.3\n",
            "Already downloaded: /Users/cristianariel/Library/Caches/Homebrew/downloads/7672ff666ae1dc9b535827ff76c3701b41ed244aae83ed9083687bb12b7ef5bf--flac-1.4.3.bottle_manifest.json\n",
            "==> Pouring flac--1.4.3.arm64_sonoma.bottle.tar.gz\n",
            "🍺  /opt/homebrew/Cellar/flac/1.4.3: 285 files, 6.9MB\n",
            "==> Installing ffmpeg dependency: mpg123\n",
            "==> Downloading https://ghcr.io/v2/homebrew/core/mpg123/manifests/1.32.6\n",
            "Already downloaded: /Users/cristianariel/Library/Caches/Homebrew/downloads/6be7cbdca64624211eb852bbb1b70c9109c062fc5de48f889a20c75c804c5ce8--mpg123-1.32.6.bottle_manifest.json\n",
            "==> Pouring mpg123--1.32.6.arm64_sonoma.bottle.tar.gz\n",
            "🍺  /opt/homebrew/Cellar/mpg123/1.32.6: 34 files, 2.0MB\n",
            "==> Installing ffmpeg dependency: libsndfile\n",
            "==> Downloading https://ghcr.io/v2/homebrew/core/libsndfile/manifests/1.2.2-2\n",
            "Already downloaded: /Users/cristianariel/Library/Caches/Homebrew/downloads/58af9df59ce6134e60a9cb6b90004acc85bb003e6ac643b7a299100bbb8272a3--libsndfile-1.2.2-2.bottle_manifest.json\n",
            "==> Pouring libsndfile--1.2.2.arm64_sonoma.bottle.2.tar.gz\n",
            "🍺  /opt/homebrew/Cellar/libsndfile/1.2.2: 55 files, 1.8MB\n",
            "==> Installing ffmpeg dependency: rubberband\n",
            "==> Downloading https://ghcr.io/v2/homebrew/core/rubberband/manifests/3.3.0\n",
            "Already downloaded: /Users/cristianariel/Library/Caches/Homebrew/downloads/d7b37a08cef72d7b9431b19abc4aaa4649642b6610ad91f39146347d2aaeb60a--rubberband-3.3.0.bottle_manifest.json\n",
            "==> Pouring rubberband--3.3.0.arm64_sonoma.bottle.tar.gz\n",
            "🍺  /opt/homebrew/Cellar/rubberband/3.3.0: 14 files, 1.7MB\n",
            "==> Installing ffmpeg dependency: sdl2\n",
            "==> Downloading https://ghcr.io/v2/homebrew/core/sdl2/manifests/2.30.3\n",
            "Already downloaded: /Users/cristianariel/Library/Caches/Homebrew/downloads/5dc3eaf8d8023133a33a90ad60a03aeb93c5b8f3c5a5125fc425730c0d879129--sdl2-2.30.3.bottle_manifest.json\n",
            "==> Pouring sdl2--2.30.3.arm64_sonoma.bottle.tar.gz\n",
            "🍺  /opt/homebrew/Cellar/sdl2/2.30.3: 94 files, 6.5MB\n",
            "==> Installing ffmpeg dependency: snappy\n",
            "==> Downloading https://ghcr.io/v2/homebrew/core/snappy/manifests/1.2.1\n",
            "Already downloaded: /Users/cristianariel/Library/Caches/Homebrew/downloads/b2e6bfcdbddf1d451a8dbbb6fc3c44a267b753ac1a889dbb0b9159bf31dacdd5--snappy-1.2.1.bottle_manifest.json\n",
            "==> Pouring snappy--1.2.1.arm64_sonoma.bottle.tar.gz\n",
            "🍺  /opt/homebrew/Cellar/snappy/1.2.1: 19 files, 172.2KB\n",
            "==> Installing ffmpeg dependency: speex\n",
            "==> Downloading https://ghcr.io/v2/homebrew/core/speex/manifests/1.2.1\n",
            "Already downloaded: /Users/cristianariel/Library/Caches/Homebrew/downloads/483f702af62f72259facb50d3d47cd0bb25c8f0fb887029d30051a8cef860be5--speex-1.2.1.bottle_manifest.json\n",
            "==> Pouring speex--1.2.1.arm64_sonoma.bottle.tar.gz\n",
            "🍺  /opt/homebrew/Cellar/speex/1.2.1: 26 files, 858.5KB\n",
            "==> Installing ffmpeg dependency: srt\n",
            "==> Downloading https://ghcr.io/v2/homebrew/core/srt/manifests/1.5.3\n",
            "Already downloaded: /Users/cristianariel/Library/Caches/Homebrew/downloads/2c05aec9137f6d962cdfb85d47cfb9eb89182384aeaa5c9395f2fa9fe619e346--srt-1.5.3.bottle_manifest.json\n",
            "==> Pouring srt--1.5.3.arm64_sonoma.bottle.tar.gz\n",
            "🍺  /opt/homebrew/Cellar/srt/1.5.3: 21 files, 4.6MB\n",
            "==> Installing ffmpeg dependency: svt-av1\n",
            "==> Downloading https://ghcr.io/v2/homebrew/core/svt-av1/manifests/2.1.0\n",
            "Already downloaded: /Users/cristianariel/Library/Caches/Homebrew/downloads/102ce42b51f332472df26974a74e07a0103554e3322fe75b20df24e23d06140d--svt-av1-2.1.0.bottle_manifest.json\n",
            "==> Pouring svt-av1--2.1.0.arm64_sonoma.bottle.tar.gz\n",
            "🍺  /opt/homebrew/Cellar/svt-av1/2.1.0: 25 files, 4.2MB\n",
            "==> Installing ffmpeg dependency: leptonica\n",
            "==> Downloading https://ghcr.io/v2/homebrew/core/leptonica/manifests/1.84.1\n",
            "Already downloaded: /Users/cristianariel/Library/Caches/Homebrew/downloads/dc88f036b102e560c7103a72d25bc9ac6cc15c37284c0a81cd30f4fc0281eaa9--leptonica-1.84.1.bottle_manifest.json\n",
            "==> Pouring leptonica--1.84.1.arm64_sonoma.bottle.tar.gz\n",
            "🍺  /opt/homebrew/Cellar/leptonica/1.84.1: 57 files, 7.0MB\n",
            "==> Installing ffmpeg dependency: libb2\n",
            "==> Downloading https://ghcr.io/v2/homebrew/core/libb2/manifests/0.98.1\n",
            "Already downloaded: /Users/cristianariel/Library/Caches/Homebrew/downloads/9bb23dca331f0d74876fa5c769113885b92af8a741a851cdfe99f6dfd420b12d--libb2-0.98.1.bottle_manifest.json\n",
            "==> Pouring libb2--0.98.1.arm64_sonoma.bottle.tar.gz\n",
            "🍺  /opt/homebrew/Cellar/libb2/0.98.1: 9 files, 129KB\n",
            "==> Installing ffmpeg dependency: libarchive\n",
            "==> Downloading https://ghcr.io/v2/homebrew/core/libarchive/manifests/3.7.4\n",
            "Already downloaded: /Users/cristianariel/Library/Caches/Homebrew/downloads/d761d79792a479404434ff8a92cd30a935fa95d4cb1aee534cc2aa3b9904aa61--libarchive-3.7.4.bottle_manifest.json\n",
            "==> Pouring libarchive--3.7.4.arm64_sonoma.bottle.tar.gz\n",
            "🍺  /opt/homebrew/Cellar/libarchive/3.7.4: 65 files, 3.8MB\n",
            "==> Installing ffmpeg dependency: pango\n",
            "==> Downloading https://ghcr.io/v2/homebrew/core/pango/manifests/1.52.2\n",
            "Already downloaded: /Users/cristianariel/Library/Caches/Homebrew/downloads/214b7cb46e8e1680ea60d3578939e548b2daf2721164a11efeda086b9d494949--pango-1.52.2.bottle_manifest.json\n",
            "==> Pouring pango--1.52.2.arm64_sonoma.bottle.tar.gz\n",
            "🍺  /opt/homebrew/Cellar/pango/1.52.2: 69 files, 3.4MB\n",
            "==> Installing ffmpeg dependency: tesseract\n",
            "==> Downloading https://ghcr.io/v2/homebrew/core/tesseract/manifests/5.3.4_1\n",
            "Already downloaded: /Users/cristianariel/Library/Caches/Homebrew/downloads/acc8a888b856c817d327ce191d481841dd96fa1f12fd672a4672e6ce1a9fd2fb--tesseract-5.3.4_1.bottle_manifest.json\n",
            "==> Pouring tesseract--5.3.4_1.arm64_sonoma.bottle.tar.gz\n",
            "🍺  /opt/homebrew/Cellar/tesseract/5.3.4_1: 74 files, 32.8MB\n",
            "==> Installing ffmpeg dependency: theora\n",
            "==> Downloading https://ghcr.io/v2/homebrew/core/theora/manifests/1.1.1-4\n",
            "Already downloaded: /Users/cristianariel/Library/Caches/Homebrew/downloads/dbefdb4ba8626ac7d284e0da23aaeb705c37e0bfbe0c3c22f05fe5fbcadf10e4--theora-1.1.1-4.bottle_manifest.json\n",
            "==> Pouring theora--1.1.1.arm64_sonoma.bottle.4.tar.gz\n",
            "🍺  /opt/homebrew/Cellar/theora/1.1.1: 98 files, 2MB\n",
            "==> Installing ffmpeg dependency: x264\n",
            "==> Downloading https://ghcr.io/v2/homebrew/core/x264/manifests/r3108\n",
            "Already downloaded: /Users/cristianariel/Library/Caches/Homebrew/downloads/8bf7841097db8a60b1789ab16ac7f9395fc5e484932ab958334695a83e804e68--x264-r3108.bottle_manifest.json\n",
            "==> Pouring x264--r3108.arm64_sonoma.bottle.tar.gz\n",
            "🍺  /opt/homebrew/Cellar/x264/r3108: 12 files, 4.2MB\n",
            "==> Installing ffmpeg dependency: x265\n",
            "==> Downloading https://ghcr.io/v2/homebrew/core/x265/manifests/3.6\n",
            "Already downloaded: /Users/cristianariel/Library/Caches/Homebrew/downloads/5cdbdbb9c55e93a197fffb6fa64a943ccb0adb16936f48267be3e08efe7a606e--x265-3.6.bottle_manifest.json\n",
            "==> Pouring x265--3.6.arm64_sonoma.bottle.tar.gz\n",
            "🍺  /opt/homebrew/Cellar/x265/3.6: 12 files, 12MB\n",
            "==> Installing ffmpeg dependency: xvid\n",
            "==> Downloading https://ghcr.io/v2/homebrew/core/xvid/manifests/1.3.7\n",
            "Already downloaded: /Users/cristianariel/Library/Caches/Homebrew/downloads/b5121b85b4f5dfe07f78abbcbe520ae4926d781af3342e318e588b62aba59fe0--xvid-1.3.7.bottle_manifest.json\n",
            "==> Pouring xvid--1.3.7.arm64_sonoma.bottle.tar.gz\n",
            "🍺  /opt/homebrew/Cellar/xvid/1.3.7: 11 files, 1.2MB\n",
            "==> Installing ffmpeg dependency: libsodium\n",
            "==> Downloading https://ghcr.io/v2/homebrew/core/libsodium/manifests/1.0.19\n",
            "Already downloaded: /Users/cristianariel/Library/Caches/Homebrew/downloads/be1ad9f264fab9dfc313d95d9ac7d59ae1774d775801e6f935cf9fe8fe35ab21--libsodium-1.0.19.bottle_manifest.json\n",
            "==> Pouring libsodium--1.0.19.arm64_sonoma.bottle.tar.gz\n",
            "🍺  /opt/homebrew/Cellar/libsodium/1.0.19: 78 files, 1MB\n",
            "==> Installing ffmpeg dependency: zeromq\n",
            "==> Downloading https://ghcr.io/v2/homebrew/core/zeromq/manifests/4.3.5_1\n",
            "Already downloaded: /Users/cristianariel/Library/Caches/Homebrew/downloads/27b053a576863f2b2aa214070e5737e3a0ce0a073760d26c39902468274880b1--zeromq-4.3.5_1.bottle_manifest.json\n",
            "==> Pouring zeromq--4.3.5_1.arm64_sonoma.bottle.tar.gz\n",
            "🍺  /opt/homebrew/Cellar/zeromq/4.3.5_1: 85 files, 6.2MB\n",
            "==> Installing ffmpeg dependency: zimg\n",
            "==> Downloading https://ghcr.io/v2/homebrew/core/zimg/manifests/3.0.5\n",
            "Already downloaded: /Users/cristianariel/Library/Caches/Homebrew/downloads/f94d5d93fe440d14fe866ceb3ada13593ef4b17f58985ebb17ea4320168b65cd--zimg-3.0.5.bottle_manifest.json\n",
            "==> Pouring zimg--3.0.5.arm64_sonoma.bottle.tar.gz\n",
            "🍺  /opt/homebrew/Cellar/zimg/3.0.5: 28 files, 1.1MB\n",
            "==> Installing ffmpeg\n",
            "==> Pouring ffmpeg--7.0.1.arm64_sonoma.bottle.tar.gz\n",
            "🍺  /opt/homebrew/Cellar/ffmpeg/7.0.1: 287 files, 51.8MB\n",
            "==> Running `brew cleanup ffmpeg`...\n",
            "Disable this behaviour by setting HOMEBREW_NO_INSTALL_CLEANUP.\n",
            "Hide these hints with HOMEBREW_NO_ENV_HINTS (see `man brew`).\n",
            "==> Upgrading 2 dependents of upgraded formulae:\n",
            "Disable this behaviour by setting HOMEBREW_NO_INSTALLED_DEPENDENTS_CHECK.\n",
            "Hide these hints with HOMEBREW_NO_ENV_HINTS (see `man brew`).\n",
            "nginx 1.25.4 -> 1.25.5, wget 1.21.4 -> 1.24.5\n",
            "==> Downloading https://ghcr.io/v2/homebrew/core/nginx/manifests/1.25.5\n",
            "==> Downloading https://ghcr.io/v2/homebrew/core/wget/manifests/1.24.5\n",
            "==> Checking for dependents of upgraded formulae...\n",
            "==> No broken dependents found!\n",
            "FFmpeg instalado exitosamente en macOS utilizando Homebrew.\n"
          ]
        }
      ],
      "source": [
        "try:\n",
        "    subprocess.run([\"sudo\", \"apt-get\", \"install\", \"ffmpeg\"])\n",
        "    print(\"FFmpeg instalado exitosamente en sistemas basados en Debian.\")\n",
        "except Exception as e:\n",
        "    print(\"Error al instalar FFmpeg:\", e)\n",
        "try:\n",
        "    subprocess.run([\"brew\", \"install\", \"ffmpeg\"])\n",
        "    print(\"FFmpeg instalado exitosamente en macOS utilizando Homebrew.\")\n",
        "except Exception as e:\n",
        "    print(\"Error al instalar FFmpeg:\", e)"
      ]
    },
    {
      "cell_type": "markdown",
      "metadata": {
        "id": "mxPsnrV6riGR"
      },
      "source": [
        "## **Módulo de Captura de Audio:**"
      ]
    },
    {
      "cell_type": "markdown",
      "metadata": {},
      "source": [
        "*Bugs*\n",
        "\n",
        "- Recibo algun id de consulta, cliente? (lo necesito para gestionar la consulta de manera eficiente)"
      ]
    },
    {
      "cell_type": "code",
      "execution_count": 71,
      "metadata": {
        "id": "8bLph4ehd_0_"
      },
      "outputs": [],
      "source": [
        "SAMPLE_RATE = 44100  # Tasa de muestreo\n",
        "DURATION = 10  # Duración de la grabación en segundos\n",
        "AUDIO_FILES_PATH = \"../datos/brutos/audios_proc_habla/\"\n",
        "FILENAME = \"output.wav\"  # Nombre del archivo de salida"
      ]
    },
    {
      "cell_type": "code",
      "execution_count": 73,
      "metadata": {},
      "outputs": [],
      "source": [
        "ruta_audio_entrada = AUDIO_FILES_PATH + FILENAME\n",
        "ruta_audio_entrada_convertido = AUDIO_FILES_PATH + 'waw_conv_' + FILENAME"
      ]
    },
    {
      "cell_type": "code",
      "execution_count": 63,
      "metadata": {},
      "outputs": [],
      "source": [
        "columns_consultas_df = ['id_consulta', 'id_cliente', 'formato_consulta', 'transcripción_audio', 'entrada_texto', 'productos_detectados']"
      ]
    },
    {
      "cell_type": "code",
      "execution_count": 64,
      "metadata": {},
      "outputs": [],
      "source": [
        "consultas_df = pd.DataFrame(columns=columns_consultas_df)"
      ]
    },
    {
      "cell_type": "code",
      "execution_count": 75,
      "metadata": {
        "id": "5W7StwLecqQV"
      },
      "outputs": [],
      "source": [
        "def record_audio(audio_file_path = AUDIO_FILES_PATH, filename = FILENAME, duration = DURATION, sample_rate = SAMPLE_RATE):\n",
        "    print(\"Grabando...\")\n",
        "    # Grabar audio con 1 canal (mono)\n",
        "    recording = sd.rec(int(duration * sample_rate), samplerate=sample_rate, channels=1)\n",
        "    sd.wait()  # Esperar a que termine la grabación\n",
        "    print(\"Grabación finalizada\")\n",
        "    write(ruta_audio_entrada, sample_rate, recording)\n",
        "    return filename"
      ]
    },
    {
      "cell_type": "code",
      "execution_count": 76,
      "metadata": {},
      "outputs": [],
      "source": [
        "def convert_to_wav(input_file = ruta_audio_entrada, output_file = ruta_audio_entrada_convertido):\n",
        "    sound = AudioSegment.from_file(input_file)\n",
        "    sound.export(output_file, format=\"wav\")"
      ]
    },
    {
      "cell_type": "code",
      "execution_count": 77,
      "metadata": {},
      "outputs": [],
      "source": [
        "def chatbot():\n",
        "    record_audio()"
      ]
    },
    {
      "cell_type": "code",
      "execution_count": 42,
      "metadata": {},
      "outputs": [
        {
          "name": "stdout",
          "output_type": "stream",
          "text": [
            "Grabando...\n",
            "Grabación finalizada\n",
            "../datos/brutos/audios_proc_habla/output.wav\n"
          ]
        }
      ],
      "source": [
        "chatbot()"
      ]
    },
    {
      "cell_type": "code",
      "execution_count": 78,
      "metadata": {},
      "outputs": [
        {
          "name": "stderr",
          "output_type": "stream",
          "text": [
            "/Library/Frameworks/Python.framework/Versions/3.11/lib/python3.11/site-packages/pydub/utils.py:198: RuntimeWarning: Couldn't find ffprobe or avprobe - defaulting to ffprobe, but may not work\n",
            "  warn(\"Couldn't find ffprobe or avprobe - defaulting to ffprobe, but may not work\", RuntimeWarning)\n"
          ]
        },
        {
          "ename": "FileNotFoundError",
          "evalue": "[Errno 2] No such file or directory: 'ffprobe'",
          "output_type": "error",
          "traceback": [
            "\u001b[0;31m---------------------------------------------------------------------------\u001b[0m",
            "\u001b[0;31mFileNotFoundError\u001b[0m                         Traceback (most recent call last)",
            "Cell \u001b[0;32mIn[78], line 2\u001b[0m\n\u001b[1;32m      1\u001b[0m \u001b[38;5;66;03m# Uso de la función convert_to_wav\u001b[39;00m\n\u001b[0;32m----> 2\u001b[0m \u001b[43mconvert_to_wav\u001b[49m\u001b[43m(\u001b[49m\u001b[43mruta_audio_entrada\u001b[49m\u001b[43m,\u001b[49m\u001b[43m \u001b[49m\u001b[43mruta_audio_entrada_convertido\u001b[49m\u001b[43m)\u001b[49m\n",
            "Cell \u001b[0;32mIn[76], line 2\u001b[0m, in \u001b[0;36mconvert_to_wav\u001b[0;34m(input_file, output_file)\u001b[0m\n\u001b[1;32m      1\u001b[0m \u001b[38;5;28;01mdef\u001b[39;00m \u001b[38;5;21mconvert_to_wav\u001b[39m(input_file \u001b[38;5;241m=\u001b[39m ruta_audio_entrada, output_file \u001b[38;5;241m=\u001b[39m ruta_audio_entrada_convertido):\n\u001b[0;32m----> 2\u001b[0m     sound \u001b[38;5;241m=\u001b[39m \u001b[43mAudioSegment\u001b[49m\u001b[38;5;241;43m.\u001b[39;49m\u001b[43mfrom_file\u001b[49m\u001b[43m(\u001b[49m\u001b[43minput_file\u001b[49m\u001b[43m)\u001b[49m\n\u001b[1;32m      3\u001b[0m     sound\u001b[38;5;241m.\u001b[39mexport(output_file, \u001b[38;5;28mformat\u001b[39m\u001b[38;5;241m=\u001b[39m\u001b[38;5;124m\"\u001b[39m\u001b[38;5;124mwav\u001b[39m\u001b[38;5;124m\"\u001b[39m)\n",
            "File \u001b[0;32m/Library/Frameworks/Python.framework/Versions/3.11/lib/python3.11/site-packages/pydub/audio_segment.py:728\u001b[0m, in \u001b[0;36mAudioSegment.from_file\u001b[0;34m(cls, file, format, codec, parameters, start_second, duration, **kwargs)\u001b[0m\n\u001b[1;32m    726\u001b[0m     info \u001b[38;5;241m=\u001b[39m \u001b[38;5;28;01mNone\u001b[39;00m\n\u001b[1;32m    727\u001b[0m \u001b[38;5;28;01melse\u001b[39;00m:\n\u001b[0;32m--> 728\u001b[0m     info \u001b[38;5;241m=\u001b[39m \u001b[43mmediainfo_json\u001b[49m\u001b[43m(\u001b[49m\u001b[43morig_file\u001b[49m\u001b[43m,\u001b[49m\u001b[43m \u001b[49m\u001b[43mread_ahead_limit\u001b[49m\u001b[38;5;241;43m=\u001b[39;49m\u001b[43mread_ahead_limit\u001b[49m\u001b[43m)\u001b[49m\n\u001b[1;32m    729\u001b[0m \u001b[38;5;28;01mif\u001b[39;00m info:\n\u001b[1;32m    730\u001b[0m     audio_streams \u001b[38;5;241m=\u001b[39m [x \u001b[38;5;28;01mfor\u001b[39;00m x \u001b[38;5;129;01min\u001b[39;00m info[\u001b[38;5;124m'\u001b[39m\u001b[38;5;124mstreams\u001b[39m\u001b[38;5;124m'\u001b[39m]\n\u001b[1;32m    731\u001b[0m                      \u001b[38;5;28;01mif\u001b[39;00m x[\u001b[38;5;124m'\u001b[39m\u001b[38;5;124mcodec_type\u001b[39m\u001b[38;5;124m'\u001b[39m] \u001b[38;5;241m==\u001b[39m \u001b[38;5;124m'\u001b[39m\u001b[38;5;124maudio\u001b[39m\u001b[38;5;124m'\u001b[39m]\n",
            "File \u001b[0;32m/Library/Frameworks/Python.framework/Versions/3.11/lib/python3.11/site-packages/pydub/utils.py:274\u001b[0m, in \u001b[0;36mmediainfo_json\u001b[0;34m(filepath, read_ahead_limit)\u001b[0m\n\u001b[1;32m    271\u001b[0m         file\u001b[38;5;241m.\u001b[39mclose()\n\u001b[1;32m    273\u001b[0m command \u001b[38;5;241m=\u001b[39m [prober, \u001b[38;5;124m'\u001b[39m\u001b[38;5;124m-of\u001b[39m\u001b[38;5;124m'\u001b[39m, \u001b[38;5;124m'\u001b[39m\u001b[38;5;124mjson\u001b[39m\u001b[38;5;124m'\u001b[39m] \u001b[38;5;241m+\u001b[39m command_args\n\u001b[0;32m--> 274\u001b[0m res \u001b[38;5;241m=\u001b[39m \u001b[43mPopen\u001b[49m\u001b[43m(\u001b[49m\u001b[43mcommand\u001b[49m\u001b[43m,\u001b[49m\u001b[43m \u001b[49m\u001b[43mstdin\u001b[49m\u001b[38;5;241;43m=\u001b[39;49m\u001b[43mstdin_parameter\u001b[49m\u001b[43m,\u001b[49m\u001b[43m \u001b[49m\u001b[43mstdout\u001b[49m\u001b[38;5;241;43m=\u001b[39;49m\u001b[43mPIPE\u001b[49m\u001b[43m,\u001b[49m\u001b[43m \u001b[49m\u001b[43mstderr\u001b[49m\u001b[38;5;241;43m=\u001b[39;49m\u001b[43mPIPE\u001b[49m\u001b[43m)\u001b[49m\n\u001b[1;32m    275\u001b[0m output, stderr \u001b[38;5;241m=\u001b[39m res\u001b[38;5;241m.\u001b[39mcommunicate(\u001b[38;5;28minput\u001b[39m\u001b[38;5;241m=\u001b[39mstdin_data)\n\u001b[1;32m    276\u001b[0m output \u001b[38;5;241m=\u001b[39m output\u001b[38;5;241m.\u001b[39mdecode(\u001b[38;5;124m\"\u001b[39m\u001b[38;5;124mutf-8\u001b[39m\u001b[38;5;124m\"\u001b[39m, \u001b[38;5;124m'\u001b[39m\u001b[38;5;124mignore\u001b[39m\u001b[38;5;124m'\u001b[39m)\n",
            "File \u001b[0;32m/Library/Frameworks/Python.framework/Versions/3.11/lib/python3.11/subprocess.py:1026\u001b[0m, in \u001b[0;36mPopen.__init__\u001b[0;34m(self, args, bufsize, executable, stdin, stdout, stderr, preexec_fn, close_fds, shell, cwd, env, universal_newlines, startupinfo, creationflags, restore_signals, start_new_session, pass_fds, user, group, extra_groups, encoding, errors, text, umask, pipesize, process_group)\u001b[0m\n\u001b[1;32m   1022\u001b[0m         \u001b[38;5;28;01mif\u001b[39;00m \u001b[38;5;28mself\u001b[39m\u001b[38;5;241m.\u001b[39mtext_mode:\n\u001b[1;32m   1023\u001b[0m             \u001b[38;5;28mself\u001b[39m\u001b[38;5;241m.\u001b[39mstderr \u001b[38;5;241m=\u001b[39m io\u001b[38;5;241m.\u001b[39mTextIOWrapper(\u001b[38;5;28mself\u001b[39m\u001b[38;5;241m.\u001b[39mstderr,\n\u001b[1;32m   1024\u001b[0m                     encoding\u001b[38;5;241m=\u001b[39mencoding, errors\u001b[38;5;241m=\u001b[39merrors)\n\u001b[0;32m-> 1026\u001b[0m     \u001b[38;5;28;43mself\u001b[39;49m\u001b[38;5;241;43m.\u001b[39;49m\u001b[43m_execute_child\u001b[49m\u001b[43m(\u001b[49m\u001b[43margs\u001b[49m\u001b[43m,\u001b[49m\u001b[43m \u001b[49m\u001b[43mexecutable\u001b[49m\u001b[43m,\u001b[49m\u001b[43m \u001b[49m\u001b[43mpreexec_fn\u001b[49m\u001b[43m,\u001b[49m\u001b[43m \u001b[49m\u001b[43mclose_fds\u001b[49m\u001b[43m,\u001b[49m\n\u001b[1;32m   1027\u001b[0m \u001b[43m                        \u001b[49m\u001b[43mpass_fds\u001b[49m\u001b[43m,\u001b[49m\u001b[43m \u001b[49m\u001b[43mcwd\u001b[49m\u001b[43m,\u001b[49m\u001b[43m \u001b[49m\u001b[43menv\u001b[49m\u001b[43m,\u001b[49m\n\u001b[1;32m   1028\u001b[0m \u001b[43m                        \u001b[49m\u001b[43mstartupinfo\u001b[49m\u001b[43m,\u001b[49m\u001b[43m \u001b[49m\u001b[43mcreationflags\u001b[49m\u001b[43m,\u001b[49m\u001b[43m \u001b[49m\u001b[43mshell\u001b[49m\u001b[43m,\u001b[49m\n\u001b[1;32m   1029\u001b[0m \u001b[43m                        \u001b[49m\u001b[43mp2cread\u001b[49m\u001b[43m,\u001b[49m\u001b[43m \u001b[49m\u001b[43mp2cwrite\u001b[49m\u001b[43m,\u001b[49m\n\u001b[1;32m   1030\u001b[0m \u001b[43m                        \u001b[49m\u001b[43mc2pread\u001b[49m\u001b[43m,\u001b[49m\u001b[43m \u001b[49m\u001b[43mc2pwrite\u001b[49m\u001b[43m,\u001b[49m\n\u001b[1;32m   1031\u001b[0m \u001b[43m                        \u001b[49m\u001b[43merrread\u001b[49m\u001b[43m,\u001b[49m\u001b[43m \u001b[49m\u001b[43merrwrite\u001b[49m\u001b[43m,\u001b[49m\n\u001b[1;32m   1032\u001b[0m \u001b[43m                        \u001b[49m\u001b[43mrestore_signals\u001b[49m\u001b[43m,\u001b[49m\n\u001b[1;32m   1033\u001b[0m \u001b[43m                        \u001b[49m\u001b[43mgid\u001b[49m\u001b[43m,\u001b[49m\u001b[43m \u001b[49m\u001b[43mgids\u001b[49m\u001b[43m,\u001b[49m\u001b[43m \u001b[49m\u001b[43muid\u001b[49m\u001b[43m,\u001b[49m\u001b[43m \u001b[49m\u001b[43mumask\u001b[49m\u001b[43m,\u001b[49m\n\u001b[1;32m   1034\u001b[0m \u001b[43m                        \u001b[49m\u001b[43mstart_new_session\u001b[49m\u001b[43m,\u001b[49m\u001b[43m \u001b[49m\u001b[43mprocess_group\u001b[49m\u001b[43m)\u001b[49m\n\u001b[1;32m   1035\u001b[0m \u001b[38;5;28;01mexcept\u001b[39;00m:\n\u001b[1;32m   1036\u001b[0m     \u001b[38;5;66;03m# Cleanup if the child failed starting.\u001b[39;00m\n\u001b[1;32m   1037\u001b[0m     \u001b[38;5;28;01mfor\u001b[39;00m f \u001b[38;5;129;01min\u001b[39;00m \u001b[38;5;28mfilter\u001b[39m(\u001b[38;5;28;01mNone\u001b[39;00m, (\u001b[38;5;28mself\u001b[39m\u001b[38;5;241m.\u001b[39mstdin, \u001b[38;5;28mself\u001b[39m\u001b[38;5;241m.\u001b[39mstdout, \u001b[38;5;28mself\u001b[39m\u001b[38;5;241m.\u001b[39mstderr)):\n",
            "File \u001b[0;32m/Library/Frameworks/Python.framework/Versions/3.11/lib/python3.11/subprocess.py:1950\u001b[0m, in \u001b[0;36mPopen._execute_child\u001b[0;34m(self, args, executable, preexec_fn, close_fds, pass_fds, cwd, env, startupinfo, creationflags, shell, p2cread, p2cwrite, c2pread, c2pwrite, errread, errwrite, restore_signals, gid, gids, uid, umask, start_new_session, process_group)\u001b[0m\n\u001b[1;32m   1948\u001b[0m     \u001b[38;5;28;01mif\u001b[39;00m errno_num \u001b[38;5;241m!=\u001b[39m \u001b[38;5;241m0\u001b[39m:\n\u001b[1;32m   1949\u001b[0m         err_msg \u001b[38;5;241m=\u001b[39m os\u001b[38;5;241m.\u001b[39mstrerror(errno_num)\n\u001b[0;32m-> 1950\u001b[0m     \u001b[38;5;28;01mraise\u001b[39;00m child_exception_type(errno_num, err_msg, err_filename)\n\u001b[1;32m   1951\u001b[0m \u001b[38;5;28;01mraise\u001b[39;00m child_exception_type(err_msg)\n",
            "\u001b[0;31mFileNotFoundError\u001b[0m: [Errno 2] No such file or directory: 'ffprobe'"
          ]
        }
      ],
      "source": [
        "# Uso de la función convert_to_wav\n",
        "convert_to_wav(ruta_audio_entrada, ruta_audio_entrada_convertido)"
      ]
    },
    {
      "cell_type": "markdown",
      "metadata": {
        "id": "c6PxS_YcrlCZ"
      },
      "source": [
        "## **Reconocimiento del Habla (ASR - Automatic Speech Recognition):**"
      ]
    },
    {
      "cell_type": "code",
      "execution_count": 43,
      "metadata": {
        "id": "YfbVSNU0m3N4"
      },
      "outputs": [],
      "source": [
        "# Crear un objeto Recognizer\n",
        "recognizer = sr.Recognizer()"
      ]
    },
    {
      "cell_type": "code",
      "execution_count": 44,
      "metadata": {
        "id": "xEwSWIZcp4zp"
      },
      "outputs": [],
      "source": [
        "# Abrir el archivo de audio\n",
        "def transcribe_audio(audio_lang = 'es-ES'):\n",
        "    ruta_audio = AUDIO_FILES_PATH + FILENAME\n",
        "    with sr.AudioFile(ruta_audio) as source:\n",
        "        # Escuchar el audio (en inglés)\n",
        "        audio = recognizer.record(source)\n",
        "\n",
        "        # Utilizar Google Speech Recognition para transcribir el audio\n",
        "        try:\n",
        "            text = recognizer.recognize_google(audio, audio_lang)\n",
        "            print(\"Transcripción: \", text)\n",
        "            return text\n",
        "        except sr.UnknownValueError:\n",
        "            print(\"No se pudo entender el audio\")\n",
        "        except sr.RequestError as e:\n",
        "            print(\"Error al solicitar resultados del servicio Google Speech Recognition; {0}\".format(e))"
      ]
    },
    {
      "cell_type": "code",
      "execution_count": 45,
      "metadata": {
        "id": "sK32Iyq1Y7QR"
      },
      "outputs": [
        {
          "ename": "ValueError",
          "evalue": "Audio file could not be read as PCM WAV, AIFF/AIFF-C, or Native FLAC; check if file is corrupted or in another format",
          "output_type": "error",
          "traceback": [
            "\u001b[0;31m---------------------------------------------------------------------------\u001b[0m",
            "\u001b[0;31mError\u001b[0m                                     Traceback (most recent call last)",
            "File \u001b[0;32m/Library/Frameworks/Python.framework/Versions/3.11/lib/python3.11/site-packages/speech_recognition/__init__.py:241\u001b[0m, in \u001b[0;36mAudioFile.__enter__\u001b[0;34m(self)\u001b[0m\n\u001b[1;32m    239\u001b[0m \u001b[38;5;28;01mtry\u001b[39;00m:\n\u001b[1;32m    240\u001b[0m     \u001b[38;5;66;03m# attempt to read the file as WAV\u001b[39;00m\n\u001b[0;32m--> 241\u001b[0m     \u001b[38;5;28mself\u001b[39m\u001b[38;5;241m.\u001b[39maudio_reader \u001b[38;5;241m=\u001b[39m \u001b[43mwave\u001b[49m\u001b[38;5;241;43m.\u001b[39;49m\u001b[43mopen\u001b[49m\u001b[43m(\u001b[49m\u001b[38;5;28;43mself\u001b[39;49m\u001b[38;5;241;43m.\u001b[39;49m\u001b[43mfilename_or_fileobject\u001b[49m\u001b[43m,\u001b[49m\u001b[43m \u001b[49m\u001b[38;5;124;43m\"\u001b[39;49m\u001b[38;5;124;43mrb\u001b[39;49m\u001b[38;5;124;43m\"\u001b[39;49m\u001b[43m)\u001b[49m\n\u001b[1;32m    242\u001b[0m     \u001b[38;5;28mself\u001b[39m\u001b[38;5;241m.\u001b[39mlittle_endian \u001b[38;5;241m=\u001b[39m \u001b[38;5;28;01mTrue\u001b[39;00m  \u001b[38;5;66;03m# RIFF WAV is a little-endian format (most ``audioop`` operations assume that the frames are stored in little-endian form)\u001b[39;00m\n",
            "File \u001b[0;32m/Library/Frameworks/Python.framework/Versions/3.11/lib/python3.11/wave.py:631\u001b[0m, in \u001b[0;36mopen\u001b[0;34m(f, mode)\u001b[0m\n\u001b[1;32m    630\u001b[0m \u001b[38;5;28;01mif\u001b[39;00m mode \u001b[38;5;129;01min\u001b[39;00m (\u001b[38;5;124m'\u001b[39m\u001b[38;5;124mr\u001b[39m\u001b[38;5;124m'\u001b[39m, \u001b[38;5;124m'\u001b[39m\u001b[38;5;124mrb\u001b[39m\u001b[38;5;124m'\u001b[39m):\n\u001b[0;32m--> 631\u001b[0m     \u001b[38;5;28;01mreturn\u001b[39;00m \u001b[43mWave_read\u001b[49m\u001b[43m(\u001b[49m\u001b[43mf\u001b[49m\u001b[43m)\u001b[49m\n\u001b[1;32m    632\u001b[0m \u001b[38;5;28;01melif\u001b[39;00m mode \u001b[38;5;129;01min\u001b[39;00m (\u001b[38;5;124m'\u001b[39m\u001b[38;5;124mw\u001b[39m\u001b[38;5;124m'\u001b[39m, \u001b[38;5;124m'\u001b[39m\u001b[38;5;124mwb\u001b[39m\u001b[38;5;124m'\u001b[39m):\n",
            "File \u001b[0;32m/Library/Frameworks/Python.framework/Versions/3.11/lib/python3.11/wave.py:283\u001b[0m, in \u001b[0;36mWave_read.__init__\u001b[0;34m(self, f)\u001b[0m\n\u001b[1;32m    282\u001b[0m \u001b[38;5;28;01mtry\u001b[39;00m:\n\u001b[0;32m--> 283\u001b[0m     \u001b[38;5;28;43mself\u001b[39;49m\u001b[38;5;241;43m.\u001b[39;49m\u001b[43minitfp\u001b[49m\u001b[43m(\u001b[49m\u001b[43mf\u001b[49m\u001b[43m)\u001b[49m\n\u001b[1;32m    284\u001b[0m \u001b[38;5;28;01mexcept\u001b[39;00m:\n",
            "File \u001b[0;32m/Library/Frameworks/Python.framework/Versions/3.11/lib/python3.11/wave.py:263\u001b[0m, in \u001b[0;36mWave_read.initfp\u001b[0;34m(self, file)\u001b[0m\n\u001b[1;32m    262\u001b[0m \u001b[38;5;28;01mif\u001b[39;00m chunkname \u001b[38;5;241m==\u001b[39m \u001b[38;5;124mb\u001b[39m\u001b[38;5;124m'\u001b[39m\u001b[38;5;124mfmt \u001b[39m\u001b[38;5;124m'\u001b[39m:\n\u001b[0;32m--> 263\u001b[0m     \u001b[38;5;28;43mself\u001b[39;49m\u001b[38;5;241;43m.\u001b[39;49m\u001b[43m_read_fmt_chunk\u001b[49m\u001b[43m(\u001b[49m\u001b[43mchunk\u001b[49m\u001b[43m)\u001b[49m\n\u001b[1;32m    264\u001b[0m     \u001b[38;5;28mself\u001b[39m\u001b[38;5;241m.\u001b[39m_fmt_chunk_read \u001b[38;5;241m=\u001b[39m \u001b[38;5;241m1\u001b[39m\n",
            "File \u001b[0;32m/Library/Frameworks/Python.framework/Versions/3.11/lib/python3.11/wave.py:388\u001b[0m, in \u001b[0;36mWave_read._read_fmt_chunk\u001b[0;34m(self, chunk)\u001b[0m\n\u001b[1;32m    387\u001b[0m \u001b[38;5;28;01melse\u001b[39;00m:\n\u001b[0;32m--> 388\u001b[0m     \u001b[38;5;28;01mraise\u001b[39;00m Error(\u001b[38;5;124m'\u001b[39m\u001b[38;5;124munknown format: \u001b[39m\u001b[38;5;132;01m%r\u001b[39;00m\u001b[38;5;124m'\u001b[39m \u001b[38;5;241m%\u001b[39m (wFormatTag,))\n\u001b[1;32m    389\u001b[0m \u001b[38;5;28;01mif\u001b[39;00m \u001b[38;5;129;01mnot\u001b[39;00m \u001b[38;5;28mself\u001b[39m\u001b[38;5;241m.\u001b[39m_nchannels:\n",
            "\u001b[0;31mError\u001b[0m: unknown format: 3",
            "\nDuring handling of the above exception, another exception occurred:\n",
            "\u001b[0;31mError\u001b[0m                                     Traceback (most recent call last)",
            "File \u001b[0;32m/Library/Frameworks/Python.framework/Versions/3.11/lib/python3.11/site-packages/speech_recognition/__init__.py:246\u001b[0m, in \u001b[0;36mAudioFile.__enter__\u001b[0;34m(self)\u001b[0m\n\u001b[1;32m    244\u001b[0m \u001b[38;5;28;01mtry\u001b[39;00m:\n\u001b[1;32m    245\u001b[0m     \u001b[38;5;66;03m# attempt to read the file as AIFF\u001b[39;00m\n\u001b[0;32m--> 246\u001b[0m     \u001b[38;5;28mself\u001b[39m\u001b[38;5;241m.\u001b[39maudio_reader \u001b[38;5;241m=\u001b[39m \u001b[43maifc\u001b[49m\u001b[38;5;241;43m.\u001b[39;49m\u001b[43mopen\u001b[49m\u001b[43m(\u001b[49m\u001b[38;5;28;43mself\u001b[39;49m\u001b[38;5;241;43m.\u001b[39;49m\u001b[43mfilename_or_fileobject\u001b[49m\u001b[43m,\u001b[49m\u001b[43m \u001b[49m\u001b[38;5;124;43m\"\u001b[39;49m\u001b[38;5;124;43mrb\u001b[39;49m\u001b[38;5;124;43m\"\u001b[39;49m\u001b[43m)\u001b[49m\n\u001b[1;32m    247\u001b[0m     \u001b[38;5;28mself\u001b[39m\u001b[38;5;241m.\u001b[39mlittle_endian \u001b[38;5;241m=\u001b[39m \u001b[38;5;28;01mFalse\u001b[39;00m  \u001b[38;5;66;03m# AIFF is a big-endian format\u001b[39;00m\n",
            "File \u001b[0;32m/Library/Frameworks/Python.framework/Versions/3.11/lib/python3.11/aifc.py:954\u001b[0m, in \u001b[0;36mopen\u001b[0;34m(f, mode)\u001b[0m\n\u001b[1;32m    953\u001b[0m \u001b[38;5;28;01mif\u001b[39;00m mode \u001b[38;5;129;01min\u001b[39;00m (\u001b[38;5;124m'\u001b[39m\u001b[38;5;124mr\u001b[39m\u001b[38;5;124m'\u001b[39m, \u001b[38;5;124m'\u001b[39m\u001b[38;5;124mrb\u001b[39m\u001b[38;5;124m'\u001b[39m):\n\u001b[0;32m--> 954\u001b[0m     \u001b[38;5;28;01mreturn\u001b[39;00m \u001b[43mAifc_read\u001b[49m\u001b[43m(\u001b[49m\u001b[43mf\u001b[49m\u001b[43m)\u001b[49m\n\u001b[1;32m    955\u001b[0m \u001b[38;5;28;01melif\u001b[39;00m mode \u001b[38;5;129;01min\u001b[39;00m (\u001b[38;5;124m'\u001b[39m\u001b[38;5;124mw\u001b[39m\u001b[38;5;124m'\u001b[39m, \u001b[38;5;124m'\u001b[39m\u001b[38;5;124mwb\u001b[39m\u001b[38;5;124m'\u001b[39m):\n",
            "File \u001b[0;32m/Library/Frameworks/Python.framework/Versions/3.11/lib/python3.11/aifc.py:358\u001b[0m, in \u001b[0;36mAifc_read.__init__\u001b[0;34m(self, f)\u001b[0m\n\u001b[1;32m    357\u001b[0m \u001b[38;5;28;01mtry\u001b[39;00m:\n\u001b[0;32m--> 358\u001b[0m     \u001b[38;5;28;43mself\u001b[39;49m\u001b[38;5;241;43m.\u001b[39;49m\u001b[43minitfp\u001b[49m\u001b[43m(\u001b[49m\u001b[43mfile_object\u001b[49m\u001b[43m)\u001b[49m\n\u001b[1;32m    359\u001b[0m \u001b[38;5;28;01mexcept\u001b[39;00m:\n",
            "File \u001b[0;32m/Library/Frameworks/Python.framework/Versions/3.11/lib/python3.11/aifc.py:322\u001b[0m, in \u001b[0;36mAifc_read.initfp\u001b[0;34m(self, file)\u001b[0m\n\u001b[1;32m    321\u001b[0m \u001b[38;5;28;01mif\u001b[39;00m chunk\u001b[38;5;241m.\u001b[39mgetname() \u001b[38;5;241m!=\u001b[39m \u001b[38;5;124mb\u001b[39m\u001b[38;5;124m'\u001b[39m\u001b[38;5;124mFORM\u001b[39m\u001b[38;5;124m'\u001b[39m:\n\u001b[0;32m--> 322\u001b[0m     \u001b[38;5;28;01mraise\u001b[39;00m Error(\u001b[38;5;124m'\u001b[39m\u001b[38;5;124mfile does not start with FORM id\u001b[39m\u001b[38;5;124m'\u001b[39m)\n\u001b[1;32m    323\u001b[0m formdata \u001b[38;5;241m=\u001b[39m chunk\u001b[38;5;241m.\u001b[39mread(\u001b[38;5;241m4\u001b[39m)\n",
            "\u001b[0;31mError\u001b[0m: file does not start with FORM id",
            "\nDuring handling of the above exception, another exception occurred:\n",
            "\u001b[0;31mEOFError\u001b[0m                                  Traceback (most recent call last)",
            "File \u001b[0;32m/Library/Frameworks/Python.framework/Versions/3.11/lib/python3.11/site-packages/speech_recognition/__init__.py:272\u001b[0m, in \u001b[0;36mAudioFile.__enter__\u001b[0;34m(self)\u001b[0m\n\u001b[1;32m    271\u001b[0m \u001b[38;5;28;01mtry\u001b[39;00m:\n\u001b[0;32m--> 272\u001b[0m     \u001b[38;5;28mself\u001b[39m\u001b[38;5;241m.\u001b[39maudio_reader \u001b[38;5;241m=\u001b[39m \u001b[43maifc\u001b[49m\u001b[38;5;241;43m.\u001b[39;49m\u001b[43mopen\u001b[49m\u001b[43m(\u001b[49m\u001b[43maiff_file\u001b[49m\u001b[43m,\u001b[49m\u001b[43m \u001b[49m\u001b[38;5;124;43m\"\u001b[39;49m\u001b[38;5;124;43mrb\u001b[39;49m\u001b[38;5;124;43m\"\u001b[39;49m\u001b[43m)\u001b[49m\n\u001b[1;32m    273\u001b[0m \u001b[38;5;28;01mexcept\u001b[39;00m (aifc\u001b[38;5;241m.\u001b[39mError, \u001b[38;5;167;01mEOFError\u001b[39;00m):\n",
            "File \u001b[0;32m/Library/Frameworks/Python.framework/Versions/3.11/lib/python3.11/aifc.py:954\u001b[0m, in \u001b[0;36mopen\u001b[0;34m(f, mode)\u001b[0m\n\u001b[1;32m    953\u001b[0m \u001b[38;5;28;01mif\u001b[39;00m mode \u001b[38;5;129;01min\u001b[39;00m (\u001b[38;5;124m'\u001b[39m\u001b[38;5;124mr\u001b[39m\u001b[38;5;124m'\u001b[39m, \u001b[38;5;124m'\u001b[39m\u001b[38;5;124mrb\u001b[39m\u001b[38;5;124m'\u001b[39m):\n\u001b[0;32m--> 954\u001b[0m     \u001b[38;5;28;01mreturn\u001b[39;00m \u001b[43mAifc_read\u001b[49m\u001b[43m(\u001b[49m\u001b[43mf\u001b[49m\u001b[43m)\u001b[49m\n\u001b[1;32m    955\u001b[0m \u001b[38;5;28;01melif\u001b[39;00m mode \u001b[38;5;129;01min\u001b[39;00m (\u001b[38;5;124m'\u001b[39m\u001b[38;5;124mw\u001b[39m\u001b[38;5;124m'\u001b[39m, \u001b[38;5;124m'\u001b[39m\u001b[38;5;124mwb\u001b[39m\u001b[38;5;124m'\u001b[39m):\n",
            "File \u001b[0;32m/Library/Frameworks/Python.framework/Versions/3.11/lib/python3.11/aifc.py:364\u001b[0m, in \u001b[0;36mAifc_read.__init__\u001b[0;34m(self, f)\u001b[0m\n\u001b[1;32m    362\u001b[0m \u001b[38;5;28;01melse\u001b[39;00m:\n\u001b[1;32m    363\u001b[0m     \u001b[38;5;66;03m# assume it is an open file object already\u001b[39;00m\n\u001b[0;32m--> 364\u001b[0m     \u001b[38;5;28;43mself\u001b[39;49m\u001b[38;5;241;43m.\u001b[39;49m\u001b[43minitfp\u001b[49m\u001b[43m(\u001b[49m\u001b[43mf\u001b[49m\u001b[43m)\u001b[49m\n",
            "File \u001b[0;32m/Library/Frameworks/Python.framework/Versions/3.11/lib/python3.11/aifc.py:320\u001b[0m, in \u001b[0;36mAifc_read.initfp\u001b[0;34m(self, file)\u001b[0m\n\u001b[1;32m    319\u001b[0m \u001b[38;5;28mself\u001b[39m\u001b[38;5;241m.\u001b[39m_file \u001b[38;5;241m=\u001b[39m file\n\u001b[0;32m--> 320\u001b[0m chunk \u001b[38;5;241m=\u001b[39m \u001b[43mChunk\u001b[49m\u001b[43m(\u001b[49m\u001b[43mfile\u001b[49m\u001b[43m)\u001b[49m\n\u001b[1;32m    321\u001b[0m \u001b[38;5;28;01mif\u001b[39;00m chunk\u001b[38;5;241m.\u001b[39mgetname() \u001b[38;5;241m!=\u001b[39m \u001b[38;5;124mb\u001b[39m\u001b[38;5;124m'\u001b[39m\u001b[38;5;124mFORM\u001b[39m\u001b[38;5;124m'\u001b[39m:\n",
            "File \u001b[0;32m/Library/Frameworks/Python.framework/Versions/3.11/lib/python3.11/chunk.py:67\u001b[0m, in \u001b[0;36mChunk.__init__\u001b[0;34m(self, file, align, bigendian, inclheader)\u001b[0m\n\u001b[1;32m     66\u001b[0m \u001b[38;5;28;01mif\u001b[39;00m \u001b[38;5;28mlen\u001b[39m(\u001b[38;5;28mself\u001b[39m\u001b[38;5;241m.\u001b[39mchunkname) \u001b[38;5;241m<\u001b[39m \u001b[38;5;241m4\u001b[39m:\n\u001b[0;32m---> 67\u001b[0m     \u001b[38;5;28;01mraise\u001b[39;00m \u001b[38;5;167;01mEOFError\u001b[39;00m\n\u001b[1;32m     68\u001b[0m \u001b[38;5;28;01mtry\u001b[39;00m:\n",
            "\u001b[0;31mEOFError\u001b[0m: ",
            "\nDuring handling of the above exception, another exception occurred:\n",
            "\u001b[0;31mValueError\u001b[0m                                Traceback (most recent call last)",
            "Cell \u001b[0;32mIn[45], line 1\u001b[0m\n\u001b[0;32m----> 1\u001b[0m \u001b[43mtranscribe_audio\u001b[49m\u001b[43m(\u001b[49m\u001b[43m)\u001b[49m\n",
            "Cell \u001b[0;32mIn[44], line 4\u001b[0m, in \u001b[0;36mtranscribe_audio\u001b[0;34m(audio_lang)\u001b[0m\n\u001b[1;32m      2\u001b[0m \u001b[38;5;28;01mdef\u001b[39;00m \u001b[38;5;21mtranscribe_audio\u001b[39m(audio_lang \u001b[38;5;241m=\u001b[39m \u001b[38;5;124m'\u001b[39m\u001b[38;5;124mes-ES\u001b[39m\u001b[38;5;124m'\u001b[39m):\n\u001b[1;32m      3\u001b[0m     ruta_audio \u001b[38;5;241m=\u001b[39m AUDIO_FILES_PATH \u001b[38;5;241m+\u001b[39m FILENAME\n\u001b[0;32m----> 4\u001b[0m \u001b[43m    \u001b[49m\u001b[38;5;28;43;01mwith\u001b[39;49;00m\u001b[43m \u001b[49m\u001b[43msr\u001b[49m\u001b[38;5;241;43m.\u001b[39;49m\u001b[43mAudioFile\u001b[49m\u001b[43m(\u001b[49m\u001b[43mruta_audio\u001b[49m\u001b[43m)\u001b[49m\u001b[43m \u001b[49m\u001b[38;5;28;43;01mas\u001b[39;49;00m\u001b[43m \u001b[49m\u001b[43msource\u001b[49m\u001b[43m:\u001b[49m\n\u001b[1;32m      5\u001b[0m \u001b[43m        \u001b[49m\u001b[38;5;66;43;03m# Escuchar el audio (en inglés)\u001b[39;49;00m\n\u001b[1;32m      6\u001b[0m \u001b[43m        \u001b[49m\u001b[43maudio\u001b[49m\u001b[43m \u001b[49m\u001b[38;5;241;43m=\u001b[39;49m\u001b[43m \u001b[49m\u001b[43mrecognizer\u001b[49m\u001b[38;5;241;43m.\u001b[39;49m\u001b[43mrecord\u001b[49m\u001b[43m(\u001b[49m\u001b[43msource\u001b[49m\u001b[43m)\u001b[49m\n\u001b[1;32m      8\u001b[0m \u001b[43m        \u001b[49m\u001b[38;5;66;43;03m# Utilizar Google Speech Recognition para transcribir el audio\u001b[39;49;00m\n",
            "File \u001b[0;32m/Library/Frameworks/Python.framework/Versions/3.11/lib/python3.11/site-packages/speech_recognition/__init__.py:274\u001b[0m, in \u001b[0;36mAudioFile.__enter__\u001b[0;34m(self)\u001b[0m\n\u001b[1;32m    272\u001b[0m             \u001b[38;5;28mself\u001b[39m\u001b[38;5;241m.\u001b[39maudio_reader \u001b[38;5;241m=\u001b[39m aifc\u001b[38;5;241m.\u001b[39mopen(aiff_file, \u001b[38;5;124m\"\u001b[39m\u001b[38;5;124mrb\u001b[39m\u001b[38;5;124m\"\u001b[39m)\n\u001b[1;32m    273\u001b[0m         \u001b[38;5;28;01mexcept\u001b[39;00m (aifc\u001b[38;5;241m.\u001b[39mError, \u001b[38;5;167;01mEOFError\u001b[39;00m):\n\u001b[0;32m--> 274\u001b[0m             \u001b[38;5;28;01mraise\u001b[39;00m \u001b[38;5;167;01mValueError\u001b[39;00m(\u001b[38;5;124m\"\u001b[39m\u001b[38;5;124mAudio file could not be read as PCM WAV, AIFF/AIFF-C, or Native FLAC; check if file is corrupted or in another format\u001b[39m\u001b[38;5;124m\"\u001b[39m)\n\u001b[1;32m    275\u001b[0m         \u001b[38;5;28mself\u001b[39m\u001b[38;5;241m.\u001b[39mlittle_endian \u001b[38;5;241m=\u001b[39m \u001b[38;5;28;01mFalse\u001b[39;00m  \u001b[38;5;66;03m# AIFF is a big-endian format\u001b[39;00m\n\u001b[1;32m    276\u001b[0m \u001b[38;5;28;01massert\u001b[39;00m \u001b[38;5;241m1\u001b[39m \u001b[38;5;241m<\u001b[39m\u001b[38;5;241m=\u001b[39m \u001b[38;5;28mself\u001b[39m\u001b[38;5;241m.\u001b[39maudio_reader\u001b[38;5;241m.\u001b[39mgetnchannels() \u001b[38;5;241m<\u001b[39m\u001b[38;5;241m=\u001b[39m \u001b[38;5;241m2\u001b[39m, \u001b[38;5;124m\"\u001b[39m\u001b[38;5;124mAudio must be mono or stereo\u001b[39m\u001b[38;5;124m\"\u001b[39m\n",
            "\u001b[0;31mValueError\u001b[0m: Audio file could not be read as PCM WAV, AIFF/AIFF-C, or Native FLAC; check if file is corrupted or in another format"
          ]
        }
      ],
      "source": [
        "transcribe_audio()"
      ]
    },
    {
      "cell_type": "code",
      "execution_count": null,
      "metadata": {
        "id": "pxpKQFiNm7m-"
      },
      "outputs": [],
      "source": [
        "# Transcribir y mostrar el resultado\n",
        "text = transcribe_audio(audio_file_path, audio_lang)"
      ]
    },
    {
      "cell_type": "markdown",
      "metadata": {
        "id": "AcUSQzM7qsxY"
      },
      "source": [
        "## **2. Procesamiento del Lenguaje Natural (NLP)**"
      ]
    },
    {
      "cell_type": "markdown",
      "metadata": {
        "id": "HDaWq5syqu6m"
      },
      "source": [
        "### **Preprocesamiento de Texto:**\n"
      ]
    },
    {
      "cell_type": "markdown",
      "metadata": {
        "id": "FLfTLCw2q8IM"
      },
      "source": [
        "\n",
        "**Normalización del texto (eliminación de ruido, corrección ortográfica, etc.)**"
      ]
    },
    {
      "cell_type": "code",
      "execution_count": null,
      "metadata": {
        "id": "B6Br9PyerAkd"
      },
      "outputs": [],
      "source": []
    },
    {
      "cell_type": "markdown",
      "metadata": {
        "id": "vrKl19tGq9KJ"
      },
      "source": [
        "**Tokenización**"
      ]
    },
    {
      "cell_type": "code",
      "execution_count": null,
      "metadata": {
        "id": "f5IX1gghrBXD"
      },
      "outputs": [],
      "source": []
    },
    {
      "cell_type": "markdown",
      "metadata": {
        "id": "xVbV-FF5q-af"
      },
      "source": [
        "**Eliminación de stop words.**\n"
      ]
    },
    {
      "cell_type": "code",
      "execution_count": null,
      "metadata": {
        "id": "TY1ASrUnrB3I"
      },
      "outputs": [],
      "source": []
    },
    {
      "cell_type": "markdown",
      "metadata": {
        "id": "Lt4d5DQcq_xW"
      },
      "source": [
        "**Lematización y stemming**"
      ]
    },
    {
      "cell_type": "code",
      "execution_count": null,
      "metadata": {
        "id": "ZkAeKi67rCfu"
      },
      "outputs": [],
      "source": []
    },
    {
      "cell_type": "markdown",
      "metadata": {
        "id": "C9ZvYH9dq1GY"
      },
      "source": [
        "### **Análisis de Texto:**\n"
      ]
    },
    {
      "cell_type": "markdown",
      "metadata": {
        "id": "wSCEB3hpr2y6"
      },
      "source": [
        "Análisis de Sentimiento: Determinar la emoción o tono del texto.\n"
      ]
    },
    {
      "cell_type": "code",
      "execution_count": null,
      "metadata": {
        "id": "QtrOgErkr4PD"
      },
      "outputs": [],
      "source": []
    },
    {
      "cell_type": "markdown",
      "metadata": {
        "id": "hzhTpz0qr4lW"
      },
      "source": [
        "Detección de Intenciones (Intent Detection): Identificar la intención del usuario utilizando modelos como BERT, GPT, RASA, etc.\n"
      ]
    },
    {
      "cell_type": "code",
      "execution_count": null,
      "metadata": {
        "id": "lEYOkzT7r8Pj"
      },
      "outputs": [],
      "source": []
    },
    {
      "cell_type": "markdown",
      "metadata": {
        "id": "QI6hMGhzr8mg"
      },
      "source": [
        "Extracción de Entidades (Entity Recognition): Extraer información relevante del texto, como nombres, fechas, ubicaciones, etc."
      ]
    },
    {
      "cell_type": "code",
      "execution_count": null,
      "metadata": {
        "id": "xgG3V-bCq2Ii"
      },
      "outputs": [],
      "source": []
    },
    {
      "cell_type": "markdown",
      "metadata": {
        "id": "_ibsChXBsNdX"
      },
      "source": [
        "## **3. Gestión del Diálogo**"
      ]
    },
    {
      "cell_type": "markdown",
      "metadata": {
        "id": "zEnB65VssQvq"
      },
      "source": [
        "### Módulo de Gestión de Estado:\n",
        "Llevar un registro del contexto y estado del diálogo para mantener conversaciones coherentes.\n"
      ]
    },
    {
      "cell_type": "code",
      "execution_count": null,
      "metadata": {
        "id": "3ECriCX3sVWu"
      },
      "outputs": [],
      "source": []
    },
    {
      "cell_type": "markdown",
      "metadata": {
        "id": "BByh2AXGsVmJ"
      },
      "source": [
        "### Motor de Respuesta:\n"
      ]
    },
    {
      "cell_type": "markdown",
      "metadata": {
        "id": "j15ewWSasb4F"
      },
      "source": [
        "Generación de Respuestas: Utilizar modelos generativos (como GPT-3) o respuestas predefinidas según las intenciones y entidades detectadas.\n"
      ]
    },
    {
      "cell_type": "code",
      "execution_count": null,
      "metadata": {
        "id": "UjnjzK3gseaL"
      },
      "outputs": [],
      "source": []
    },
    {
      "cell_type": "markdown",
      "metadata": {
        "id": "xgvv-ETKsenO"
      },
      "source": [
        "Selección de Respuestas: Elegir la mejor respuesta entre varias opciones generadas.\n"
      ]
    },
    {
      "cell_type": "code",
      "execution_count": null,
      "metadata": {
        "id": "3t1AFBk2sf1P"
      },
      "outputs": [],
      "source": []
    },
    {
      "cell_type": "markdown",
      "metadata": {
        "id": "QntMxU6_shpm"
      },
      "source": [
        "### Personalización y Contexto: Adaptar las respuestas en función del historial del usuario y el contexto actual."
      ]
    },
    {
      "cell_type": "code",
      "execution_count": null,
      "metadata": {
        "id": "MU_3as2dsi2S"
      },
      "outputs": [],
      "source": []
    },
    {
      "cell_type": "markdown",
      "metadata": {
        "id": "9-sSu2b0soDe"
      },
      "source": [
        "## 4. Salida de Usuario (Text-to-Speech)\n"
      ]
    },
    {
      "cell_type": "markdown",
      "metadata": {
        "id": "q5eR9QLTssCK"
      },
      "source": [
        "### Conversión de Texto a Voz (TTS): Utilizar servicios como Google Text-to-Speech, Amazon Polly, o frameworks como Tacotron para convertir el texto generado en voz.\n"
      ]
    },
    {
      "cell_type": "code",
      "execution_count": null,
      "metadata": {
        "id": "kzi_CA2tswVF"
      },
      "outputs": [],
      "source": []
    },
    {
      "cell_type": "markdown",
      "metadata": {
        "id": "u3TVK99Wswe8"
      },
      "source": [
        "### Reproducción de Audio: Entregar la respuesta de voz al usuario."
      ]
    },
    {
      "cell_type": "code",
      "execution_count": null,
      "metadata": {
        "id": "TOKovFuVsyaD"
      },
      "outputs": [],
      "source": []
    }
  ],
  "metadata": {
    "accelerator": "GPU",
    "colab": {
      "gpuType": "T4",
      "provenance": []
    },
    "kernelspec": {
      "display_name": "Python 3",
      "name": "python3"
    },
    "language_info": {
      "codemirror_mode": {
        "name": "ipython",
        "version": 3
      },
      "file_extension": ".py",
      "mimetype": "text/x-python",
      "name": "python",
      "nbconvert_exporter": "python",
      "pygments_lexer": "ipython3",
      "version": "3.11.4"
    }
  },
  "nbformat": 4,
  "nbformat_minor": 0
}
