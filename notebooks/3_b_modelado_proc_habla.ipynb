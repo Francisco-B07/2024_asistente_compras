{
  "cells": [
    {
      "cell_type": "markdown",
      "metadata": {
        "id": "XTpu7pHup5pq"
      },
      "source": [
        "## **Estructura de sub-etapas del procesamiento del habla:**\n",
        "\n",
        "---\n",
        "\n",
        "```\n",
        "├── Input Layer\n",
        "│   ├── Audio Capture\n",
        "│   └── ASR (Speech-to-Text)\n",
        "├── NLP Layer\n",
        "│   ├── Text Preprocessing\n",
        "│   ├── Intent Detection\n",
        "│   ├── Entity Recognition\n",
        "│   └── Sentiment Analysis\n",
        "├── Dialogue Management\n",
        "│   ├── State Management\n",
        "│   ├── Response Generation\n",
        "│   ├── Response Selection\n",
        "│   └── Context Handling\n",
        "├── Output Layer\n",
        "│   ├── TTS (Text-to-Speech)\n",
        "│   └── Audio Playback\n",
        "\n",
        "```\n"
      ]
    },
    {
      "cell_type": "markdown",
      "metadata": {
        "id": "ba_DUci1CkX6"
      },
      "source": [
        "### **Estructura operativa para cada sub-etapa:**\n",
        "\n",
        "**Selección de técnicas de modelado:** En este caso se utilizara [] para la etapa de reconocimiento de voz, [] para el procesamiento y analisis de texto y [] para la conversion de texto a voz.\n",
        "\n",
        "**Generación de un diseño de comprobación:** Para elegir el modelo correcto, este devera ser el que pondere mas alto en un promedio de las diferentes metricas de evaluacion del modelo.\n",
        "\n",
        "**Generación de los modelos:** Se definiran y configuraran los parametros del modelo para pasar a la etapa de ejecucion y descripcion.\n",
        "\n",
        "**Evaluación del modelo:** Se evaluaran los diferentes modelos de manera individual en busqueda de optimizar sus parametros y escoger la combinacion mas optima entre modelos / parametros individuales."
      ]
    },
    {
      "cell_type": "code",
      "execution_count": null,
      "metadata": {
        "id": "JM_Jd-w3lOWe"
      },
      "outputs": [],
      "source": [
        "# Execute if use colab and you need import files\n",
        "from google.colab import files"
      ]
    },
    {
      "cell_type": "code",
      "execution_count": null,
      "metadata": {},
      "outputs": [],
      "source": [
        "# Execute if use colab and you need import files\n",
        "drive.mount('/content/drive')"
      ]
    },
    {
      "cell_type": "code",
      "execution_count": null,
      "metadata": {
        "id": "oTkfaLx7boQi"
      },
      "outputs": [],
      "source": [
        "# Execute if use colab\n",
        "%%bash\n",
        "apt-get update\n",
        "apt-get install python3\n",
        "apt-get install -venv\n",
        "python3 -m venv proc_habla\n",
        "source proc_habla/bin/activate"
      ]
    },
    {
      "cell_type": "code",
      "execution_count": null,
      "metadata": {},
      "outputs": [],
      "source": [
        "# Create and activate virtual env for speech processing stage\n",
        "!python3 -m venv proc_habla\n",
        "!source proc_habla/bin/activate"
      ]
    },
    {
      "cell_type": "markdown",
      "metadata": {
        "id": "T0MT6XY2qoIA"
      },
      "source": [
        "## **1. Entrada de Usuario (Reconocimiento del Habla)**"
      ]
    },
    {
      "cell_type": "code",
      "execution_count": null,
      "metadata": {
        "id": "yIsbz7_HkZZJ"
      },
      "outputs": [],
      "source": [
        "!pip3 install SpeechRecognition\n",
        "!pip3 install sounddevice\n",
        "!pip3 install scipy\n",
        "!pip3 install pydub\n",
        "!pip install pocketsphinx"
      ]
    },
    {
      "cell_type": "code",
      "execution_count": 4,
      "metadata": {
        "id": "eQgslv4y1nrF"
      },
      "outputs": [],
      "source": [
        "import speech_recognition as sr\n",
        "import numpy as np\n",
        "import wave\n",
        "import pandas as pd\n",
        "import sounddevice as sd\n",
        "from scipy.io.wavfile import write\n",
        "import queue\n",
        "import threading\n",
        "from pydub import AudioSegment\n",
        "import subprocess\n",
        "import zipfile\n",
        "import os\n",
        "import pandas as pd"
      ]
    },
    {
      "cell_type": "code",
      "execution_count": null,
      "metadata": {},
      "outputs": [],
      "source": [
        "# Ruta del archivo zip descargado\n",
        "ruta_modelo_comprimido_pocketsphinx_esp = \"../datos/brutos/modelos_proc_habla/modelo_esp.zip\"\n",
        "\n",
        "# Directorio donde se colocarán los archivos descomprimidos\n",
        "ruta_modelo_descomprimido_pocketsphinx_esp = \"/Library/Frameworks/Python.framework/Versions/3.11/lib/python3.11/site-packages/speech_recognition/pocketsphinx-data/es-ES/\"\n",
        "\n",
        "# Descomprimir el archivo zip\n",
        "with zipfile.ZipFile(ruta_modelo_comprimido_pocketsphinx_esp, 'r') as zip_ref:\n",
        "    zip_ref.extractall(ruta_modelo_descomprimido_pocketsphinx_esp)\n",
        "\n",
        "print(\"Archivos descomprimidos en:\", ruta_modelo_descomprimido_pocketsphinx_esp)"
      ]
    },
    {
      "cell_type": "code",
      "execution_count": null,
      "metadata": {},
      "outputs": [],
      "source": [
        "try:\n",
        "    subprocess.run([\"sudo\", \"apt-get\", \"install\", \"ffmpeg\"])\n",
        "    print(\"FFmpeg instalado exitosamente en sistemas basados en Debian.\")\n",
        "except Exception as e:\n",
        "    print(\"Error al instalar FFmpeg:\", e)\n",
        "try:\n",
        "    subprocess.run([\"brew\", \"install\", \"ffmpeg\"])\n",
        "    print(\"FFmpeg instalado exitosamente en macOS utilizando Homebrew.\")\n",
        "except Exception as e:\n",
        "    print(\"Error al instalar FFmpeg:\", e)"
      ]
    },
    {
      "cell_type": "code",
      "execution_count": null,
      "metadata": {},
      "outputs": [],
      "source": [
        "columns_consultas_df = ['id_consulta', 'id_cliente', 'formato_consulta', 'transcripción_audio', 'entrada_texto', 'productos_detectados']"
      ]
    },
    {
      "cell_type": "code",
      "execution_count": null,
      "metadata": {},
      "outputs": [],
      "source": [
        "consultas_df = pd.DataFrame(columns=columns_consultas_df)"
      ]
    },
    {
      "cell_type": "code",
      "execution_count": 5,
      "metadata": {},
      "outputs": [],
      "source": [
        "path_csv_frutas_verduras = '../datos/procesaodos/VerdurasporSupermercado.csv'\n",
        "frutas_verduras = pd.read_csv(path_csv_frutas_verduras)"
      ]
    },
    {
      "cell_type": "code",
      "execution_count": 6,
      "metadata": {},
      "outputs": [
        {
          "data": {
            "text/html": [
              "<div>\n",
              "<style scoped>\n",
              "    .dataframe tbody tr th:only-of-type {\n",
              "        vertical-align: middle;\n",
              "    }\n",
              "\n",
              "    .dataframe tbody tr th {\n",
              "        vertical-align: top;\n",
              "    }\n",
              "\n",
              "    .dataframe thead th {\n",
              "        text-align: right;\n",
              "    }\n",
              "</style>\n",
              "<table border=\"1\" class=\"dataframe\">\n",
              "  <thead>\n",
              "    <tr style=\"text-align: right;\">\n",
              "      <th></th>\n",
              "      <th>Supermercado</th>\n",
              "      <th>Producto</th>\n",
              "      <th>Precio</th>\n",
              "    </tr>\n",
              "  </thead>\n",
              "  <tbody>\n",
              "    <tr>\n",
              "      <th>0</th>\n",
              "      <td>Carrefour</td>\n",
              "      <td>Ajo suelto x kg.</td>\n",
              "      <td>$ 7.690,00</td>\n",
              "    </tr>\n",
              "    <tr>\n",
              "      <th>1</th>\n",
              "      <td>Carrefour</td>\n",
              "      <td>Tomate perita x kg.</td>\n",
              "      <td>$ 5.499,00</td>\n",
              "    </tr>\n",
              "    <tr>\n",
              "      <th>2</th>\n",
              "      <td>Carrefour</td>\n",
              "      <td>Sandía x kg.</td>\n",
              "      <td>$ 2.499,00</td>\n",
              "    </tr>\n",
              "    <tr>\n",
              "      <th>3</th>\n",
              "      <td>Carrefour</td>\n",
              "      <td>Rúcula x 1 atado</td>\n",
              "      <td>$ 699,00</td>\n",
              "    </tr>\n",
              "    <tr>\n",
              "      <th>4</th>\n",
              "      <td>Carrefour</td>\n",
              "      <td>Acelga x paquete</td>\n",
              "      <td>$ 1.189,00</td>\n",
              "    </tr>\n",
              "    <tr>\n",
              "      <th>5</th>\n",
              "      <td>Carrefour</td>\n",
              "      <td>Cebolla morada x kg.</td>\n",
              "      <td>$ 1.799,00</td>\n",
              "    </tr>\n",
              "    <tr>\n",
              "      <th>6</th>\n",
              "      <td>Carrefour</td>\n",
              "      <td>Lechuga morada kg.</td>\n",
              "      <td>$ 5.599,00</td>\n",
              "    </tr>\n",
              "    <tr>\n",
              "      <th>7</th>\n",
              "      <td>Carrefour</td>\n",
              "      <td>Lechuga francesa hidropónica 220 g.</td>\n",
              "      <td>$ 1.899,00</td>\n",
              "    </tr>\n",
              "    <tr>\n",
              "      <th>8</th>\n",
              "      <td>Carrefour</td>\n",
              "      <td>Lima taití x kg.</td>\n",
              "      <td>$ 2.999,00</td>\n",
              "    </tr>\n",
              "    <tr>\n",
              "      <th>9</th>\n",
              "      <td>Carrefour</td>\n",
              "      <td>Maní tostado pelado sin sal x kg.</td>\n",
              "      <td>$ 5.290,00</td>\n",
              "    </tr>\n",
              "  </tbody>\n",
              "</table>\n",
              "</div>"
            ],
            "text/plain": [
              "  Supermercado                             Producto      Precio\n",
              "0    Carrefour                     Ajo suelto x kg.  $ 7.690,00\n",
              "1    Carrefour                  Tomate perita x kg.  $ 5.499,00\n",
              "2    Carrefour                         Sandía x kg.  $ 2.499,00\n",
              "3    Carrefour                     Rúcula x 1 atado    $ 699,00\n",
              "4    Carrefour                     Acelga x paquete  $ 1.189,00\n",
              "5    Carrefour                 Cebolla morada x kg.  $ 1.799,00\n",
              "6    Carrefour                   Lechuga morada kg.  $ 5.599,00\n",
              "7    Carrefour  Lechuga francesa hidropónica 220 g.  $ 1.899,00\n",
              "8    Carrefour                     Lima taití x kg.  $ 2.999,00\n",
              "9    Carrefour    Maní tostado pelado sin sal x kg.  $ 5.290,00"
            ]
          },
          "execution_count": 6,
          "metadata": {},
          "output_type": "execute_result"
        }
      ],
      "source": [
        "frutas_verduras.head(10)"
      ]
    },
    {
      "cell_type": "code",
      "execution_count": 10,
      "metadata": {},
      "outputs": [
        {
          "data": {
            "text/plain": [
              "array(['Ajo suelto x kg.', 'Tomate perita x kg.', 'Sandía x kg.',\n",
              "       'Rúcula x 1 atado', 'Acelga x paquete', 'Cebolla morada x kg.',\n",
              "       'Lechuga morada kg.', 'Lechuga francesa hidropónica 220 g.',\n",
              "       'Lima taití x kg.', 'Maní tostado pelado sin sal x kg.',\n",
              "       'Snack manzana roja deshidratada Frutty 18 g.',\n",
              "       'Chaucha ballina x kg.', 'Chaucha rolliza x kg.',\n",
              "       'Limon organico 1 kg.',\n",
              "       'Ciruelas desecadas sin cáscara Presidente x 200 g.',\n",
              "       'Almendras peladas 50 g.', 'Pera roja x kg.',\n",
              "       'Ciruelas desecadas sin carozos 200 g.', 'Maní japonés x kg.',\n",
              "       'Piña comercial x kg.', 'Mix de frutas secas 150 g',\n",
              "       'Almendras sin cáscara Blancalmen 100 g.',\n",
              "       'Nueces con cáscara 250 g.', 'Repollo orgánico x kg.',\n",
              "       'Chip de banana 100 g.', 'Nueces peladas El mercado 300 g.',\n",
              "       'Castañas de cajú 150 g.',\n",
              "       'Hongos shitake laminados Villares 25 g.', 'Mix supremo 50 g.',\n",
              "       'Tomates secos 70 g.', 'Almendras El Mercado 400 g.',\n",
              "       'Ají picante x kg.', 'Mix de frutas secas con nuez 100 g.',\n",
              "       'Albahaca hidropónica Vequa en cono',\n",
              "       'Castañas de cajú El mercado 350 g.',\n",
              "       'Castañas de caju saladas x kg.',\n",
              "       'Mix de frutos secos salados Beepure en frasco 190 g.',\n",
              "       'Ensalada mix verdes 300 g.',\n",
              "       'Mix frutos secos Grandiet proteínas 150 g.', 'Coco x kg.',\n",
              "       'Frutos secos Maní Mix Saladito 150 g.',\n",
              "       'Ensalada Rocky mezclum con cherry 300 g.',\n",
              "       'Mix de frutos secos supremo 150 g.',\n",
              "       'Pasas de uva con chocolate Los Carolinos 150 g.',\n",
              "       'Kale y remolacha 200 g.', 'Ensalada Rocky cuatro colores 250 g.',\n",
              "       'Ensalada vegetariana 180 g.', 'Mix europa 500 g.',\n",
              "       'Batata naranja Huella Natural x kg.', 'Naranja de jugo x kg.',\n",
              "       'Berenjena negra x kg.', 'Lechuga Capuchina x kg.',\n",
              "       'Almendras 135 g.', 'Pasas de uva 170 g.', 'Mandioca x kg',\n",
              "       'Champignones y portobellos mix Porto 180 g.',\n",
              "       'Tomate seco 100 g.', 'Plátano x kg.',\n",
              "       'Pasas de uva Pasablanca 150 g.',\n",
              "       'Mix de lechugas Huella Natural 300 g.', 'Palta (Kg)',\n",
              "       'Zapallo Anco (Kg)', 'Pomelo (Kg)', 'Remolacha S/Hoja (Kg)',\n",
              "       'Zapallo Criollo (Kg)', 'Repollo Blanco (Kg)',\n",
              "       'Repollo Colorado (Kg)', 'Ajo Granel (Kg)', 'Sandía (Kg)',\n",
              "       'Albahaca x unidad', 'Apio Envasado x 300 g.',\n",
              "       'Berenjena Variedades (Kg)', 'Ajo En Bolsita (Kg)',\n",
              "       'Zapallo Anco Fraccionado (Kg)', 'Soja (Kg)',\n",
              "       'Higos Desecados Conosur x 200 g.', 'Hinojo (Kg)',\n",
              "       'Zapallo Anco en Rodajas (Kg)', 'Escarola Envasada x 300 g.',\n",
              "       'Papa Granel (Kg)', 'Banana Ecuador (Kg)', 'Cebolla (Kg)',\n",
              "       'Zanahoria (Kg)', 'Mandarina (Kg)', 'Manzana Red Bolsita (Kg)',\n",
              "       'Zapallito Redondo (Kg)', 'Pera (Kg)', 'Limón (Kg)',\n",
              "       'Naranja (Kg)', 'Zapallo Ingles (Kg)', 'Tomate Redondo (Kg)',\n",
              "       'Batata (Kg)', 'Zanahoria Comercial Bolsita (Kg)',\n",
              "       'Manzana Red Elegida (Kg)', 'Berenjena (Kg)',\n",
              "       'Batata Boniato (Kg)', 'Rúcula Envasada x 70 gr',\n",
              "       'Papa Bolsita Elegida (Kg)', 'Choclo sin chala Envasado x 530 gr',\n",
              "       'Lechuga Hidropónica x unidad', 'Acelga Envasada x 500 gr',\n",
              "       'Papa Comercial Bolsita (Kg)',\n",
              "       'Zapallo Anco Comercial Bolsita (Kg)', 'Morrón Colorado (Kg)',\n",
              "       'Uvas (Kg)', 'Manzana Grany Elegida (Kg)',\n",
              "       'Lechuga Francesa Envasada x 250 gr',\n",
              "       'Lechuga Capuchina Envasada x 350 gr',\n",
              "       'Champignon Portobello Bandeja x 200 gr',\n",
              "       'Cebolla de Verdeo Envasada x 250 g.',\n",
              "       'Espinaca Envasada X Unidad x 400 gr', 'Kiwi (Kg)',\n",
              "       'Champignon Bandeja x 200 gr', 'Morrón Verde (Kg)',\n",
              "       'Lechuga Mantecosa Envasada x 200 gr', 'Pepino (Kg)',\n",
              "       'Girasol Tostado sin Sal x 200 gr',\n",
              "       'Girasol Tostado Salado x 200 gr', 'Cebolla Roja (Kg)',\n",
              "       'Zapallito Largo (Kg)', 'Perejil Envasado x 100 gr', 'Melón (Kg)',\n",
              "       'Cebolla Comercial Bolsita (Kg)',\n",
              "       'Manzana Grany Comercial Bolsita (Kg)', 'Brócoli (Kg)',\n",
              "       'Penca de Acelga x 300 g.', 'Maní Tostado Con Cascara (Kg)',\n",
              "       'Ensalada Coleslaw x 250 g.', 'Coliflor (Kg)',\n",
              "       'Rabanito Envasado x 200 gr', 'Zanahoria Baby envasada x 250 gr',\n",
              "       'Perejil X Atado x 1 Un.', 'Semilla de Chía El Peoncito x 175 g.',\n",
              "       'Vegetales para Sopa O Guarnición Mic Rie La Huerta x 400 g.',\n",
              "       'Vegetales para Wok Rie La Huerta x 370 g.',\n",
              "       'Semillas de Lino For Good x 150 g.',\n",
              "       'Semilla de Girasol Pelado El Peoncito x 175 g.', 'Jengibre (Kg)',\n",
              "       'Zanahoria Rallada Rie La Huerta x 250 g.',\n",
              "       'Semilla de Sésamo Integral El Peoncito x 175 g.',\n",
              "       'Cebolla Blanca (Kg)', 'Pasas de Uva Negras El Peoncito x 250 g.',\n",
              "       'Cilantro Envasado x 70 gr', 'Ciruela (Kg)', 'Tomate Cherry (Kg)',\n",
              "       'Nueces Peladas El Peoncito Bolsa x 100 g.',\n",
              "       'Tomates Secos El Peoncito x 100 g.', 'Tomate Perita (Kg)',\n",
              "       'Morrón Variedades (Kg)', 'Mango (Kg)',\n",
              "       'Lechuga Morada Envasada x 1 Un.',\n",
              "       'Pasas de Uva Sultanina Negras El Peoncito x 100 g.',\n",
              "       'Maní Frito con Piel Maní King x 500 g.',\n",
              "       'Quinoa El Peoncito x 175 g.', 'Lechuga Capuchina (Kg)',\n",
              "       'Maní Honey Roasted Spicy Dec Alimentos x 220 g.',\n",
              "       'Mix de Frutos Secos Salados El Peoncito x 100 g.',\n",
              "       'Brócoli Envasado x 250 g.',\n",
              "       'Almendras Peladas El Peoncito x 100 g.',\n",
              "       'Castañas de Caju Salada y Tostada Villares x 150 g.',\n",
              "       'Hierbas Aromáticas Frescas x 20 g.',\n",
              "       'Nueces Peladas Mariposa El Peoncito x 200 g.',\n",
              "       'Mix Frutas Secas El Peoncito x 250 g.',\n",
              "       'Mix Araucano El Peoncito x 250 g.',\n",
              "       'Ensalada Lechugas y Cherry Rie Rie La Huerta x 200 g.',\n",
              "       'Nuez C/Cascara (Kg)', 'Blanco de Apio Rie La Huerta x 300 g.',\n",
              "       'Espinaca Baby Hojas Verdes y Rojas Rie La Huerta x 150 g.',\n",
              "       'Puerro Envasado x 250 g.',\n",
              "       'Lechuga Hidropónica Mantecosa x 1 Un.',\n",
              "       'Mix Frutas Secas The Happy Snack x 300 g.',\n",
              "       'Mix de Frutos Secos Tropical El Peoncito x 100 g.', 'Piña (Kg)',\n",
              "       'Espinaca y Acelga Lavada y Cortada Mic Rie La Huerta x 500 g.',\n",
              "       'Mix de Frutas Secas Desec Patagónico El Peoncito x 100 g.',\n",
              "       'Nueces Peladas Pote Conosur x 100 g.',\n",
              "       'Pistacho c/Cascara Salado y Tostado El Peoncito x 200 g.',\n",
              "       'Cramberries El Peoncito x 150 g.',\n",
              "       'Semillas de Chía For Good x 150 g.', 'Cebolla Verdeo (Kg)',\n",
              "       'Choclo sin chala (Kg)',\n",
              "       'Mix de Frutas Secas El Peoncito x 100 g.',\n",
              "       'Pasas de Uva Moscatel El Peoncito x 250 g.',\n",
              "       'Mix Brócoli Coliflor x 300 g.', 'Almendras La Anónima (Kg)',\n",
              "       'Cebolla en Tubo (Kg)', 'Zanahoria Rallada Roots x 250 g.',\n",
              "       'Espinaca Baby Rie La Huerta x 150 g.',\n",
              "       'Kale & Remolacha Sueño Verde x 200 g.',\n",
              "       'Almendras Peladas Medianas El Peoncito x 250 g.',\n",
              "       'Mix Europeo El Peoncito x 250 g.',\n",
              "       'Ensalada Lechuga Repollo y Zanahoria Rie La Huerta x 200 g.',\n",
              "       'Ensalada Rúcula y Radicchio Sueño Verde x 110 g.', 'Plátano (Kg)',\n",
              "       'Coco (Kg)', 'Maní Japones Conosur x 400 g.',\n",
              "       'Mix de Frutas Secas Maní Almendras Casta Croppers x 80 g.',\n",
              "       'Radiccio Envasado x 320 gr',\n",
              "       'Chips de Manzana Roja Fruch x 35 g.',\n",
              "       'Pasas de Uva Sultaninas La Parmesana x 250 g.',\n",
              "       'Chips de Manzana Verde Fruch x 35 g.',\n",
              "       'Mix de Frutas The Happy Snack x 40 g.',\n",
              "       'Mix Europa The Happy Snack x 40 g.',\n",
              "       'Mix Desayuno The Happy Snack x 40 g.',\n",
              "       'Mix Energético The Healthy Snack x 50 g.',\n",
              "       'Pistachos Tostados y Salados El Peoncito x 100 g.',\n",
              "       'Avellanas Peladas Villares x 150 g.',\n",
              "       'Semillas de Girasol El Peoncito x 100 g.',\n",
              "       'Semillas de Chía El Peoncito x 100 g.',\n",
              "       'Lechuga Hidropónica Variedades x 1 Un.',\n",
              "       'Mix Desayuno The Happy Snack x 300 g.',\n",
              "       'Ensalada Cítrica Sueño Verde x 200 g.',\n",
              "       'Semillas de Chía Genser x 150 g.',\n",
              "       'Almendras Peladas sin Tacc The Happy Snack x 50 g.',\n",
              "       'Mix Energético sin Tacc The Happy Snack x 50 g.',\n",
              "       'Ciruelas Secas El Peoncito x 500 g.',\n",
              "       'Mix Global sin Tacc The Happy Snack x 25 g.',\n",
              "       'Pasas de Uva Sultanina Negras El Peoncito x 250 g.',\n",
              "       'Espinaca Baby Hidropónica Vequa x 170 g.',\n",
              "       'Chaucha Envasada Mic x 230 g.',\n",
              "       'Zanahoria y Remolacha Rallada Rie La Huerta x 250 g.',\n",
              "       'Garrapiñada de Maní Conosur x 500 g.',\n",
              "       'Mix Saladito Pote Conosur x 150 g.',\n",
              "       'Acelga Cortada Rocky Rocky x 500 g.',\n",
              "       'Ciruelas D Agen sin Carozo Nature Food x 200 g.',\n",
              "       'Ciruelas President sin Carozo Nature Food x 200 g.',\n",
              "       'Dátiles Nature Food x 200 g.',\n",
              "       'Higos Negros con Almendras Los Carolinos x 250 g.',\n",
              "       'Higos Negros Desecados Nature Food x 200 g.',\n",
              "       'Mix de Frutas Deshidratadas Nature Food x 200 g.',\n",
              "       'Pasas de Uva Rubias El Peoncito x 250 g.',\n",
              "       'Pasas de Uva Morenas sin Semillas Nature Food x 200 g.',\n",
              "       'Ciruela Presidente sin Carozo El Peoncito x 250 g.',\n",
              "       'Pasas de Uva Rubias sin Semillas Nature Food x 200 g.',\n",
              "       'Peras en Mitades Desecadas Nature Food x 200 g.',\n",
              "       'Tomates Peritas Deshidratados Nature Food x 150 g.',\n",
              "       'Cereza (Kg)', 'Cebolla en Juliana x 260 g.',\n",
              "       'Frutas Surtidas Escurridas Almibaradas Villares x 250 g.',\n",
              "       'Hongos de Pino El Peoncito x 75 g.',\n",
              "       'Nuez Pecan con Cascara (Kg)',\n",
              "       'Maíz Frito Miel y Mostaza Atuel Valley x 30 g.', 'Durazno (Kg)',\n",
              "       'Cebolla Picada x 260 g.', 'Pelón (Kg)',\n",
              "       'Brotes de Alfalfa Atama Alimentos x 1 Un.',\n",
              "       'Papines Andinos x 600 g.', 'Girgolas x 150 g.',\n",
              "       'Almendras Conosur x 135 g.', 'Mix Coleslaw Rocky Rocky x 250 g.',\n",
              "       'Repollitos de Bruselas Apto Micro x 250 g.',\n",
              "       'Nuez Pecan Pelada Puerto Pecan x 250 g.',\n",
              "       'Maní Honey Roasted Dec Alimentos x 350 g.',\n",
              "       'Pipas Peladas sin Sal Pipas x 180 g.',\n",
              "       'Pipas Peladas Natural Pipas x 180 g.', 'Repollo Brusela (Kg)',\n",
              "       'Remolacha en Cubos La Anónima x 350 g.',\n",
              "       'Esparrago Envasado x 350 g.', 'Naranja Comercial Bolsita (Kg)',\n",
              "       'Mix de Frutas Seca-Semillas Granada El Peoncito x 100 g.',\n",
              "       'Tomates Deshidratados El Peoncito x 100 g.',\n",
              "       'Semillas de Sésamo El Peoncito x 100 g.',\n",
              "       'Mix de Frutas Conosur x 150 g.',\n",
              "       'Bocaditos de Higo c/Nuez Los Carolinos x 225 g.',\n",
              "       'Mix de Frutas Secas Mani Almendras Pasas Croppers x 100 g.',\n",
              "       'Mix de Frutas Secas Mani-Alm Cast Croppers x 100 g.',\n",
              "       'Maní Tostado sin Sal Maní King x 500 gr',\n",
              "       'Coliflor Envasado x 300 g.',\n",
              "       'Almendras Peladas Villares x 150 g.',\n",
              "       'Almendras Saladas y Tostadas El Peoncito x 100 g.',\n",
              "       'Nueces Peladas Mariposa Villares x 100 g.',\n",
              "       'Banana Chips El Peoncito x 150 g.',\n",
              "       'Ciruelas Secas Dagen El Peoncito x 500 g.',\n",
              "       'Ristra de Higos c/Nuez Aldeva x 200 g.',\n",
              "       'Mix de Semillas El Peoncito x 175 g.', 'Lechuga x unidad',\n",
              "       'Higos Negros Los Carolinos x 200 g.',\n",
              "       'Semillas de Lino El Peoncito x 175 g.',\n",
              "       'Mix Tropical El Peoncito x 200 g.',\n",
              "       'Pistacho c/Cascara Salado T Tostado El Peoncito x 200 g.',\n",
              "       'Almendras Pelada Mediana El Peoncito x 250 g.',\n",
              "       'Mix de Desayuno Alicante x 150 g.',\n",
              "       'Mix Patagónico El Peoncito x 250 g.',\n",
              "       'Mix Serrano El Peoncito x 250 g.',\n",
              "       'Almendras Enteras Grado Superior Buenos Vientos x 100 g.',\n",
              "       'Almendras Enteras Gr Sup Tostadas Buenos Vientos x 100 g.',\n",
              "       'Mix de Frutos Secos Seleccionados Buenos Vientos x 150 g.',\n",
              "       'Nuez Mariposa Grado Superior Buenos Vientos x 150 g.',\n",
              "       'Ciruelas Disecadas A.Rodriguez x 250 g.',\n",
              "       'Pasas de Uva Sultanina A.Rodriguez x 100 g.',\n",
              "       'Semillas Snack Girasol For Good x 120 g.', 'Ají Picante (Kg)',\n",
              "       'Ají Vinagre (Kg)', 'Pimiento Dulce Palermo (Kg)',\n",
              "       'Ciruelas Presidente s/Carozo Villares x 200 g.',\n",
              "       'Lima Tahiti (Kg)',\n",
              "       'Mix Frutas Secas Croppers Arándados Rojos x 100 g.',\n",
              "       'Pasas de Uva Sultanina Negra Pote Villares x 200 g.',\n",
              "       'Champignon Portobello Granel (Kg)',\n",
              "       'Mix Frutas Secas Croppers Nueces & Bananas x 100 g.',\n",
              "       'Lechuga Francesa (Kg)',\n",
              "       'Mix Frutas Secas Croppers Almendras & Arándanos x 100 g.',\n",
              "       'Lechuga Mantecosa (Kg)', 'Semillas de Girasol For Good x 125 g.',\n",
              "       'Sésamo Tostado For Good x 150 g.', 'Tomate Comercial Chico (Kg)',\n",
              "       'Alcayota (Kg)', 'Manzana Variedades (Kg)',\n",
              "       'Plantines Chicos x 1 Un.', 'Ají Dulce (Kg)',\n",
              "       'Hongos Secos El Peoncito x 50 g.', 'Arándanos x 125 gr',\n",
              "       'Semillas de Lino El Peoncito x 100 g.',\n",
              "       'Maíz Frito y Salado El Peoncito x 100 g.',\n",
              "       'Berro Hidropónico x 1 Un.', 'Achicoria (Kg)',\n",
              "       'Maní Tostado con Pasas de Uva Croppers x 100 g.',\n",
              "       'Almendras Tostadas Saladas Croppers x 80 g.', 'Alcaucil (Kg)',\n",
              "       'Avellanas Peladas Allhue x 100 g.',\n",
              "       'Mix de Frutos Secos y Pasas Europeo El Peoncito x 100 g.',\n",
              "       'Nueces Peladas Mariposa Allhue x 100 g.',\n",
              "       'Almendras Peladas Allhue x 100 g.',\n",
              "       'Radicheta Sueño Verde x 100 g.', 'Rúcula Sueño Verde x 100 g.',\n",
              "       'Achicoria Envasada x 150 g.', 'Radicheta Envasada x 70 gr',\n",
              "       'Pasas de Uva Sultanina Rubias El Peoncito x 100 g.',\n",
              "       'Ciboulette Envasado x 70 gr', 'Plantines de Hortalizas x 1 Un.',\n",
              "       'Pimienta Negra En Grano 50 Gr', 'Oregano Deshidratado',\n",
              "       'Ajo Deshidratado Molido', 'Pimenton Extra X 50 Grs',\n",
              "       'Adobo Para Pizza 100 Gr', 'Condimento Para Pizza X 100 Grs',\n",
              "       'Ají Molido 100 Gr', 'Aji  Deshidratado Molido',\n",
              "       'Condimento Para Preparar Pesto X 100 Grs', 'Sal De Ajo X 100 Grs',\n",
              "       'Chimichurri Clasico Deshidratado', 'Huevos Blancos Maxima 30 U',\n",
              "       'Huevos Blancos Doña Lala Maple X 30 U',\n",
              "       'Huevos Blancos Avicoper 30 U',\n",
              "       'Huevos Libres De Jaula Cuisine &co X6',\n",
              "       'Huevos Blancos Avicoper 6 U - 1 Paquete',\n",
              "       'Huevos Blancos Doña Lala X 12u Carton',\n",
              "       'Huevo Color  Avicereal Media Docena Caja X 6',\n",
              "       'Huevos De Color Avicoper 12 U - 1 Paquete',\n",
              "       'Lentejas A Granel 500 Gr', 'Arroz Yamani 400 Gr',\n",
              "       'Harina De Garbanzo', 'Garbanzos X 500 Gr-bsa-gr.-500',\n",
              "       'Harina De Lino-bolsa-gr.-250', 'Mezcla De Semillas Nativa 250 Gr',\n",
              "       'Harina De Quinoa-bsa-gr.-250', 'Poroto A Granel Vegetales 500 Gr',\n",
              "       'Mix Wok For Good 120 Gr', 'Lentejas A Granel 250 Gr',\n",
              "       'Zanahoria Orgánica Fraccionada X 1 Kilo', 'Ajo Organico X 3',\n",
              "       'Pera Orgánica', 'Palta Hass Organica X Unidad',\n",
              "       'Mix Puerro Y Verde', 'Cebolla Cobriza Organica Fraccionada',\n",
              "       'Banana Ecuador Por Kg', 'Palta Hass Elegida Unidad',\n",
              "       'Almendras Peladas Sueltas X Kg',\n",
              "       'Nueces Mariposa Sin Cascara Por Kg',\n",
              "       'Naranja Jugo Especial Por Kg', 'Manzana Roja Por Kg',\n",
              "       'Naranja Para Jugo El Kg.', 'Limón X Kg', 'Castañas De Caju 1 Kg.',\n",
              "       'Piña Gold X Kg', 'Melón Blanco Por Kg', 'Castañas De Caju 150 Gr',\n",
              "       'Lima X Kg', 'Frambuesas X400g Green Life',\n",
              "       'Pera Red Battler  1 Kg', 'Granola Berries X 400gr',\n",
              "       'Manzana Rome 1 Kg', 'Frutillas Karinat X300g', 'Datiles X Kg.',\n",
              "       'Plátano X Kg', 'Granola Energética X 400gr',\n",
              "       'Mix Enegertico - Sin Tacc',\n",
              "       'Castañas De Caju Tostadas Y Saladas - Sin Tacc',\n",
              "       'Granola Tropical X 400gr',\n",
              "       'Granola Frutos Secos, Semillas Y Miel X 1kg',\n",
              "       'Higos De Smirna 200 Gr', 'Damascos Turcos Pote 200 Gr',\n",
              "       'Granberries  Pote 100 Gr', 'Kaqui X Kg',\n",
              "       'Pizzitos De Jamón Y Queso Nikitos 80 Gr',\n",
              "       'Papas Fritas Nikitos Clasicas 100 Gr',\n",
              "       'Peras Desecadas X 150 Grs-pot-un.-1',\n",
              "       'Mix De Frutas Secas Y Desecadas Por U', 'Mix Fitness 150 Grs',\n",
              "       'Maní 150 Gr', 'Mix Saludable X 300g Kosfood',\n",
              "       'Cookies Coco Mix Green Choice 150 Gr.',\n",
              "       'Mix Desayuno X 300 Gr Sin Marca', 'Mix Energetico X 100g Kosfood',\n",
              "       'School Mix Green Choice', 'Mix Patagonico X 100g Kosfood',\n",
              "       'Mix Tropical X 200g Kosfood'], dtype=object)"
            ]
          },
          "execution_count": 10,
          "metadata": {},
          "output_type": "execute_result"
        }
      ],
      "source": [
        "frutas_verduras['Producto'].unique()"
      ]
    },
    {
      "cell_type": "markdown",
      "metadata": {
        "id": "mxPsnrV6riGR"
      },
      "source": [
        "## **1. Módulo de Captura de entradas por texto y audio:**"
      ]
    },
    {
      "cell_type": "markdown",
      "metadata": {},
      "source": [
        "### a. Captura de entradas de texto"
      ]
    },
    {
      "cell_type": "code",
      "execution_count": null,
      "metadata": {},
      "outputs": [],
      "source": [
        "#Conexion con api de fast-api\n",
        "# aui iria la conexion con un script encargado de conectar con la api de fast-api"
      ]
    },
    {
      "cell_type": "code",
      "execution_count": null,
      "metadata": {},
      "outputs": [],
      "source": [
        "texto_prueba = 'estoy buscando tomates en ofrta pero que esten bien rojitos :p'"
      ]
    },
    {
      "cell_type": "markdown",
      "metadata": {},
      "source": [
        "### b. Captura de Audio"
      ]
    },
    {
      "cell_type": "markdown",
      "metadata": {},
      "source": [
        "*Bugs*\n",
        "\n",
        "- Recibo algun id de consulta, cliente? (lo necesito para gestionar la consulta de manera eficiente)\n",
        "- Definir como se llamara a la funcion chatbot\n",
        "    - Definir el anidamiento de funciones, para que con solo llamar a chatbot, me entregue el resultado (lista de productos limpia)"
      ]
    },
    {
      "cell_type": "code",
      "execution_count": null,
      "metadata": {
        "id": "8bLph4ehd_0_"
      },
      "outputs": [],
      "source": [
        "SAMPLE_RATE = 44100  # Tasa de muestreo\n",
        "DURATION = 10  # Duración de la grabación en segundos\n",
        "AUDIO_FILES_PATH = \"../datos/brutos/audios_proc_habla/\"\n",
        "FILENAME = \"output\"  # Nombre del archivo de salida\n",
        "EXTENCION_ENTRADA = '.wav'\n",
        "EXTENCION_SALIDA = '.aiff'"
      ]
    },
    {
      "cell_type": "code",
      "execution_count": null,
      "metadata": {},
      "outputs": [],
      "source": [
        "ruta_audio_entrada = AUDIO_FILES_PATH + FILENAME + EXTENCION_ENTRADA\n",
        "ruta_audio_entrada_convertido = AUDIO_FILES_PATH + 'waw_conv_' + FILENAME + EXTENCION_SALIDA"
      ]
    },
    {
      "cell_type": "code",
      "execution_count": null,
      "metadata": {
        "id": "5W7StwLecqQV"
      },
      "outputs": [],
      "source": [
        "def record_audio(audio_file_path = AUDIO_FILES_PATH, filename = FILENAME, duration = DURATION, sample_rate = SAMPLE_RATE):\n",
        "    print(\"Grabando...\")\n",
        "    # Grabar audio con 1 canal (mono)\n",
        "    recording = sd.rec(int(duration * sample_rate), samplerate=sample_rate, channels=1)\n",
        "    sd.wait()  # Esperar a que termine la grabación\n",
        "    print(\"Grabación finalizada\")\n",
        "    write(ruta_audio_entrada, sample_rate, recording)\n",
        "    return filename"
      ]
    },
    {
      "cell_type": "code",
      "execution_count": null,
      "metadata": {},
      "outputs": [],
      "source": [
        "def convert_to_wav(input_file = ruta_audio_entrada, output_file = ruta_audio_entrada_convertido):\n",
        "    sound = AudioSegment.from_file(input_file)\n",
        "    sound.export(output_file, format=\"aiff\")"
      ]
    },
    {
      "cell_type": "code",
      "execution_count": null,
      "metadata": {},
      "outputs": [],
      "source": [
        "def chatbot():\n",
        "    record_audio()"
      ]
    },
    {
      "cell_type": "code",
      "execution_count": null,
      "metadata": {},
      "outputs": [],
      "source": [
        "chatbot()"
      ]
    },
    {
      "cell_type": "code",
      "execution_count": null,
      "metadata": {},
      "outputs": [],
      "source": [
        "# Uso de la función convert_to_wav\n",
        "convert_to_wav(ruta_audio_entrada, ruta_audio_entrada_convertido)"
      ]
    },
    {
      "cell_type": "markdown",
      "metadata": {
        "id": "c6PxS_YcrlCZ"
      },
      "source": [
        "#### Reconocimiento del Habla (ASR - Automatic Speech Recognition):"
      ]
    },
    {
      "cell_type": "code",
      "execution_count": null,
      "metadata": {
        "id": "YfbVSNU0m3N4"
      },
      "outputs": [],
      "source": [
        "# Crear un objeto Recognizer\n",
        "recognizer = sr.Recognizer()"
      ]
    },
    {
      "cell_type": "code",
      "execution_count": null,
      "metadata": {},
      "outputs": [],
      "source": [
        "def recognize_speech():\n",
        "    recognizer = sr.Recognizer()\n",
        "\n",
        "    try:\n",
        "        with sr.AudioFile(ruta_audio_entrada_convertido) as source:\n",
        "            audio_data = recognizer.record(source)\n",
        "            text = recognizer.recognize_sphinx(audio_data, language=\"es-ES\")\n",
        "            print(\"Texto reconocido:\", text)\n",
        "    except sr.UnknownValueError:\n",
        "        print(\"No se pudo entender el audio\")\n",
        "    except sr.RequestError as e:\n",
        "        print(\"Error al solicitar resultados de reconocimiento de voz; {0}\".format(e))"
      ]
    },
    {
      "cell_type": "code",
      "execution_count": null,
      "metadata": {},
      "outputs": [],
      "source": [
        "# Ejecutar la función para reconocer el discurso\n",
        "recognize_speech()"
      ]
    },
    {
      "cell_type": "code",
      "execution_count": null,
      "metadata": {
        "id": "xEwSWIZcp4zp"
      },
      "outputs": [],
      "source": [
        "# Abrir el archivo de audio\n",
        "def transcribe_audio(audio_lang = 'es-ES'):\n",
        "    with sr.AudioFile(ruta_audio_entrada_convertido) as source:\n",
        "        # Escuchar el audio (en inglés)\n",
        "        audio = recognizer.record(source)\n",
        "\n",
        "        # Utilizar Google Speech Recognition para transcribir el audio\n",
        "        try:\n",
        "            text = recognizer.recognize_google(audio, audio_lang)\n",
        "            print(\"Transcripción: \", text)\n",
        "            return text\n",
        "        except sr.UnknownValueError:\n",
        "            print(\"No se pudo entender el audio\")\n",
        "        except sr.RequestError as e:\n",
        "            print(\"Error al solicitar resultados del servicio Google Speech Recognition; {0}\".format(e))"
      ]
    },
    {
      "cell_type": "code",
      "execution_count": null,
      "metadata": {
        "id": "sK32Iyq1Y7QR"
      },
      "outputs": [],
      "source": [
        "transcribe_audio()"
      ]
    },
    {
      "cell_type": "code",
      "execution_count": null,
      "metadata": {
        "id": "pxpKQFiNm7m-"
      },
      "outputs": [],
      "source": [
        "# Transcribir y mostrar el resultado\n",
        "text = transcribe_audio(audio_file_path, audio_lang)"
      ]
    },
    {
      "cell_type": "markdown",
      "metadata": {
        "id": "AcUSQzM7qsxY"
      },
      "source": [
        "## **2. Procesamiento del Lenguaje Natural (NLP)**"
      ]
    },
    {
      "cell_type": "code",
      "execution_count": null,
      "metadata": {},
      "outputs": [],
      "source": [
        "!pip install spacy"
      ]
    },
    {
      "cell_type": "code",
      "execution_count": 16,
      "metadata": {},
      "outputs": [
        {
          "name": "stdout",
          "output_type": "stream",
          "text": [
            "Collecting es-core-news-sm==3.7.0\n",
            "  Downloading https://github.com/explosion/spacy-models/releases/download/es_core_news_sm-3.7.0/es_core_news_sm-3.7.0-py3-none-any.whl (12.9 MB)\n",
            "\u001b[2K     \u001b[90m━━━━━━━━━━━━━━━━━━━━━━━━━━━━━━━━━━━━━━━━\u001b[0m \u001b[32m12.9/12.9 MB\u001b[0m \u001b[31m1.3 MB/s\u001b[0m eta \u001b[36m0:00:00\u001b[0m00:01\u001b[0m00:01\u001b[0m\n",
            "\u001b[?25hRequirement already satisfied: spacy<3.8.0,>=3.7.0 in /Library/Frameworks/Python.framework/Versions/3.11/lib/python3.11/site-packages (from es-core-news-sm==3.7.0) (3.7.4)\n",
            "Requirement already satisfied: spacy-legacy<3.1.0,>=3.0.11 in /Library/Frameworks/Python.framework/Versions/3.11/lib/python3.11/site-packages (from spacy<3.8.0,>=3.7.0->es-core-news-sm==3.7.0) (3.0.12)\n",
            "Requirement already satisfied: spacy-loggers<2.0.0,>=1.0.0 in /Library/Frameworks/Python.framework/Versions/3.11/lib/python3.11/site-packages (from spacy<3.8.0,>=3.7.0->es-core-news-sm==3.7.0) (1.0.5)\n",
            "Requirement already satisfied: murmurhash<1.1.0,>=0.28.0 in /Library/Frameworks/Python.framework/Versions/3.11/lib/python3.11/site-packages (from spacy<3.8.0,>=3.7.0->es-core-news-sm==3.7.0) (1.0.10)\n",
            "Requirement already satisfied: cymem<2.1.0,>=2.0.2 in /Library/Frameworks/Python.framework/Versions/3.11/lib/python3.11/site-packages (from spacy<3.8.0,>=3.7.0->es-core-news-sm==3.7.0) (2.0.8)\n",
            "Requirement already satisfied: preshed<3.1.0,>=3.0.2 in /Library/Frameworks/Python.framework/Versions/3.11/lib/python3.11/site-packages (from spacy<3.8.0,>=3.7.0->es-core-news-sm==3.7.0) (3.0.9)\n",
            "Requirement already satisfied: thinc<8.3.0,>=8.2.2 in /Library/Frameworks/Python.framework/Versions/3.11/lib/python3.11/site-packages (from spacy<3.8.0,>=3.7.0->es-core-news-sm==3.7.0) (8.2.3)\n",
            "Requirement already satisfied: wasabi<1.2.0,>=0.9.1 in /Library/Frameworks/Python.framework/Versions/3.11/lib/python3.11/site-packages (from spacy<3.8.0,>=3.7.0->es-core-news-sm==3.7.0) (1.1.2)\n",
            "Requirement already satisfied: srsly<3.0.0,>=2.4.3 in /Library/Frameworks/Python.framework/Versions/3.11/lib/python3.11/site-packages (from spacy<3.8.0,>=3.7.0->es-core-news-sm==3.7.0) (2.4.8)\n",
            "Requirement already satisfied: catalogue<2.1.0,>=2.0.6 in /Library/Frameworks/Python.framework/Versions/3.11/lib/python3.11/site-packages (from spacy<3.8.0,>=3.7.0->es-core-news-sm==3.7.0) (2.0.10)\n",
            "Requirement already satisfied: weasel<0.4.0,>=0.1.0 in /Library/Frameworks/Python.framework/Versions/3.11/lib/python3.11/site-packages (from spacy<3.8.0,>=3.7.0->es-core-news-sm==3.7.0) (0.3.4)\n",
            "Requirement already satisfied: typer<0.10.0,>=0.3.0 in /Library/Frameworks/Python.framework/Versions/3.11/lib/python3.11/site-packages (from spacy<3.8.0,>=3.7.0->es-core-news-sm==3.7.0) (0.9.0)\n",
            "Requirement already satisfied: smart-open<7.0.0,>=5.2.1 in /Library/Frameworks/Python.framework/Versions/3.11/lib/python3.11/site-packages (from spacy<3.8.0,>=3.7.0->es-core-news-sm==3.7.0) (6.4.0)\n",
            "Requirement already satisfied: tqdm<5.0.0,>=4.38.0 in /Library/Frameworks/Python.framework/Versions/3.11/lib/python3.11/site-packages (from spacy<3.8.0,>=3.7.0->es-core-news-sm==3.7.0) (4.66.1)\n",
            "Requirement already satisfied: requests<3.0.0,>=2.13.0 in /Users/cristianariel/Library/Python/3.11/lib/python/site-packages (from spacy<3.8.0,>=3.7.0->es-core-news-sm==3.7.0) (2.31.0)\n",
            "Requirement already satisfied: pydantic!=1.8,!=1.8.1,<3.0.0,>=1.7.4 in /Library/Frameworks/Python.framework/Versions/3.11/lib/python3.11/site-packages (from spacy<3.8.0,>=3.7.0->es-core-news-sm==3.7.0) (2.6.3)\n",
            "Requirement already satisfied: jinja2 in /Library/Frameworks/Python.framework/Versions/3.11/lib/python3.11/site-packages (from spacy<3.8.0,>=3.7.0->es-core-news-sm==3.7.0) (3.1.2)\n",
            "Requirement already satisfied: setuptools in /Library/Frameworks/Python.framework/Versions/3.11/lib/python3.11/site-packages (from spacy<3.8.0,>=3.7.0->es-core-news-sm==3.7.0) (65.5.0)\n",
            "Requirement already satisfied: packaging>=20.0 in /Users/cristianariel/Library/Python/3.11/lib/python/site-packages (from spacy<3.8.0,>=3.7.0->es-core-news-sm==3.7.0) (23.1)\n",
            "Requirement already satisfied: langcodes<4.0.0,>=3.2.0 in /Library/Frameworks/Python.framework/Versions/3.11/lib/python3.11/site-packages (from spacy<3.8.0,>=3.7.0->es-core-news-sm==3.7.0) (3.4.0)\n",
            "Requirement already satisfied: numpy>=1.19.0 in /Library/Frameworks/Python.framework/Versions/3.11/lib/python3.11/site-packages (from spacy<3.8.0,>=3.7.0->es-core-news-sm==3.7.0) (1.25.2)\n",
            "Requirement already satisfied: language-data>=1.2 in /Library/Frameworks/Python.framework/Versions/3.11/lib/python3.11/site-packages (from langcodes<4.0.0,>=3.2.0->spacy<3.8.0,>=3.7.0->es-core-news-sm==3.7.0) (1.2.0)\n",
            "Requirement already satisfied: annotated-types>=0.4.0 in /Library/Frameworks/Python.framework/Versions/3.11/lib/python3.11/site-packages (from pydantic!=1.8,!=1.8.1,<3.0.0,>=1.7.4->spacy<3.8.0,>=3.7.0->es-core-news-sm==3.7.0) (0.6.0)\n",
            "Requirement already satisfied: pydantic-core==2.16.3 in /Library/Frameworks/Python.framework/Versions/3.11/lib/python3.11/site-packages (from pydantic!=1.8,!=1.8.1,<3.0.0,>=1.7.4->spacy<3.8.0,>=3.7.0->es-core-news-sm==3.7.0) (2.16.3)\n",
            "Requirement already satisfied: typing-extensions>=4.6.1 in /Library/Frameworks/Python.framework/Versions/3.11/lib/python3.11/site-packages (from pydantic!=1.8,!=1.8.1,<3.0.0,>=1.7.4->spacy<3.8.0,>=3.7.0->es-core-news-sm==3.7.0) (4.8.0)\n",
            "Requirement already satisfied: charset-normalizer<4,>=2 in /Users/cristianariel/Library/Python/3.11/lib/python/site-packages (from requests<3.0.0,>=2.13.0->spacy<3.8.0,>=3.7.0->es-core-news-sm==3.7.0) (3.2.0)\n",
            "Requirement already satisfied: idna<4,>=2.5 in /Users/cristianariel/Library/Python/3.11/lib/python/site-packages (from requests<3.0.0,>=2.13.0->spacy<3.8.0,>=3.7.0->es-core-news-sm==3.7.0) (3.4)\n",
            "Requirement already satisfied: urllib3<3,>=1.21.1 in /Users/cristianariel/Library/Python/3.11/lib/python/site-packages (from requests<3.0.0,>=2.13.0->spacy<3.8.0,>=3.7.0->es-core-news-sm==3.7.0) (2.0.4)\n",
            "Requirement already satisfied: certifi>=2017.4.17 in /Users/cristianariel/Library/Python/3.11/lib/python/site-packages (from requests<3.0.0,>=2.13.0->spacy<3.8.0,>=3.7.0->es-core-news-sm==3.7.0) (2023.7.22)\n",
            "Requirement already satisfied: blis<0.8.0,>=0.7.8 in /Library/Frameworks/Python.framework/Versions/3.11/lib/python3.11/site-packages (from thinc<8.3.0,>=8.2.2->spacy<3.8.0,>=3.7.0->es-core-news-sm==3.7.0) (0.7.11)\n",
            "Requirement already satisfied: confection<1.0.0,>=0.0.1 in /Library/Frameworks/Python.framework/Versions/3.11/lib/python3.11/site-packages (from thinc<8.3.0,>=8.2.2->spacy<3.8.0,>=3.7.0->es-core-news-sm==3.7.0) (0.1.4)\n",
            "Requirement already satisfied: click<9.0.0,>=7.1.1 in /Library/Frameworks/Python.framework/Versions/3.11/lib/python3.11/site-packages (from typer<0.10.0,>=0.3.0->spacy<3.8.0,>=3.7.0->es-core-news-sm==3.7.0) (8.1.7)\n",
            "Requirement already satisfied: cloudpathlib<0.17.0,>=0.7.0 in /Library/Frameworks/Python.framework/Versions/3.11/lib/python3.11/site-packages (from weasel<0.4.0,>=0.1.0->spacy<3.8.0,>=3.7.0->es-core-news-sm==3.7.0) (0.16.0)\n",
            "Requirement already satisfied: MarkupSafe>=2.0 in /Library/Frameworks/Python.framework/Versions/3.11/lib/python3.11/site-packages (from jinja2->spacy<3.8.0,>=3.7.0->es-core-news-sm==3.7.0) (2.1.3)\n",
            "Requirement already satisfied: marisa-trie>=0.7.7 in /Library/Frameworks/Python.framework/Versions/3.11/lib/python3.11/site-packages (from language-data>=1.2->langcodes<4.0.0,>=3.2.0->spacy<3.8.0,>=3.7.0->es-core-news-sm==3.7.0) (1.1.1)\n",
            "Installing collected packages: es-core-news-sm\n",
            "Successfully installed es-core-news-sm-3.7.0\n",
            "\u001b[38;5;2m✔ Download and installation successful\u001b[0m\n",
            "You can now load the package via spacy.load('es_core_news_sm')\n"
          ]
        }
      ],
      "source": [
        "# Descargar el modelo de spaCy para español desde un Jupyter Notebook\n",
        "!python3 -m spacy download es_core_news_sm"
      ]
    },
    {
      "cell_type": "code",
      "execution_count": 17,
      "metadata": {},
      "outputs": [],
      "source": [
        "import spacy"
      ]
    },
    {
      "cell_type": "code",
      "execution_count": 18,
      "metadata": {},
      "outputs": [],
      "source": [
        "# Cargar el modelo de spaCy para español\n",
        "nlp = spacy.load(\"es_core_news_sm\")"
      ]
    },
    {
      "cell_type": "markdown",
      "metadata": {
        "id": "HDaWq5syqu6m"
      },
      "source": [
        "### **Preprocesamiento de Texto:**\n"
      ]
    },
    {
      "cell_type": "code",
      "execution_count": null,
      "metadata": {},
      "outputs": [],
      "source": [
        "def filtrar_por_estructura_gramatical(producto):\n",
        "    # Procesar el texto con spaCy\n",
        "    doc = nlp(producto.lower())\n",
        "    \n",
        "    # Filtrar palabras basadas en partes del discurso\n",
        "    palabras_filtradas = [token.text for token in doc if token.pos_ in ('NOUN', 'ADJ', 'ADP')]\n",
        "    \n",
        "    if palabras_filtradas:\n",
        "        return ' '.join(palabras_filtradas)\n",
        "    else:\n",
        "        return None\n",
        "\n",
        "# Aplicar la función al DataFrame\n",
        "df['producto_filtrado'] = df['productos'].apply(filtrar_por_estructura_gramatical)\n",
        "\n",
        "# Eliminar filas con valores nulos\n",
        "df = df.dropna()\n",
        "\n",
        "print(df)\n"
      ]
    },
    {
      "cell_type": "code",
      "execution_count": 28,
      "metadata": {},
      "outputs": [],
      "source": [
        "def procesar_texto(texto):\n",
        "    texto = texto.lower()\n",
        "    texto = re.sub(r'<.*?>', ' ', self.texto)\n",
        "    texto = re.sub(r'\\s+', ' ', self.texto)\n",
        "\n",
        "    doc = nlp(texto)\n",
        "\n",
        "    tokens = [token.text for token in doc]\n",
        "    lemmas = [token.lemma_ for token in doc]\n",
        "    stopwords = spacy.lang.es.stop_words.STOP_WORDS\n",
        "    filtered_tokens = [token.text for token in doc if token.text not in stopwords and token.pos_ in ('NOUN', 'ADJ', 'ADP')]\n",
        "    pos_tags = [(token.text, token.pos_) for token in doc]\n",
        "    entities = [(ent.text, ent.label_) for ent in doc.ents]\n",
        "\n",
        "    return {\n",
        "        \"tokens\": tokens,\n",
        "        \"lemmas\": lemmas,\n",
        "        \"filtered_tokens\": filtered_tokens,\n",
        "        \"pos_tags\": pos_tags,\n",
        "        \"entities\": entities\n",
        "    }"
      ]
    },
    {
      "cell_type": "markdown",
      "metadata": {
        "id": "FLfTLCw2q8IM"
      },
      "source": [
        "\n",
        "**Normalización del texto (eliminación de ruido, corrección ortográfica, etc.)**"
      ]
    },
    {
      "cell_type": "code",
      "execution_count": 30,
      "metadata": {
        "id": "B6Br9PyerAkd"
      },
      "outputs": [],
      "source": [
        "texto_analizado = analizar_texto(texto_prueba)"
      ]
    },
    {
      "cell_type": "markdown",
      "metadata": {
        "id": "vrKl19tGq9KJ"
      },
      "source": [
        "**Tokenización**"
      ]
    },
    {
      "cell_type": "code",
      "execution_count": 31,
      "metadata": {
        "id": "f5IX1gghrBXD"
      },
      "outputs": [],
      "source": [
        "tokens = texto_analizado['tokens']"
      ]
    },
    {
      "cell_type": "code",
      "execution_count": 34,
      "metadata": {},
      "outputs": [
        {
          "data": {
            "text/plain": [
              "['estoy',\n",
              " 'buscando',\n",
              " 'tomates',\n",
              " 'en',\n",
              " 'ofrta',\n",
              " 'pero',\n",
              " 'que',\n",
              " 'esten',\n",
              " 'bien',\n",
              " 'rojitos',\n",
              " ':p']"
            ]
          },
          "execution_count": 34,
          "metadata": {},
          "output_type": "execute_result"
        }
      ],
      "source": [
        "tokens#[:-5]"
      ]
    },
    {
      "cell_type": "markdown",
      "metadata": {
        "id": "xVbV-FF5q-af"
      },
      "source": [
        "**Eliminación de stop words.**\n"
      ]
    },
    {
      "cell_type": "code",
      "execution_count": null,
      "metadata": {
        "id": "TY1ASrUnrB3I"
      },
      "outputs": [],
      "source": [
        "tokens_filtrados = texto_analizado[filtered_tokens]"
      ]
    },
    {
      "cell_type": "markdown",
      "metadata": {
        "id": "Lt4d5DQcq_xW"
      },
      "source": [
        "**Lematización y stemming**"
      ]
    },
    {
      "cell_type": "code",
      "execution_count": null,
      "metadata": {
        "id": "ZkAeKi67rCfu"
      },
      "outputs": [],
      "source": [
        "lemmas = texto_analizado[lemmas]"
      ]
    },
    {
      "cell_type": "markdown",
      "metadata": {},
      "source": [
        "Etiquetado de estructuras gramaticales:"
      ]
    },
    {
      "cell_type": "code",
      "execution_count": null,
      "metadata": {},
      "outputs": [],
      "source": [
        "pos_tags = texto_analizado[filtered_tokens]"
      ]
    },
    {
      "cell_type": "markdown",
      "metadata": {},
      "source": [
        "Reconocimiento de entidades"
      ]
    },
    {
      "cell_type": "code",
      "execution_count": null,
      "metadata": {},
      "outputs": [],
      "source": [
        "entities = texto_analizado[entities]"
      ]
    },
    {
      "cell_type": "markdown",
      "metadata": {
        "id": "C9ZvYH9dq1GY"
      },
      "source": [
        "### **Análisis de Texto:**\n"
      ]
    },
    {
      "cell_type": "markdown",
      "metadata": {
        "id": "wSCEB3hpr2y6"
      },
      "source": [
        "Análisis de Sentimiento: Determinar la emoción o tono del texto.\n"
      ]
    },
    {
      "cell_type": "code",
      "execution_count": null,
      "metadata": {
        "id": "QtrOgErkr4PD"
      },
      "outputs": [],
      "source": [
        "#para futuras versiones"
      ]
    },
    {
      "cell_type": "markdown",
      "metadata": {
        "id": "hzhTpz0qr4lW"
      },
      "source": [
        "Detección de Intenciones (Intent Detection): Identificar la intención del usuario utilizando modelos como BERT, GPT, RASA, etc.\n"
      ]
    },
    {
      "cell_type": "code",
      "execution_count": null,
      "metadata": {
        "id": "lEYOkzT7r8Pj"
      },
      "outputs": [],
      "source": [
        "#para futuras versiones"
      ]
    },
    {
      "cell_type": "markdown",
      "metadata": {
        "id": "_ibsChXBsNdX"
      },
      "source": [
        "## **3. Gestión del Diálogo**"
      ]
    },
    {
      "cell_type": "markdown",
      "metadata": {
        "id": "zEnB65VssQvq"
      },
      "source": [
        "### Módulo de Gestión de Estado:\n",
        "Llevar un registro del contexto y estado del diálogo para mantener conversaciones coherentes.\n"
      ]
    },
    {
      "cell_type": "code",
      "execution_count": null,
      "metadata": {
        "id": "3ECriCX3sVWu"
      },
      "outputs": [],
      "source": []
    },
    {
      "cell_type": "markdown",
      "metadata": {
        "id": "BByh2AXGsVmJ"
      },
      "source": [
        "### Motor de Respuesta:\n"
      ]
    },
    {
      "cell_type": "markdown",
      "metadata": {
        "id": "j15ewWSasb4F"
      },
      "source": [
        "Generación de Respuestas: Utilizar modelos generativos (como GPT-3) o respuestas predefinidas según las intenciones y entidades detectadas.\n"
      ]
    },
    {
      "cell_type": "code",
      "execution_count": null,
      "metadata": {
        "id": "UjnjzK3gseaL"
      },
      "outputs": [],
      "source": []
    },
    {
      "cell_type": "markdown",
      "metadata": {
        "id": "xgvv-ETKsenO"
      },
      "source": [
        "Selección de Respuestas: Elegir la mejor respuesta entre varias opciones generadas.\n"
      ]
    },
    {
      "cell_type": "code",
      "execution_count": null,
      "metadata": {
        "id": "3t1AFBk2sf1P"
      },
      "outputs": [],
      "source": []
    },
    {
      "cell_type": "markdown",
      "metadata": {
        "id": "QntMxU6_shpm"
      },
      "source": [
        "### Personalización y Contexto: Adaptar las respuestas en función del historial del usuario y el contexto actual."
      ]
    },
    {
      "cell_type": "code",
      "execution_count": null,
      "metadata": {
        "id": "MU_3as2dsi2S"
      },
      "outputs": [],
      "source": []
    },
    {
      "cell_type": "markdown",
      "metadata": {
        "id": "9-sSu2b0soDe"
      },
      "source": [
        "## 4. Salida de Usuario (Text-to-Speech)\n"
      ]
    },
    {
      "cell_type": "markdown",
      "metadata": {
        "id": "q5eR9QLTssCK"
      },
      "source": [
        "### Conversión de Texto a Voz (TTS): Utilizar servicios como Google Text-to-Speech, Amazon Polly, o frameworks como Tacotron para convertir el texto generado en voz.\n"
      ]
    },
    {
      "cell_type": "code",
      "execution_count": null,
      "metadata": {
        "id": "kzi_CA2tswVF"
      },
      "outputs": [],
      "source": []
    },
    {
      "cell_type": "markdown",
      "metadata": {
        "id": "u3TVK99Wswe8"
      },
      "source": [
        "### Reproducción de Audio: Entregar la respuesta de voz al usuario."
      ]
    },
    {
      "cell_type": "code",
      "execution_count": null,
      "metadata": {
        "id": "TOKovFuVsyaD"
      },
      "outputs": [],
      "source": []
    }
  ],
  "metadata": {
    "accelerator": "GPU",
    "colab": {
      "gpuType": "T4",
      "provenance": []
    },
    "kernelspec": {
      "display_name": "Python 3",
      "name": "python3"
    },
    "language_info": {
      "codemirror_mode": {
        "name": "ipython",
        "version": 3
      },
      "file_extension": ".py",
      "mimetype": "text/x-python",
      "name": "python",
      "nbconvert_exporter": "python",
      "pygments_lexer": "ipython3",
      "version": "3.11.4"
    }
  },
  "nbformat": 4,
  "nbformat_minor": 0
}
